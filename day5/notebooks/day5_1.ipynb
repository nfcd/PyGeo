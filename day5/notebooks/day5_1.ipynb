{
 "cells": [
  {
   "cell_type": "markdown",
   "id": "6d24cbac",
   "metadata": {},
   "source": [
    "# Day 5-Part 1: Well logs\n",
    "\n",
    "Although quite local, well data, logs and cores, are the closest observations we have of the subsurface (with the exception of caves at shallow depths). In this notebook, we will analyse a set of well logs from the Central Graben, North Sea. The dataset consists of 39 well logs, and one Excel spreadsheet containing the location of the wells and the top and base of the Rogaland Group (Paleocene-Eocene).\n",
    "\n",
    "The well logs are from NPD's [Diskos](https://www.npd.no/en/diskos/) public portal. This dataset is analyzed in [Adrian Kirkhus' UiS Master thesis](https://uis.brage.unit.no/uis-xmlui/handle/11250/3024570).\n",
    "\n",
    "Let's start with the preliminars:"
   ]
  },
  {
   "cell_type": "code",
   "execution_count": null,
   "id": "46eba215",
   "metadata": {},
   "outputs": [],
   "source": [
    "# 1. Import libraries\n",
    "import os\n",
    "import glob\n",
    "import numpy as np\n",
    "import matplotlib.pyplot as plt\n",
    "import pandas as pd"
   ]
  },
  {
   "cell_type": "markdown",
   "id": "098e04b6",
   "metadata": {},
   "source": [
    "2. Download the data from the following **link**. Unzip the file and put the `rogaland_group` folder in the `day5/data` folder.\n",
    "\n",
    "**Note**: *Notice that since the data are from NPD-Diskos, I can't provide it in the repository. If you are in Norway, please contact [me](mailto:nestor.cardozo@uis.no) and I can provide the link.*"
   ]
  },
  {
   "cell_type": "markdown",
   "id": "cdbad86c",
   "metadata": {},
   "source": [
    "Now, let's import the spreadsheet containing the location of the wells, and top and base of the Rogaland group:"
   ]
  },
  {
   "cell_type": "code",
   "execution_count": null,
   "id": "dc45531e",
   "metadata": {},
   "outputs": [],
   "source": [
    "# import Rogaland Gp coordinates as pandas DataFrame\n",
    "rg_gp = pd.read_excel(os.path.join(\"..\", \"data\", \"rogaland_group\", \"RogalandGp.xlsx\"))\n",
    "rg_gp.head()"
   ]
  },
  {
   "cell_type": "markdown",
   "id": "b5a813de",
   "metadata": {},
   "source": [
    "Let's plot the wells' locations:"
   ]
  },
  {
   "cell_type": "code",
   "execution_count": null,
   "id": "efb9eeee",
   "metadata": {},
   "outputs": [],
   "source": [
    "# plot wells\" locations\n",
    "\n",
    "# make figure\n",
    "fig, ax = plt.subplots(figsize=(8,6))\n",
    "\n",
    "# plot wells and labels\n",
    "for i in range(rg_gp.shape[0]):\n",
    "    ax.plot(rg_gp.iloc[i,1], rg_gp.iloc[i,2], \"ro\", markersize=4)\n",
    "    ax.text(rg_gp.iloc[i,1]-2000, rg_gp.iloc[i,2]+750, rg_gp.iloc[i,0])\n",
    "\n",
    "ax.axis(\"equal\") # make axes equal\n",
    "\n",
    "# set axes labels\n",
    "ax.set_xlabel(\"East[m]\")\n",
    "ax.set_ylabel(\"North[m]\");"
   ]
  },
  {
   "cell_type": "markdown",
   "id": "fc6000db",
   "metadata": {},
   "source": [
    "Well log information is commonly stored in the Log ASCII Standard (LAS) format. A single las file can only contain data for one well, but it can contain any number of logs (called 'curves') from that well. Let's get a list of the las files in the dataset. Here we use the `glob.glob` method to obtain a list of las files in the dataset directory:"
   ]
  },
  {
   "cell_type": "code",
   "execution_count": null,
   "id": "328d148f",
   "metadata": {},
   "outputs": [],
   "source": [
    "# define paths to files and print number of files\n",
    "las_files = glob.glob(os.path.join(\"..\", \"data\", \"rogaland_group\", \"*.las\"))\n",
    "print(\"found\", len(las_files), \"las files\")"
   ]
  },
  {
   "cell_type": "markdown",
   "id": "4e173471",
   "metadata": {},
   "source": [
    "So there are 39 wells. In Python, we can use the library [lasio](https://github.com/kinverarity1/lasio) to read and write las files. This library does not come with Anaconda, so we will need to install it:"
   ]
  },
  {
   "cell_type": "code",
   "execution_count": null,
   "id": "23fdcfe4",
   "metadata": {},
   "outputs": [],
   "source": [
    "# run this cell if lasio is not installed\n",
    "import sys\n",
    "!{sys.executable} -m pip install lasio"
   ]
  },
  {
   "cell_type": "markdown",
   "id": "8c47a002",
   "metadata": {},
   "source": [
    "Now we can import and use `lasio` to read the wells. The single line of code below will do the job. Be patient, it will take some time to read all the files:"
   ]
  },
  {
   "cell_type": "code",
   "execution_count": null,
   "id": "c155dcaa",
   "metadata": {},
   "outputs": [],
   "source": [
    "import lasio\n",
    "\n",
    "# read the wells\n",
    "las_objs = [lasio.read(f) for f in las_files]"
   ]
  },
  {
   "cell_type": "markdown",
   "id": "5a71b807",
   "metadata": {},
   "source": [
    "Let's print the wells names and curves (logs) in each well:"
   ]
  },
  {
   "cell_type": "code",
   "execution_count": null,
   "id": "ef926c33",
   "metadata": {},
   "outputs": [],
   "source": [
    "# print well names and logs mnemonics\n",
    "for w in las_objs:\n",
    "    print(w.header[\"Well\"][\"WELL\"].value, \"=\", w.keys())"
   ]
  },
  {
   "cell_type": "markdown",
   "id": "22225fcd",
   "metadata": {},
   "source": [
    "Let's plot the high resolution gamma ray log (HGR, API units). In the code we basically:\n",
    "\n",
    "1. Choose one well from the list of `las_objs`\n",
    "2. Find out the top and base of the rogaland group at the well from the `rg_gp` DataFrame\n",
    "3. Extract the well as a DataFrame and restrict it to the Rogaland Group\n",
    "4. Plot the HGR. We also fill the left part of the curve with green (shale), and the right one with yellow (sandstone)"
   ]
  },
  {
   "cell_type": "code",
   "execution_count": null,
   "id": "e11bbf3d",
   "metadata": {},
   "outputs": [],
   "source": [
    "# plot HGR of one well\n",
    "\n",
    "las_id = 0 # element index in las_objs\n",
    "\n",
    "# well\n",
    "w = las_objs[las_id]\n",
    "w_name = w.header[\"Well\"][\"WELL\"].value\n",
    "\n",
    "# index at which well column in rg_gp dataframe = w_name\n",
    "rg_gp_id = rg_gp[rg_gp[\"well\"] == w_name].index.values[0]\n",
    "\n",
    "# depth of top and base of the Rogaland group\n",
    "top_rg = rg_gp.loc[rg_gp_id, \"TVD top\"]\n",
    "base_rg = rg_gp.loc[rg_gp_id, \"TVD base\"]\n",
    "\n",
    "# extract well as DataFrame\n",
    "df = w.df()\n",
    "df[\"DEPTH\"] = df.index\n",
    "\n",
    "# restrict to Rogaland group\n",
    "df_rg = df[(df[\"DEPTH\"] >= top_rg) & (df[\"DEPTH\"] <= base_rg)]\n",
    "\n",
    "# plot HGR\n",
    "if \"HGR\" in df_rg.columns:\n",
    "    fig, ax = plt.subplots(figsize=(3,10))\n",
    "    df_rg.plot(x=\"HGR\", y=\"DEPTH\", c=\"black\", lw=0.5, legend=False, ax=ax)\n",
    "    ax.fill_betweenx(df_rg[\"DEPTH\"], df_rg[\"HGR\"], 0, facecolor=\"green\")\n",
    "    ax.fill_betweenx(df_rg[\"DEPTH\"], df_rg[\"HGR\"], 150, facecolor=\"yellow\")\n",
    "    \n",
    "    # set axis\n",
    "    ax.set_ylim(base_rg,top_rg) # y increases downwards\n",
    "    ax.set_xlim(0,150)\n",
    "    ax.set_title(\"HGR of well \" + w_name)\n",
    "    ax.grid(which=\"both\");"
   ]
  },
  {
   "cell_type": "markdown",
   "id": "c94576c9",
   "metadata": {},
   "source": [
    "Since the well is a DataFrame, we can quickly get a statistics for all the logs:"
   ]
  },
  {
   "cell_type": "code",
   "execution_count": null,
   "id": "fad2c88c",
   "metadata": {},
   "outputs": [],
   "source": [
    "df_rg.describe()"
   ]
  },
  {
   "cell_type": "markdown",
   "id": "9e73c0eb",
   "metadata": {},
   "source": [
    "Now, let's plot all the wells. This code is similar to the one above, but in this case we iterate over all wells in `las_objs`. Since we are plotting many wells, we don't fill in areas with colors:"
   ]
  },
  {
   "cell_type": "code",
   "execution_count": null,
   "id": "a91eccc7",
   "metadata": {},
   "outputs": [],
   "source": [
    "# plot HGR of all wells in Rogaland group interval\n",
    "fig, ax = plt.subplots(figsize=(8,10))\n",
    "for w in las_objs:\n",
    "    w_name = w.header[\"Well\"][\"WELL\"].value\n",
    "    \n",
    "    # index at which well column in rg_gp dataframe = w.name\n",
    "    rg_gp_id = rg_gp[rg_gp[\"well\"] == w_name].index.values[0]\n",
    "    \n",
    "    # depth of top and base of the Rogaland group\n",
    "    top_rg = rg_gp.loc[rg_gp_id, \"TVD top\"]\n",
    "    base_rg = rg_gp.loc[rg_gp_id, \"TVD base\"]\n",
    "    \n",
    "    # extract well as DataFrame\n",
    "    df = w.df()\n",
    "    df[\"DEPTH\"] = df.index\n",
    "    \n",
    "    # restrict to Rogaland group\n",
    "    df_rg = df[(df[\"DEPTH\"] >= top_rg) & (df[\"DEPTH\"] <= base_rg)]\n",
    "    \n",
    "    # plot HGR of well\n",
    "    if \"HGR\" in df_rg.columns:\n",
    "        df_rg.plot(x=\"HGR\", y=\"DEPTH\", lw=0.5, legend=False, ax=ax)\n",
    "    \n",
    "# set axis\n",
    "ax.invert_yaxis()\n",
    "ax.set_ylabel(\"Depth [m]\")\n",
    "ax.set_xlim(0,150)\n",
    "ax.set_title(\"HGR of all wells\")\n",
    "ax.grid(which=\"both\");"
   ]
  },
  {
   "cell_type": "markdown",
   "id": "fcf67c87",
   "metadata": {},
   "source": [
    "This displays nicely the variation of gamma ray with depth in all wells. Let's print the HGR statistics of all wells:"
   ]
  },
  {
   "cell_type": "code",
   "execution_count": null,
   "id": "579d11da",
   "metadata": {},
   "outputs": [],
   "source": [
    "# HGR statistics of all wells\n",
    "print(\"HGR statistics of all wells\")\n",
    "\n",
    "for w in las_objs:\n",
    "    w_name = w.header[\"Well\"][\"WELL\"].value\n",
    "    \n",
    "    # index at which well column in rg_gp dataframe = w.name\n",
    "    rg_gp_id = rg_gp[rg_gp[\"well\"] == w_name].index.values[0]\n",
    "    \n",
    "    # depth of top and base of Rogaland Gp\n",
    "    top_rg = rg_gp.loc[rg_gp_id, \"TVD top\"]\n",
    "    base_rg = rg_gp.loc[rg_gp_id, \"TVD base\"]\n",
    "    \n",
    "    # extract well as DataFrame\n",
    "    df = w.df()\n",
    "    df[\"DEPTH\"] = df.index\n",
    "    \n",
    "    # restrict to Rogaland Gp\n",
    "    df_rg = df[(df[\"DEPTH\"] >= top_rg) & (df[\"DEPTH\"] <= base_rg)]\n",
    "    \n",
    "    # print HGR statistics\n",
    "    if \"HGR\" in df_rg.columns:\n",
    "        print(w_name, \"mean = {:.1f}, std = {:.1f}, min = {:.1f}, 25% = {:.1f}, 50% = {:.1f}, 75% = {:.1f}, max = {:.1f}\"\n",
    "              .format(df_rg[\"HGR\"].mean(), df_rg[\"HGR\"].std(), df_rg[\"HGR\"].min(),\n",
    "                     df_rg[\"HGR\"].quantile(0.25), df_rg[\"HGR\"].quantile(0.50), \n",
    "                     df_rg[\"HGR\"].quantile(0.75), df_rg[\"HGR\"].max()))"
   ]
  },
  {
   "cell_type": "markdown",
   "id": "11bd4671",
   "metadata": {},
   "source": [
    "The net to gross (ntg) is the ratio of the total amount of sandstone divided by the total thickness of the reservoir interval. The simplest way to calculate ntg is using a gamma ray value as a threshold for shale. Gamma ray values larger or equal than this threshold are shale, and those lower than the threshold are sandstone. For the Rogaland Group and the dataset under consideration, Adrian Kirkhus used a threshold of 40 API. Let's do the same. In the code below, we store the calculated ntg values in a column of the `rg_gp` DataFrame:"
   ]
  },
  {
   "cell_type": "code",
   "execution_count": null,
   "id": "2840ebca",
   "metadata": {},
   "outputs": [],
   "source": [
    "gr_val = 40 # gamma ray value that separates sand from shale \n",
    "\n",
    "rg_gp[\"ntg\"] = 0 # add column to rg_gp DataFrame\n",
    "\n",
    "# Compute net to gross of all wells\n",
    "print(\"Net to Gross of all wells\")\n",
    "\n",
    "for w in las_objs:\n",
    "    w_name = w.header[\"Well\"][\"WELL\"].value\n",
    "    \n",
    "    # index at which well column in rg_gp dataframe = w.name\n",
    "    rg_gp_id = rg_gp[rg_gp[\"well\"] == w_name].index.values[0]\n",
    "    \n",
    "    # depth of top and base of Rogaland Gp\n",
    "    top_rg = rg_gp.loc[rg_gp_id, \"TVD top\"]\n",
    "    base_rg = rg_gp.loc[rg_gp_id, \"TVD base\"]\n",
    "    \n",
    "    # extract well as DataFrame\n",
    "    df = w.df()\n",
    "    df[\"DEPTH\"] = df.index\n",
    "    \n",
    "    # restrict to Rogaland Gp\n",
    "    df_rg = df[(df[\"DEPTH\"] >= top_rg) & (df[\"DEPTH\"] <= base_rg)]\n",
    "    \n",
    "    # estimate net to gross\n",
    "    if \"HGR\" in df_rg.columns:\n",
    "        net = np.sum(df_rg[\"HGR\"] < gr_val) # net = samples where gr < gr_val \n",
    "        shale = np.sum(df_rg[\"HGR\"]>= gr_val) # shale = samples where gr >= gr_val\n",
    "        ntg = net/(net+shale) * 100 # net to gross\n",
    "        print(\"Net to gross in well\", w_name, \"=\", \"{:.2f}\".format(ntg)) # print net to gross\n",
    "        rg_gp.loc[rg_gp_id, \"ntg\"] = ntg # add value to rg_gp DataFrame"
   ]
  },
  {
   "cell_type": "markdown",
   "id": "7bc4fcf6",
   "metadata": {},
   "source": [
    "The `rg_gp` DataFrame has now a column labelled `ntg`:"
   ]
  },
  {
   "cell_type": "code",
   "execution_count": null,
   "id": "fb0b95e3",
   "metadata": {},
   "outputs": [],
   "source": [
    "rg_gp.head()"
   ]
  },
  {
   "cell_type": "markdown",
   "id": "c78bca81",
   "metadata": {},
   "source": [
    "Let's use the DataFrame to plot the distribution of ntg in the area. We represent graphically ntg using a pie diagram:"
   ]
  },
  {
   "cell_type": "code",
   "execution_count": null,
   "id": "acb4c494",
   "metadata": {},
   "outputs": [],
   "source": [
    "# plot ntg\n",
    "\n",
    "pi = np.pi # pi\n",
    "\n",
    "# make figure\n",
    "fig, ax = plt.subplots(figsize=(12,8))\n",
    "\n",
    "# for all wells\n",
    "for i in range(rg_gp.shape[0]):\n",
    "    # first define the ratio, which in this case is ntg/100\n",
    "    r1 = rg_gp.iloc[i,5]/100\n",
    "    \n",
    "    # calculate the points of the first pie marker\n",
    "    # these are just the origin (0, 0) + some (cos, sin) points on a circle\n",
    "    x1 = np.cos(2 * pi * np.linspace(0, r1))\n",
    "    y1 = np.sin(2 * pi * np.linspace(0, r1))\n",
    "    xy1 = np.row_stack([[0, 0], np.column_stack([x1, y1])])\n",
    "    s1 = np.abs(xy1).max()\n",
    "    \n",
    "    # calculate the points of the second pie marker\n",
    "    x2 = np.cos(2 * pi * np.linspace(r1, 1))\n",
    "    y2 = np.sin(2 * pi * np.linspace(r1, 1))\n",
    "    xy2 = np.row_stack([[0, 0], np.column_stack([x2, y2])])\n",
    "    s2 = np.abs(xy2).max()\n",
    "\n",
    "    # plot pie diagram\n",
    "    ax.scatter(rg_gp.iloc[i,1], rg_gp.iloc[i,2], marker=xy1, s=s1**2 * 200, facecolor=\"yellow\")\n",
    "    ax.scatter(rg_gp.iloc[i,1], rg_gp.iloc[i,2], marker=xy2, s=s2**2 * 200, facecolor=\"green\")\n",
    "    # plot well name\n",
    "    ax.text(rg_gp.iloc[i,1]-1500, rg_gp.iloc[i,2]+1200, rg_gp.iloc[i,0])\n",
    "    \n",
    "# set axes\n",
    "ax.axis(\"equal\") # make axes equal\n",
    "ax.set_facecolor(\"#aed6f1\") # change background color\n",
    "ax.set_xlabel(\"East[m]\") # x label\n",
    "ax.set_ylabel(\"North[m]\"); # y label"
   ]
  },
  {
   "cell_type": "markdown",
   "id": "c90d1a41",
   "metadata": {},
   "source": [
    "We still need to make 'geological' sense of these data, perhaps by superimposing the figure above to a map with the geological provinces of the area. For comparison, you can check Fig. 15 of [Adrian Kirkhus thesis](https://uis.brage.unit.no/uis-xmlui/handle/11250/3024570)."
   ]
  }
 ],
 "metadata": {
  "kernelspec": {
   "display_name": "Python 3 (ipykernel)",
   "language": "python",
   "name": "python3"
  },
  "language_info": {
   "codemirror_mode": {
    "name": "ipython",
    "version": 3
   },
   "file_extension": ".py",
   "mimetype": "text/x-python",
   "name": "python",
   "nbconvert_exporter": "python",
   "pygments_lexer": "ipython3",
   "version": "3.11.5"
  }
 },
 "nbformat": 4,
 "nbformat_minor": 5
}
