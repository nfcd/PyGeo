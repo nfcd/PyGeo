{
 "cells": [
  {
   "cell_type": "markdown",
   "id": "7b9fa75a",
   "metadata": {},
   "source": [
    "# Day 4-Part 1: Orientation data\n",
    "\n",
    "In this notebook, we will look at the analysis of orientation data, mainly lines and planes, which are typically visualized on stereonets.\n",
    "\n",
    "## Lines and planes\n",
    "\n",
    "The geometry of geological structures can be described mainly using two simple elements, lines and planes: \n",
    "\n",
    "- The orientation of a line (e.g., a lineation or a fold axis) is specified by the trend (the angle the horizontal projection of the line makes with the geographic north), and plunge (the angle the line makes with the horizontal on a vertical plane containing the line). The trend is an azimuth angle between 0 and 360$^\\circ$, the plunge is an angle between -90 (line pointing upwards) and 90$^\\circ$ (line pointing downwards). We typically work with lines that point downwards (positive plunge).\n",
    "- The orientation of a plane (e.g., bedding or a fault plane) is specified by the strike (the angle that a horizontal line on the plane makes with the geographic north), and dip (the angle that the plane makes with the horizontal measured on a vertical plane perpendicular to strike). The strike is an azimuth angle between 0 and 360$^\\circ$, and the dip is an angle between 0 and 90$^\\circ$. To avoid any ambiguity with respect to the strike direction, the preferred choice is to give the strike such that the dip direction is 90$^\\circ$ to the right of it. This is called the right-hand rule or RHR (if your right hand thumb is along the strike direction, the other fingers will point towards the dip direction).\n",
    "\n",
    "The figure below ilustrates these terms:\n",
    "\n",
    "<img src=\"../figures/lineAndPlane.png\" alt=\"lineAndPlane\" width=\"800\"/><br><br>"
   ]
  },
  {
   "cell_type": "markdown",
   "id": "2a26ba7c",
   "metadata": {},
   "source": [
    "In addition, if a line happens to be on a plane (e.g., a current lineation on a sedimentary bed), we can specify the orientation of the line by the angle the line makes with the strike line of the plane, measured on the plane. This is called the rake.\n",
    "\n",
    "Finally, we can also specify the orientation of a plane by the downward normal to the plane, which is known as the pole to the plane. The figure below illustrates these concepts:\n",
    "\n",
    "<img src=\"../figures/rakeAndPole.png\" alt=\"rakeAndPole\" width=\"500\"/><br><br>"
   ]
  },
  {
   "cell_type": "markdown",
   "id": "a332ca33",
   "metadata": {},
   "source": [
    "## Stereonets\n",
    "\n",
    "The orientation of lines and planes can be visualized on a stereonet, which is essentially a spherical projection. In Python, we can easily plot structural data on stereonets using the [mplstereonet](https://github.com/joferkington/mplstereonet) library. This library does not come with the standard installation of Anaconda, so you will need to install it as follows:"
   ]
  },
  {
   "cell_type": "code",
   "execution_count": null,
   "id": "3c2e4a7a",
   "metadata": {},
   "outputs": [],
   "source": [
    "# run this cell if mplstereonet is not installed\n",
    "import sys\n",
    "!{sys.executable} -m pip install mplstereonet"
   ]
  },
  {
   "cell_type": "markdown",
   "id": "4c3f6ed1",
   "metadata": {},
   "source": [
    "Essentially `mplstereonet` provides a stereonet functionality to the `matplotlib`. Let's start by plotting the two types of stereonets: equal angle (Wulff net), and equal area (Schmidt net). To highlight the differences between these two stereonets, we also plot small circles of 10$^\\circ$ radius on different places in the stereonet (a small circle is the intersection of a circular cone with the sphere, with the apex of the cone at the center of the sphere):"
   ]
  },
  {
   "cell_type": "code",
   "execution_count": null,
   "id": "aabe13a7",
   "metadata": {},
   "outputs": [],
   "source": [
    "import matplotlib.pyplot as plt\n",
    "import mplstereonet as mpl\n",
    "\n",
    "# make figure\n",
    "fig = plt.figure(figsize=(18,6)) \n",
    "\n",
    "# make an axis with projection \"equal_angle_stereonet\"\n",
    "ax1 = fig.add_subplot(1,2,1, projection= \"equal_angle_stereonet\")\n",
    "\n",
    "# make an axis with projection equal_area_stereonet\", \"stereonet\" also works here\n",
    "ax2 = fig.add_subplot(1,2,2, projection= \"equal_area_stereonet\") \n",
    "\n",
    "# trend and plunge of small circles axes, data is in degrees\n",
    "trend_sc = [0, 45, 90, 135, 180, 225, 270, 315, 0, 90, 180, 270, 0]\n",
    "plunge_sc = [10, 10, 10, 10, 10, 10, 10, 10, 45, 45, 45, 45, 90]\n",
    "\n",
    "# radius of small circles in degrees\n",
    "rad_sc = 10\n",
    "\n",
    "# plot the same thing on both stereonets (both axes)\n",
    "for ax in [ax1,ax2]:\n",
    "    ax.grid() # add stereonet grid\n",
    "    ax.set_azimuth_ticks([]) # remove azimuth labels, they don\"t look nice in Python > 3.7\n",
    "    # plot small circles\n",
    "    for i in range(len(trend_sc)):\n",
    "        ax.cone(plunge_sc[i], trend_sc[i], rad_sc, bidirectional=False, facecolor=\"None\", edgecolors=\"k\")\n",
    "        \n",
    "\n",
    "# add subplots titles\n",
    "ax1.set_title('Equal Angle (a.k.a. \"Wulff\")', y=1.1)\n",
    "ax2.set_title('Equal Area (a.k.a. \"Schmidt\")',y=1.1);"
   ]
  },
  {
   "cell_type": "markdown",
   "id": "9a1d737b",
   "metadata": {},
   "source": [
    "The code above can be divided in the following parts:\n",
    "\n",
    "1. Create two axes: `ax1` with projection 'equal_angle_stereonet', and `ax2` with projection 'equal_area_stereonet'.\n",
    "2. Define the trend (`trend_sc`) and plunge (`plunge_sc`) of the small circle axes, as well as the radius of the small circles (`rad_sc`). All these are in degrees.\n",
    "3. In both stereonets, plot the grid and remove the azimuth ticks (they don't look nice).\n",
    "4. In both stereonets, plot the small circles using the function `cone`.\n",
    "5. Add titles to the plots.\n",
    "\n",
    "We can clearly see the difference between the equal angle and equal area projections. The equal angle (Wulff) net preserves shapes (angles) but not areas (the small circles are circles but of different area), while the equal area (Schmidt) net preserves areas but not shapes (the small circles have the same size but they are distorted). The equal angle net is used more in crystallography and cartography where angular relations are critical, while the equal area net is used more in structural geology where data distributions are more important. The default stereonet in `mplstereonet` is the equal-area net."
   ]
  },
  {
   "cell_type": "markdown",
   "id": "df560a02",
   "metadata": {},
   "source": [
    "Let's try a more interesting example: The file `beasd.txt` contains strike (first column) and dip (second column) measurements around the Big Elk anticline in southeastern Idaho (red strike and dips in the figure below). All these measurements follow the RHR convention.\n",
    "\n",
    "<img src=\"../figures/bigElkAnticline.png\" alt=\"bigElkAnticline\" width=\"600\"/><br><br>\n",
    "\n",
    "Let's read the bedding planes. Since the txt file is relatively simple, we'll use the function `numpy.loadtxt` to read the data. "
   ]
  },
  {
   "cell_type": "code",
   "execution_count": null,
   "id": "d55a9471",
   "metadata": {},
   "outputs": [],
   "source": [
    "import numpy as np # import numpy library, it is handy to read the data\n",
    "import os\n",
    "\n",
    "beasd = np.loadtxt(os.path.join(\"..\", \"data\", \"beasd.txt\")) # read strikes and dips\n",
    "print(\"Array size =\", beasd.shape)\n",
    "nmeas = beasd.shape[0] # number of measurements are number of rows in beasd array\n",
    "print(\"Number of bedding planes =\", nmeas)"
   ]
  },
  {
   "cell_type": "markdown",
   "id": "4c699c86",
   "metadata": {},
   "source": [
    "Let's plot the first plane and its pole on a lower hemisphere stereonet:"
   ]
  },
  {
   "cell_type": "code",
   "execution_count": null,
   "id": "6af64061",
   "metadata": {},
   "outputs": [],
   "source": [
    "print(\"First plane: strike =\", beasd[0,0], \"dip =\", beasd[0,1]) # print first plane\n",
    "\n",
    "fig, ax = mpl.subplots(figsize=(8,6)) # create stereonet\n",
    "ax.grid() # add stereonet grid\n",
    "ax.set_azimuth_ticks([]) # remove azimuth labels\n",
    "\n",
    "ax.plane(beasd[0,0], beasd[0,1], \"r-\") # plot first plane, this draws a great circle\n",
    "ax.pole(beasd[0,0], beasd[0,1], \"bo\"); # plot pole to first plane, this draws a dot"
   ]
  },
  {
   "cell_type": "markdown",
   "id": "10abf549",
   "metadata": {},
   "source": [
    "In the code above, we create directly a stereonet axis with the function `mplstereonet` `subplots`, add a grid to the stereonet, and remove azimuth labels. Then, we plot the plane using the function `plane`, and the pole to the plane using the function `pole`. Notice that the plane plots as a great circle, and the pole to the plane plots as a dot. Now let's plot all the planes:"
   ]
  },
  {
   "cell_type": "code",
   "execution_count": null,
   "id": "9704dfe7",
   "metadata": {},
   "outputs": [],
   "source": [
    "fig, ax = mpl.subplots(figsize=(8,6)) # create stereonet\n",
    "ax.grid() # add stereonet grid\n",
    "ax.set_azimuth_ticks([]) # remove azimuth labels\n",
    "\n",
    "# plot the bedding planes\n",
    "for i in range(nmeas):\n",
    "    ax.plane(beasd[i,0], beasd[i,1], \"r-\")"
   ]
  },
  {
   "cell_type": "markdown",
   "id": "b6aa884d",
   "metadata": {},
   "source": [
    "The stereonet looks rather crowded with all the great circles, let's plot the poles of the bedding planes instead:"
   ]
  },
  {
   "cell_type": "code",
   "execution_count": null,
   "id": "ef4ab863",
   "metadata": {},
   "outputs": [],
   "source": [
    "fig, ax = mpl.subplots(figsize=(8,6)) # create stereonet\n",
    "ax.grid() # add stereonet grid\n",
    "ax.set_azimuth_ticks([]) # remove azimuth labels\n",
    "\n",
    "# plot the poles to the bedding planes\n",
    "for i in range(nmeas):\n",
    "    ax.pole(beasd[i,0], beasd[i,1], \"bo\")"
   ]
  },
  {
   "cell_type": "markdown",
   "id": "5cb03808",
   "metadata": {},
   "source": [
    "This looks better, now let's contour the poles:"
   ]
  },
  {
   "cell_type": "code",
   "execution_count": null,
   "id": "943e7e22",
   "metadata": {},
   "outputs": [],
   "source": [
    "fig, ax = mpl.subplots(figsize=(8,6)) # create stereonet\n",
    "ax.grid() # add stereonet grid\n",
    "ax.set_azimuth_ticks([]) # remove azimuth labels\n",
    "\n",
    "# contour the poles to bedding, use filled contours\n",
    "ax.density_contourf(beasd[:,0], beasd[:,1], measurement=\"poles\", cmap=\"jet\") # cmap sets the color map\n",
    "\n",
    "# plot the poles to bedding\n",
    "for i in range(nmeas):\n",
    "    ax.pole(beasd[i,0], beasd[i,1], \"ko\")"
   ]
  },
  {
   "cell_type": "markdown",
   "id": "7151a44e",
   "metadata": {},
   "source": [
    "We use the function `density_contourf` to contour the bedding poles. There is also a `density_contour` function to make just contour lines.\n",
    "\n",
    "Now let's fit a plane to these poles, the pole to this plane is the fold axis. This is called a cylindrical best-fit, and it is the standard method to estimate the axis of a fold, assuming the fold is cylindrical:"
   ]
  },
  {
   "cell_type": "code",
   "execution_count": null,
   "id": "e49f0172",
   "metadata": {},
   "outputs": [],
   "source": [
    "fig, ax = mpl.subplots(figsize=(8,6)) # create stereonet\n",
    "ax.grid() # add stereonet grid\n",
    "ax.set_azimuth_ticks([]) # remove azimuth labels\n",
    "\n",
    "# contour the poles to bedding, use filled contours\n",
    "ax.density_contourf(beasd[:,0], beasd[:,1], measurement=\"poles\", cmap=\"jet\")\n",
    "\n",
    "# plot the poles to bedding\n",
    "for i in range(nmeas):\n",
    "    ax.pole(beasd[i,0], beasd[i,1], \"ko\")\n",
    "    \n",
    "# fit a plane to the poles\n",
    "bfp_s, bfp_d = mpl.fit_girdle(beasd[:,0], beasd[:,1], measurement=\"poles\")\n",
    "\n",
    "# plot best fit plane\n",
    "ax.plane(bfp_s, bfp_d, \"r-\", linewidth=2)\n",
    "\n",
    "# plot pole to best fit plane = fold axis\n",
    "ax.pole(bfp_s, bfp_d, \"rs\", markersize=10);\n",
    "\n",
    "# print fold axis\n",
    "fa_p, fa_t = mpl.pole2plunge_bearing(bfp_s, bfp_d) # Get plunge and trend of pole from strike and dip\n",
    "print(\"Fold axis: Trend = {:.2f}, plunge {:.2f}\".format(fa_t[0], fa_p[0]))"
   ]
  },
  {
   "cell_type": "markdown",
   "id": "51777e64",
   "metadata": {},
   "source": [
    "We use the function `mplstereonet` `fit_girdle` to fit a plane to the bedding poles, and the function `pole2plunge_bearing` to get the plunge and trend of the best-fit plane from its strike and dip.\n",
    "\n",
    "\n",
    "`mplstereonet` is a very powerful library, you can do many more things such as plotting lines on planes (rakes), calculating the angle between two lines, the intersection of two planes, the mean vector of a set of measurements, analysing fault data, and even making rotations. There are also routines for parsing data from quadrants (those nasty NE, SW, etc.) to, for example, the RHR convention. There are plenty of examples and a full documentation in the [mplstereonet repository](https://github.com/joferkington/mplstereonet).\n",
    "\n",
    "To practice, try exercise 1 in `day4/lab/lab4.pdf`"
   ]
  }
 ],
 "metadata": {
  "kernelspec": {
   "display_name": "Python 3 (ipykernel)",
   "language": "python",
   "name": "python3"
  },
  "language_info": {
   "codemirror_mode": {
    "name": "ipython",
    "version": 3
   },
   "file_extension": ".py",
   "mimetype": "text/x-python",
   "name": "python",
   "nbconvert_exporter": "python",
   "pygments_lexer": "ipython3",
   "version": "3.9.13"
  }
 },
 "nbformat": 4,
 "nbformat_minor": 5
}
