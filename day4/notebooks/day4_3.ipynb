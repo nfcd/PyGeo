{
 "cells": [
  {
   "cell_type": "markdown",
   "id": "aebe8eb6",
   "metadata": {},
   "source": [
    "# Day 4-Part 3: Images\n",
    "\n",
    "Images are everywhere in geosciences, satellite images, aerial photos, map images, well core photos, and thin section photos are all example of images. Images are basically layers of gridded data with an intensity value at each point (or pixel). The layers in the image are called channels (e.g., the red, green and blue channels), and the combination of these channels produces a specific color at each pixel.\n",
    "\n",
    "In Python, we can use the [pillow](https://python-pillow.org) library to load, display and manipulate images. I believe `pillow` is installed in the Anaconda distribution, but if not, you will need to install it as follows:"
   ]
  },
  {
   "cell_type": "code",
   "execution_count": null,
   "id": "d619c507",
   "metadata": {},
   "outputs": [],
   "source": [
    "# run this cell if pillow is not installed\n",
    "import sys\n",
    "!{sys.executable} -m pip install pillow"
   ]
  },
  {
   "cell_type": "markdown",
   "id": "985de225",
   "metadata": {},
   "source": [
    "Once we load the image with `pillow`, it may be easier to convert the image to an array. `numpy` has methods for doing that. It is also possible to convert from an array to an image using the `pillow` library. \n",
    "\n",
    "The following example illustrates the loading, manipulation, and saving of images.\n",
    "\n",
    "## Determining visual porosity from a sandstone thin section\n",
    "\n",
    "This example is based on the following [repository](https://github.com/Philliec459/Create-Thin-Section-Image-Labels-for-Semantic-Segmentation-Training). The image `ss_thin_section.png` in the data folder, is an epoxy thin section of a sandstone. We start by loading the image using the `Image.open` function, and printing the image format, size and mode: "
   ]
  },
  {
   "cell_type": "code",
   "execution_count": null,
   "id": "6214936c",
   "metadata": {},
   "outputs": [],
   "source": [
    "from PIL import Image\n",
    "import os\n",
    "\n",
    "im = Image.open(os.path.join(\"..\", \"data\", \"ss_thin_section.png\")) # open image\n",
    "\n",
    "print(im.format, im.size, im.mode) # print image information\n",
    "\n",
    "im"
   ]
  },
  {
   "cell_type": "markdown",
   "id": "6bc5029c",
   "metadata": {},
   "source": [
    "The image is in *portable network graphics* PNG format, and it has 537 by 443 pixels, in three channels: red (R), green (G) and blue (B). Now, let's convert the image to an array using the `numpy.array` method, and print the shape, and maximum and minimum values of the array:"
   ]
  },
  {
   "cell_type": "code",
   "execution_count": null,
   "id": "77540506",
   "metadata": {},
   "outputs": [],
   "source": [
    "import numpy as np\n",
    "\n",
    "data = np.array(im) # convert image to array, \"asarray\" also works here\n",
    "\n",
    "print(data.shape) # print shape of array\n",
    "\n",
    "print(\"minimum value =\", np.amin(data), \"maximum value =\", np.amax(data)) # print max and min array values"
   ]
  },
  {
   "cell_type": "markdown",
   "id": "3239d159",
   "metadata": {},
   "source": [
    "The array is a 3D array, which basically represents 3 (`data.shape[2]`) 2D layered grids (each one 443 x 537 pixels in size), corresponding to the R, G and B channels. The minimum and maximum values in the grid are 0 and 255. These values come from the format of the image (PNG), which uses a fixed 8-bit colormap of $2^8=256$ possible combinations representing different intensities. Now, let's plot the image:"
   ]
  },
  {
   "cell_type": "code",
   "execution_count": null,
   "id": "0e5a91aa",
   "metadata": {},
   "outputs": [],
   "source": [
    "import matplotlib.pyplot as plt\n",
    "\n",
    "fig, ax = plt.subplots(figsize=(8, 6)) # create figure\n",
    "\n",
    "ax.imshow(data); # plot image"
   ]
  },
  {
   "cell_type": "markdown",
   "id": "e05c8c91",
   "metadata": {},
   "source": [
    "Let's plot now the histogram of the image using the `numpy` `histogram` method. Notice that we set the number of bins equal to the number of intensity values:"
   ]
  },
  {
   "cell_type": "code",
   "execution_count": null,
   "id": "430eca26",
   "metadata": {},
   "outputs": [],
   "source": [
    "histogram, bin_edges = np.histogram(data, bins=256, range=(0, 256)) # make a histogram of image\n",
    "\n",
    "fig, ax = plt.subplots() # create figure\n",
    "\n",
    "ax.plot(bin_edges[0:-1], histogram) # plot histogram (plot all bin_edges vs. his)\n",
    "\n",
    "# figure title and axes labels\n",
    "ax.set_title(\"Histogram Original Thin Section Image\")\n",
    "ax.set_xlabel(\"value\")\n",
    "ax.set_ylabel(\"pixels\"); "
   ]
  },
  {
   "cell_type": "markdown",
   "id": "6dcd140f",
   "metadata": {},
   "source": [
    "However, we said that the image has three channels: R, G and B. What does the histogram above represent? To understand this, let's plot the histograms of the separate channels:"
   ]
  },
  {
   "cell_type": "code",
   "execution_count": null,
   "id": "06f6466a",
   "metadata": {},
   "outputs": [],
   "source": [
    "colors = [\"red\", \"green\", \"blue\"] # list of colors\n",
    "channel_ids = [0, 1, 2] # list of channels ids\n",
    "\n",
    "fig, ax = plt.subplots() # create figure\n",
    "\n",
    "# plot histograms\n",
    "for channel_id, c in zip(channel_ids, colors): # iterate channel ids and colors\n",
    "    histogram, bin_edges = np.histogram(data[:, :, channel_id], bins=256, range=(0, 256)) # compute histogram\n",
    "    ax.plot(bin_edges[0:-1], histogram, color=c, label=c + \" channel\") # plot histogram\n",
    "\n",
    "# figure title, axes labels and legend\n",
    "ax.set_title(\"Histogram Original Thin Section Image\")\n",
    "ax.set_xlabel(\"value\")\n",
    "ax.set_ylabel(\"pixels\")\n",
    "ax.legend(loc = \"upper left\");"
   ]
  },
  {
   "cell_type": "markdown",
   "id": "672e457a",
   "metadata": {},
   "source": [
    "So, as you can see, the histogram of the image is just the sum of the histograms of the individual channels.\n",
    "\n",
    "Now, let's do something more interesting. Let's process the image to better highlight the main components of the thin section. To do this, we use the [scikit-image](https://scikit-image.org) library, which is a collection of algorithms for image processing. I believe `scikit-image` is installed in the Anaconda distribution, but if not, you will need to install it as follows:"
   ]
  },
  {
   "cell_type": "code",
   "execution_count": null,
   "id": "fa1fc732",
   "metadata": {},
   "outputs": [],
   "source": [
    "# run this cell if scikit-image is not installed\n",
    "import sys\n",
    "!{sys.executable} -m pip install scikit-image"
   ]
  },
  {
   "cell_type": "markdown",
   "id": "25343b71",
   "metadata": {},
   "source": [
    "Let's convert the image to gray scale using the `scikit-image.color.rgb2gray` function (more about how this function works [here](https://scikit-image.org/docs/dev/auto_examples/color_exposure/plot_rgb_to_gray.html)), and then smooth the image a little bit using a gaussian filter ([sckit-image.filters.gaussian](https://scikit-image.org/docs/stable/api/skimage.filters.html#skimage.filters.gaussian)). We also print the size of the filtered image, the minimum and maximum values, and plot the image:"
   ]
  },
  {
   "cell_type": "code",
   "execution_count": null,
   "id": "939c70e0",
   "metadata": {},
   "outputs": [],
   "source": [
    "from skimage import color, filters\n",
    "\n",
    "data_gray = color.rgb2gray(data) # converts RGB image to single grayscale channel\n",
    "\n",
    "data_grad = filters.gaussian(data_gray) # apply Gaussian filter to grayscale image\n",
    "\n",
    "# print size and minimum and maximum values\n",
    "print(data_grad.shape) \n",
    "print(\"minimum value = {:.3f}, maximum value = {:.3f}\".format(np.amin(data_grad), np.amax(data_grad)) ) \n",
    "\n",
    "# plot filtered image, notice that colormap is the default \"viridis\"\n",
    "fig, ax = plt.subplots(figsize=(8, 6))\n",
    "plt.imshow(data_grad)\n",
    "plt.colorbar();"
   ]
  },
  {
   "cell_type": "markdown",
   "id": "c49d75cb",
   "metadata": {},
   "source": [
    "So, the image is just one single channel (grayscale), and the intensity values go from 0.0 to 1.0. Let's plot the histogram of this image. Similarly to the original image, we use 256 bins:"
   ]
  },
  {
   "cell_type": "code",
   "execution_count": null,
   "id": "a45ce9dd",
   "metadata": {},
   "outputs": [],
   "source": [
    "histogram, bin_edges = np.histogram(data_grad, bins=256, range=(0.0, 1.0)) # compute histogram of filtered image\n",
    "\n",
    "fig, ax = plt.subplots() # create figure\n",
    "\n",
    "# plot histogram\n",
    "ax.plot(bin_edges[0:-1], histogram) \n",
    "# set figure grid, title, and labels\n",
    "ax.grid(axis = \"x\")\n",
    "ax.set_title(\"Histogram Gradient Gray Level Image\")\n",
    "ax.set_xlabel(\"value\")\n",
    "ax.set_ylabel(\"pixels\"); "
   ]
  },
  {
   "cell_type": "markdown",
   "id": "134dcb95",
   "metadata": {},
   "source": [
    "So as you can see, in comparison to the histogram of the original image, this histogram is smoother, though one can tell different classes that roughly correspond to the different components in the thin section. Let's do a simple classification or labeling of the image based on its intensity values. Notice that doing this involves a little bit of trial and error. We also plot the labeled image:"
   ]
  },
  {
   "cell_type": "code",
   "execution_count": null,
   "id": "d3009661",
   "metadata": {},
   "outputs": [],
   "source": [
    "label = np.zeros(data_grad.shape ) # initialize label arrray to zeros\n",
    "\n",
    "# fill label array with classes 1 to 5\n",
    "# these classes depend on the intensity values\n",
    "label[data_grad < 0.25] = 1 #black grains \n",
    "label[data_grad > 0.25] = 2 #darker grains \n",
    "label[data_grad > 0.4]  = 3 #blue-dye epoxy \n",
    "label[data_grad > 0.6]  = 4 #darker grains\n",
    "label[data_grad > 0.75]  = 5 #bright quartz grains\n",
    "\n",
    "# plot labeled image\n",
    "fig, ax = plt.subplots(figsize=(8, 6))\n",
    "plt.imshow(label, interpolation=\"none\")\n",
    "plt.colorbar(ticks=np.arange(1,6,1));"
   ]
  },
  {
   "cell_type": "markdown",
   "id": "ec9eae37",
   "metadata": {},
   "source": [
    "Let's look at the histogram of the labeled image:"
   ]
  },
  {
   "cell_type": "code",
   "execution_count": null,
   "id": "de2bb979",
   "metadata": {},
   "outputs": [],
   "source": [
    "histogram, bin_edges = np.histogram(label, bins=256, range=(0.0, 6.0)) # compute histogram of labeled image\n",
    "\n",
    "fig, ax = plt.subplots() # create figure\n",
    "\n",
    "# plot histogram\n",
    "ax.plot(bin_edges[0:-1], histogram)\n",
    "ax.set_title(\"Histogram of labeled Image\")\n",
    "ax.set_xlabel(\"value\")\n",
    "ax.set_ylabel(\"pixels\"); "
   ]
  },
  {
   "cell_type": "markdown",
   "id": "5324bf0d",
   "metadata": {},
   "source": [
    "So now our image is divided in five classes. Let's find out the number of pixels in each class, plot them in a pie diagram, and compute visual porosity (class 3/sum of all classes):"
   ]
  },
  {
   "cell_type": "code",
   "execution_count": null,
   "id": "29208b88",
   "metadata": {},
   "outputs": [],
   "source": [
    "black_grains = np.sum(label == 1) # number of pixels on black grains\n",
    "dark_grains = np.sum(label == 2) + np.sum(label == 4) # number of pixels on dark grains\n",
    "epoxy = np.sum(label == 3) # number of pixels on epoxy\n",
    "bright_grains = np.sum(label == 5) # number of pixels on bright, quartz grains\n",
    "all_comp = black_grains + dark_grains + epoxy + bright_grains # all components\n",
    "\n",
    "fig, ax = plt.subplots() # create figure\n",
    "\n",
    "ax.pie([black_grains, dark_grains, epoxy, bright_grains], \n",
    "      labels=[\"black grains\", \"dark grains\", \"epoxy\", \"bright grains\"]); # plot pie diagram\n",
    "\n",
    "print(\"visual porosity = {:.2f}\".format(epoxy/all_comp) ) # visual porosity"
   ]
  },
  {
   "cell_type": "markdown",
   "id": "7785dfb3",
   "metadata": {},
   "source": [
    "Labeled images like these are used for the training of machine learning algorithms that can predict the segmentation of the image (the different components in the thin section) from the original image ([see this repository](https://github.com/Philliec459/Semantic-Segmentation-of-Petrographic-Thin-Sections-using-Keras)). We are not going to do this here, but let's save the labeled image:"
   ]
  },
  {
   "cell_type": "code",
   "execution_count": null,
   "id": "2b6a594c",
   "metadata": {},
   "outputs": [],
   "source": [
    "# make image from array\n",
    "im = Image.fromarray(label)\n",
    "\n",
    "# convert image to 8-bit pixels, black and white\n",
    "im = im.convert(\"L\")\n",
    "\n",
    "# save image\n",
    "im.save(\"ss_thin_section_labeled.png\")"
   ]
  },
  {
   "cell_type": "markdown",
   "id": "194bee61",
   "metadata": {},
   "source": [
    "The saved image is just black, because it is just one channel with pixels of 1 to 5 values. To recreate the image again, you will need to load it, convert it to an array, and plot it:"
   ]
  },
  {
   "cell_type": "code",
   "execution_count": null,
   "id": "13d30db3",
   "metadata": {},
   "outputs": [],
   "source": [
    "im = Image.open(\"ss_thin_section_labeled.png\") # open image\n",
    "\n",
    "data = np.array(im) # convert image to array\n",
    "\n",
    "# plot image\n",
    "fig, ax = plt.subplots(figsize=(8, 6)) \n",
    "plt.imshow(data, interpolation=\"none\")\n",
    "plt.colorbar(ticks=np.arange(1,6,1));"
   ]
  },
  {
   "cell_type": "markdown",
   "id": "09a4a051",
   "metadata": {},
   "source": [
    "This was a brief introduction to images. There is more to learn. There are lots of online repositories on image processing with Python. However, not that many are relevant for geosciences. I recommend the [following repository](https://github.com/joferkington/geo_image_processing_tutorial). Check for example the [notebook 3](https://github.com/joferkington/geo_image_processing_tutorial/blob/master/03%20-%20Orientation%20Analysis.ipynb), thin section grain analyisis, for a very cool example on measuring the preferred orientation of mineral grains in a thin section.\n",
    "\n",
    "To practice, try exercise 3 in `day4/lab/lab4.pdf`"
   ]
  }
 ],
 "metadata": {
  "kernelspec": {
   "display_name": "Python 3 (ipykernel)",
   "language": "python",
   "name": "python3"
  },
  "language_info": {
   "codemirror_mode": {
    "name": "ipython",
    "version": 3
   },
   "file_extension": ".py",
   "mimetype": "text/x-python",
   "name": "python",
   "nbconvert_exporter": "python",
   "pygments_lexer": "ipython3",
   "version": "3.9.13"
  }
 },
 "nbformat": 4,
 "nbformat_minor": 5
}
