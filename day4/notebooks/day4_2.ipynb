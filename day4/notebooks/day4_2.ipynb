{
 "cells": [
  {
   "cell_type": "markdown",
   "id": "c4c8ba29",
   "metadata": {},
   "source": [
    "# Day 4-Part 2: Grids\n",
    "\n",
    "Grids are very important in geosciences. Basically, a grid is just a set of regularly spaced points in x and y, with some information (elevation, depth, thickness, etc.) at each point. A digital elevation model (DEM) is a good example. At each point in the DEM grid, the elevation is known. This notebook illustrates the visualization of grids in Python.\n",
    "\n",
    "Grid data are often available, but sometimes we need to reconstruct the grid from sparse data which is not regularly spaced. This process is known as interpolation, and in this notebook we describe it as well. "
   ]
  },
  {
   "cell_type": "markdown",
   "id": "140fad5a",
   "metadata": {},
   "source": [
    "## Visualizing a seismic horizon:\n",
    "\n",
    "We'll use a gridded seismic horizon from the Norwegian North Sea, namely the top of the Upper Permian Zechstein group, which in this area is the top of the salt. These data are in two-way travel time (TWT) in mili-seconds (ms) and were kindly provided by Dora Marin Restrepo at UiS.\n",
    "\n",
    "First, the usual preliminaries:"
   ]
  },
  {
   "cell_type": "code",
   "execution_count": null,
   "id": "fe4966bc",
   "metadata": {},
   "outputs": [],
   "source": [
    "import numpy as np\n",
    "import matplotlib.pyplot as plt\n",
    "import os"
   ]
  },
  {
   "cell_type": "markdown",
   "id": "7e1a5662",
   "metadata": {},
   "source": [
    "Then, we load the horizon. As you can see, the data are in `npy` format, which is the standard binary file format to store numpy arrays in disk (the `numpy` `save` function save an array as a `npy`file). Loading these data is easy, and it just requires the use of the `numpy.load` function:"
   ]
  },
  {
   "cell_type": "code",
   "execution_count": null,
   "id": "759ee338",
   "metadata": {},
   "outputs": [],
   "source": [
    "TWT = np.load(os.path.join(\"..\", \"data\", \"top_zech_twt.npy\"))\n",
    "x = np.load(os.path.join(\"..\", \"data\", \"top_zech_east.npy\"))\n",
    "y = np.load(os.path.join(\"..\", \"data\", \"top_zech_north.npy\"))"
   ]
  },
  {
   "cell_type": "markdown",
   "id": "9c079834",
   "metadata": {},
   "source": [
    "It is perhaps more difficult to understand, what these three arrays are. Let's start by printing their sizes:"
   ]
  },
  {
   "cell_type": "code",
   "execution_count": null,
   "id": "6754b2dc",
   "metadata": {},
   "outputs": [],
   "source": [
    "print(\"TWT size =\", TWT.shape)\n",
    "print(\"x size =\", x.shape)\n",
    "print(\"y size =\", y.shape)"
   ]
  },
  {
   "cell_type": "markdown",
   "id": "7039e1af",
   "metadata": {},
   "source": [
    "`TWT` is a large 2D array (you can tell that by the size of the `npy` file, which is 7 MB). `TWT` is the two-way travel time in ms of the horizon at each one of the points of the grid. Where the points have no data (where the horizon has not been mapped), the value of `nan` (not a number) is provided. This allows Python skipping these points.\n",
    "\n",
    "`x` and `y` on the other hand are 1D arrays corresponding to the east (`x`) and north (`y`) UTM coordinates of the points. Since the grid is regular, there is no need to save the east and north coordinates at every point of the grid. We can reconstruct these coordinates using the `numpy.meshgrid` function as follows:"
   ]
  },
  {
   "cell_type": "code",
   "execution_count": null,
   "id": "1bba9304",
   "metadata": {},
   "outputs": [],
   "source": [
    "X, Y = np.meshgrid(x, y)\n",
    "print(\"X size =\", X.shape)\n",
    "print(\"Y size =\", Y.shape)"
   ]
  },
  {
   "cell_type": "markdown",
   "id": "f791c218",
   "metadata": {},
   "source": [
    "Notice that this produces `X`and `Y` arrays of the same size than `TWT`. Let's explore a little bit these arrays:"
   ]
  },
  {
   "cell_type": "code",
   "execution_count": null,
   "id": "5761e52a",
   "metadata": {},
   "outputs": [],
   "source": [
    "print(\"X columns =\", X[0,0:5]) # print first 5 columns in first row of X\n",
    "print(\"Y columns =\", Y[0,0:5]) # print first 5 columns in first row of Y\n",
    "print(\"X rows =\", X[0:5,0]) # print first 5 rows in first column of X\n",
    "print(\"Y rows =\", Y[0:5,0]) # print first 5 rows in first column of Y"
   ]
  },
  {
   "cell_type": "markdown",
   "id": "50650f51",
   "metadata": {},
   "source": [
    "So, `X` (east) values vary with columns, while `Y` (north) values vary with rows. Every row has a constant `Y` (north) value and traverses the grid in increasing `X` (east) values, while every column has a constant `X` (east) value and traverses the grid in increasing `Y` (north) values. The figure below illustrates this:\n",
    "\n",
    "<img src=\"../figures/grid.png\" alt=\"grid\" width=\"400\"/><br><br>\n",
    "\n",
    "Once we have the location (`X` and `Y`) and values (`TWT`) array in the format of a grid, it is easy to visualize these data. Let's draw filled contours of the top Zechstein using the `contourf` function. To make the graph more elegant, we plot the data in s instead of ms:"
   ]
  },
  {
   "cell_type": "code",
   "execution_count": null,
   "id": "07c06c08",
   "metadata": {},
   "outputs": [],
   "source": [
    "# convert TWT to seconds\n",
    "TWT /= 1000 # This is the same as TWT = TWT / 1000\n",
    "\n",
    "# make figure\n",
    "fig, ax = plt.subplots(figsize=(10,10))\n",
    "\n",
    "# draw filled contours\n",
    "plt.contourf(X, Y, TWT)\n",
    "\n",
    "# draw colorbar and remove outline\n",
    "cb = plt.colorbar(label=\"TWT[s]\")\n",
    "cb.outline.set_visible(False)\n",
    "\n",
    "# set axes labels and make axes equal\n",
    "ax.set_xlabel(\"East\")\n",
    "ax.set_ylabel(\"North\")\n",
    "ax.axis(\"equal\");"
   ]
  },
  {
   "cell_type": "markdown",
   "id": "e8946e9a",
   "metadata": {},
   "source": [
    "Let's choose a more striking colormap:"
   ]
  },
  {
   "cell_type": "code",
   "execution_count": null,
   "id": "34b287d9",
   "metadata": {},
   "outputs": [],
   "source": [
    "# make figure\n",
    "fig, ax = plt.subplots(figsize=(10,10))\n",
    "\n",
    "# draw filled contours\n",
    "plt.contourf(X, Y, TWT, cmap=\"turbo\")\n",
    "\n",
    "# draw colorbar and remove outline\n",
    "cb = plt.colorbar(label=\"TWT[s]\")\n",
    "cb.outline.set_visible(False)\n",
    "\n",
    "# set axes labels and make axes equal\n",
    "ax.set_xlabel(\"East\")\n",
    "ax.set_ylabel(\"North\")\n",
    "ax.axis(\"equal\");"
   ]
  },
  {
   "cell_type": "markdown",
   "id": "1c4b93d0",
   "metadata": {},
   "source": [
    "This does not look very nice because the shallow areas (low TWT, diapir crests) show blue, while the deep areas (high TWT, minibasins) show red. Let's invert the color map:"
   ]
  },
  {
   "cell_type": "code",
   "execution_count": null,
   "id": "4ed95c05",
   "metadata": {},
   "outputs": [],
   "source": [
    "# make figure\n",
    "fig, ax = plt.subplots(figsize=(10,10))\n",
    "\n",
    "# draw filled contours with inverted colormap\n",
    "plt.contourf(X, Y, TWT, cmap=\"turbo_r\") # _r inverts the color map\n",
    "\n",
    "# draw colorbar and remove outline\n",
    "cb = plt.colorbar(label=\"TWT[s]\")\n",
    "cb.outline.set_visible(False)\n",
    "\n",
    "# set axes labels and make axes equal\n",
    "ax.set_xlabel(\"East\")\n",
    "ax.set_ylabel(\"North\")\n",
    "ax.axis(\"equal\");"
   ]
  },
  {
   "cell_type": "markdown",
   "id": "aafe7f1a",
   "metadata": {},
   "source": [
    "That is better, now the deeper areas display blue, while the shallower areas display red. However, the contour interval is too high. Let's fix that by specifying the contour interval and contour levels. We also make the colorbar more reasonable by specifying the ticks values:"
   ]
  },
  {
   "cell_type": "code",
   "execution_count": null,
   "id": "902c4645",
   "metadata": {},
   "outputs": [],
   "source": [
    "# make levels for filled contours\n",
    "mi, ma = np.floor(np.nanmin(TWT)), np.ceil(np.nanmax(TWT)) # minimum and maximum TWT values of the surface in s\n",
    "c_int = 0.1 # contour interval in s\n",
    "c_levels = np.arange(c_int*(mi//c_int), ma+c_int, c_int) # contour levels, add c_int to ma to include it\n",
    "\n",
    "# make figure\n",
    "fig, ax = plt.subplots(figsize=(10,10))\n",
    "\n",
    "# draw filled contours and specify contour levels\n",
    "plt.contourf(X, Y, TWT, cmap=\"turbo_r\", levels=c_levels)\n",
    "\n",
    "# draw colorbar and remove outline, also set tick values\n",
    "cb = plt.colorbar(label=\"TWT[s]\", ticks=np.arange(0,8,1))\n",
    "cb.outline.set_visible(False)\n",
    "\n",
    "# set axes labels and make axes equal\n",
    "ax.set_xlabel(\"East\")\n",
    "ax.set_ylabel(\"North\")\n",
    "ax.axis(\"equal\");"
   ]
  },
  {
   "cell_type": "markdown",
   "id": "ea9fcd6d",
   "metadata": {},
   "source": [
    "That looks much better 🙂 Now, let's add some contour lines, though we don't want to add too many since the map can get too crowded:"
   ]
  },
  {
   "cell_type": "code",
   "execution_count": null,
   "id": "9724858f",
   "metadata": {},
   "outputs": [],
   "source": [
    "# make levels for contour lines\n",
    "c_int = 1 # contour interval in s\n",
    "cl_levels = np.arange(c_int*(mi//c_int), ma+c_int, c_int) # levels for contour lines, add c_int to ma to include it\n",
    "\n",
    "# make figure\n",
    "fig, ax = plt.subplots(figsize=(10,10))\n",
    "\n",
    "# draw filled contours\n",
    "plt.contourf(X, Y, TWT, cmap=\"turbo_r\", levels=c_levels)\n",
    "\n",
    "# draw colorbar and remove outline, also set tick values\n",
    "cb = plt.colorbar(label=\"TWT[s]\", ticks=np.arange(mi,8,1))\n",
    "cb.outline.set_visible(False)\n",
    "\n",
    "# draw contour lines and specify contour levels\n",
    "ax.contour(X,Y,TWT,levels=cl_levels, linewidths=0.25, linestyles=\"solid\", colors=[\"black\"])\n",
    "\n",
    "# set axes labels and make axes equal\n",
    "ax.set_xlabel(\"East\")\n",
    "ax.set_ylabel(\"North\")\n",
    "ax.axis(\"equal\"); "
   ]
  },
  {
   "cell_type": "markdown",
   "id": "b427c75a",
   "metadata": {},
   "source": [
    "So, the hard part is getting the grid data. Once you have these data, contouring it and making nice figures is easy. In the next section, we will look at how to make grid data from sparse data."
   ]
  },
  {
   "cell_type": "markdown",
   "id": "02112b6e",
   "metadata": {},
   "source": [
    "## Interpolating sparse data to create a grid\n",
    "\n",
    "I often run into the problem of making a grid from an old topographic map, from which there is no published DEM data. The solution to this problem involves digitizing the contour lines of the map, and then interpolating these points to make a grid. Digitizing the contour lines is rather boring, though these days there are wonderful online tools to do this ([this is one](https://automeris.io/WebPlotDigitizer/)). The second part of interpolating the points into a grid, goes in a fly.\n",
    "\n",
    "Let's look at the following example. This is a topographic map from Ragan's structural geology book. We are going to use this map latter in one exercise:\n",
    "\n",
    "<img src=\"../figures/topomap.png\" alt=\"topomap\" width=\"700\"/><br><br>\n",
    "\n",
    "I'll save you the task of digitizing the contour lines. These data are included in the data folder, let's load it:"
   ]
  },
  {
   "cell_type": "code",
   "execution_count": null,
   "id": "31b372ee",
   "metadata": {},
   "outputs": [],
   "source": [
    "ragan_topo = np.loadtxt(os.path.join(\"..\", \"data\", \"ragan_topo.txt\"), delimiter=\",\")\n",
    "print(\"size of ragan_topo =\", ragan_topo.shape)\n",
    "ragan_topo"
   ]
  },
  {
   "cell_type": "markdown",
   "id": "de698697",
   "metadata": {},
   "source": [
    "The data consists of 6812 points (6812 rows) with east, north, and up coordinates (3 columns). Let's quickly visualize these data:"
   ]
  },
  {
   "cell_type": "code",
   "execution_count": null,
   "id": "3b18d279",
   "metadata": {},
   "outputs": [],
   "source": [
    "# extract x, y and up coordinates\n",
    "x_topo = ragan_topo[:,0] # 1st column of ragan_topo\n",
    "y_topo = ragan_topo[:,1] # 2nd column of ragan_topo\n",
    "z_topo = ragan_topo[:,2] # 3rd column of ragan_topo\n",
    "\n",
    "# make figure\n",
    "fig, ax = plt.subplots(figsize=(14,8))\n",
    "\n",
    "# plot points\n",
    "plt.scatter(x_topo, y_topo, c=z_topo, s=1, cmap=\"gist_earth\")\n",
    "\n",
    "# draw colorbar and remove outline, also set tick values\n",
    "cb = plt.colorbar(label=\"Elevation [m]\")\n",
    "cb.outline.set_visible(False)\n",
    "\n",
    "# set axes labels and make axes equal\n",
    "ax.set_xlabel(\"East\")\n",
    "ax.set_ylabel(\"North\")\n",
    "ax.axis(\"equal\"); \n",
    "ax.set_xlim([np.amin(x_topo), np.amax(x_topo)])\n",
    "ax.set_ylim([np.amin(y_topo), np.amax(y_topo)]);"
   ]
  },
  {
   "cell_type": "markdown",
   "id": "66f6ea15",
   "metadata": {},
   "source": [
    "So, these data are not in a regular grid, but rather the points follow the contour lines. To make them into a regular grid, we must first make a grid, which represents the points we'd like to predict:"
   ]
  },
  {
   "cell_type": "code",
   "execution_count": null,
   "id": "6870ba17",
   "metadata": {},
   "outputs": [],
   "source": [
    "x_points = np.linspace(np.amin(x_topo), np.amax(x_topo), 500) # 500 points along x\n",
    "y_points = np.linspace(np.amin(y_topo), np.amax(y_topo), 400) # 400 points along y\n",
    "XG, YG = np.meshgrid(x_points, y_points) # X and Y coordinates of points in 400 x 500 grid\n",
    "print(\"size of grid =\", XG.shape)\n",
    "\n",
    "# make figure\n",
    "fig, ax = plt.subplots(figsize=(14,8))\n",
    "\n",
    "# plot points of the grid\n",
    "plt.scatter(XG, YG, s=0.5, color=\"black\")\n",
    "\n",
    "# set axes labels and make axes equal\n",
    "ax.set_xlabel(\"East\")\n",
    "ax.set_ylabel(\"North\")\n",
    "ax.axis(\"equal\");"
   ]
  },
  {
   "cell_type": "markdown",
   "id": "feae9c21",
   "metadata": {},
   "source": [
    "Wow, that is a very dense grid of 200,000 points. We need an interpolator to find out the elevation at these points, from the elevation of the points on the contours. Luckily, the `scipy.interpolate.griddata` function does exactly that:"
   ]
  },
  {
   "cell_type": "code",
   "execution_count": null,
   "id": "9177526f",
   "metadata": {},
   "outputs": [],
   "source": [
    "# import scipy.interpolate\n",
    "import scipy.interpolate as si\n",
    "\n",
    "# Interpolate data to make grid, we try the nearest method\n",
    "# but you can try other such as the linear or cubic methods\n",
    "ZG = si.griddata((x_topo, y_topo), z_topo, (XG, YG), method=\"nearest\")\n",
    "\n",
    "# size of ZG\n",
    "print(\"size of ZG =\", ZG.shape)"
   ]
  },
  {
   "cell_type": "markdown",
   "id": "748e0747",
   "metadata": {},
   "source": [
    "Wow, that was fast. Now `XG` (east), `YG` (north), and `ZG` (up) have the same size and represent the coordinates of all grid points. We can now contour these data:"
   ]
  },
  {
   "cell_type": "code",
   "execution_count": null,
   "id": "4a1656d7",
   "metadata": {},
   "outputs": [],
   "source": [
    "# contour levels\n",
    "c_int = 5 # contour interval is 5 m\n",
    "c_levels = np.arange(c_int*(np.amin(z_topo)//c_int), np.amax(z_topo)+c_int, c_int) # contour levels\n",
    "\n",
    "# make figure\n",
    "fig, ax = plt.subplots(figsize=(14,8))\n",
    "\n",
    "# draw filled contours\n",
    "plt.contourf(XG, YG, ZG, cmap=\"gist_earth\", levels=c_levels)\n",
    "plt.colorbar(label=\"Elevation [m]\")\n",
    "\n",
    "# draw contour lines every 5 m\n",
    "ax.contour(XG,YG,ZG,levels=c_levels, linewidths=0.5, linestyles=\"solid\", colors=[\"black\"])\n",
    "\n",
    "# draw thicker contour lines every 25 m and label them\n",
    "c_int = 25 # contour interval is 25 m\n",
    "c_levels = np.arange(c_int*(np.amin(z_topo)//c_int), np.amax(z_topo)+c_int, c_int) # contour levels\n",
    "cs = ax.contour(XG,YG,ZG,levels=c_levels, linewidths=1.0, linestyles=\"solid\", colors=[\"black\"])\n",
    "ax.clabel(cs)\n",
    "\n",
    "# set axes labels and make axes equal\n",
    "ax.set_xlabel(\"East\")\n",
    "ax.set_ylabel(\"North\")\n",
    "ax.axis(\"equal\");\n",
    "ax.set_xlim([np.amin(x_topo), np.amax(x_topo)])\n",
    "ax.set_ylim([np.amin(y_topo), np.amax(y_topo)]);"
   ]
  },
  {
   "cell_type": "markdown",
   "id": "55a4aedc",
   "metadata": {},
   "source": [
    "Voila... 🙂\n",
    "\n",
    "Making grids from sparse data is not only useful for extracting DEMs from old topo maps, but for any situation where we have sparse data (or measurements) and we want to interpolate and contour these data.\n",
    "\n",
    "To practice, try exercise 2 in `day4/lab/lab4.pdf`"
   ]
  }
 ],
 "metadata": {
  "kernelspec": {
   "display_name": "Python 3 (ipykernel)",
   "language": "python",
   "name": "python3"
  },
  "language_info": {
   "codemirror_mode": {
    "name": "ipython",
    "version": 3
   },
   "file_extension": ".py",
   "mimetype": "text/x-python",
   "name": "python",
   "nbconvert_exporter": "python",
   "pygments_lexer": "ipython3",
   "version": "3.10.9"
  }
 },
 "nbformat": 4,
 "nbformat_minor": 5
}
