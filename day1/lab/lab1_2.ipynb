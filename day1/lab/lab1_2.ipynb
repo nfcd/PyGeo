{
 "cells": [
  {
   "cell_type": "markdown",
   "id": "eddd4977",
   "metadata": {},
   "source": [
    "# Lab1_2"
   ]
  },
  {
   "cell_type": "code",
   "execution_count": null,
   "id": "9e1e9bd1",
   "metadata": {},
   "outputs": [],
   "source": [
    "# required libraries and modules\n",
    "import numpy as np # import numpy as np\n",
    "import matplotlib.pyplot as plt # import pyplot as plt"
   ]
  },
  {
   "cell_type": "markdown",
   "id": "7b53cd3a",
   "metadata": {},
   "source": [
    "## Exercise 1\n",
    "\n",
    "The area of a polygon of any shape (except one that crosses itself) can be written as:\n",
    "\n",
    "### <div align=\"center\">$A=\\frac{1}{2} \\sum_{i=1}^n\\left(x_i y_{i+1}-x_{i+1} y_i\\right) \\text { if } i+1>n, i+1=1$</div>\n",
    "\n",
    "where $n$ is the number of points in the polygon, and ($x_i$, $y_i$) are the $x$ and $y$ coordinates of the points. For example, for a four points polygon the area is:\n",
    "\n",
    "### <div align=\"center\">$A=\\frac{1}{2}(x_1y_2-x_2y_1+x_2y_3-x_3y_2+x_3y_4-x_4y_3+x_4y_1-x_1y_4)$</div>\n",
    "\n",
    "Notice that this equation returns a positive area if the points are ordered counter-clockwise, or a negative area if the points are ordered clockwise.\n",
    "\n",
    "1. Write a Python function called polyg_area which computes the area of a polygon.\n",
    "2. Use the function to compute the area of the polygon in Fundamentals 2 (../data/polygon.txt)"
   ]
  },
  {
   "cell_type": "code",
   "execution_count": null,
   "id": "e2db5ea1",
   "metadata": {},
   "outputs": [],
   "source": [
    "# 1. write function to compute area of a polygon\n",
    "def polyg_area(polyg):\n",
    "    \"\"\"\n",
    "    calculate and return the area of a polygon\n",
    "    from the polygon points in polyg (n x 2) array\n",
    "    n = number of points, column 1: x, column 2 = y\n",
    "    Note: points must be in sequential order\n",
    "    \"\"\"\n",
    "    "
   ]
  },
  {
   "cell_type": "code",
   "execution_count": null,
   "id": "4b0ef114",
   "metadata": {},
   "outputs": [],
   "source": [
    "# 2. Use the function to compute the area of the polygon in Fundamentals 2\n",
    "\n",
    "# read the polygon points\n",
    "\n",
    "# calculate area using function polyg_area\n",
    "\n",
    "# print area nicely \n"
   ]
  },
  {
   "cell_type": "markdown",
   "id": "66c7d8ce",
   "metadata": {},
   "source": [
    "## Exercise 2\n",
    "\n",
    "1. Modify the polyg_area function above to, in addition, take a step input corresponding to the increment between the points used in the area calculation: step = 1 is all points, step = 2 is every two points, etc.\n",
    "\n",
    "2. Make a plot of step (horizontal axis) versus polygon area (vertical axis) for steps of 1, 2, 3... to 50."
   ]
  },
  {
   "cell_type": "code",
   "execution_count": null,
   "id": "2aa6734f",
   "metadata": {},
   "outputs": [],
   "source": [
    "# 1. write new function taking in addition step\n",
    "def polyg_area_step(polyg, step):\n",
    "    \"\"\"\n",
    "    calculate the area of a polygon\n",
    "    from the polygon points (n x 2 array) \n",
    "    n = number of points, column 1: x, column 2 = y\n",
    "    step controls the selected points\n",
    "    step: 1 (all points), 2 (every two points), etc.\n",
    "    Note: points must be in sequential order\n",
    "    \"\"\"\n",
    "    "
   ]
  },
  {
   "cell_type": "code",
   "execution_count": null,
   "id": "0e5857e7",
   "metadata": {},
   "outputs": [],
   "source": [
    "# 2. make a plot of step versus polygon area\n",
    "steps = # array of steps from 1 to 50\n",
    "areas = # array of 50 zeros\n",
    "\n",
    "# calculate the area values for all the steps\n",
    "\n",
    "# plot the results\n"
   ]
  },
  {
   "cell_type": "markdown",
   "id": "9a7fff0b",
   "metadata": {},
   "source": [
    "## Exercise 3\n",
    "\n",
    "1. Write a function called fill_rectangle_with_circles, which fills a rectangular area with circles of constant radius. The function should take as input arguments the width of the rectangle, the height of the rectangle, and the radius of the circles. The function should plot the rectangular area and circles, and it should output the areal porosity (volume of voids between circles/area of rectangle).\n",
    "\n",
    "2. Use the function to fill a rectangle of 400 units width and 200 units height, with circles of 5 units radius."
   ]
  },
  {
   "cell_type": "code",
   "execution_count": null,
   "id": "b2c67be4",
   "metadata": {},
   "outputs": [],
   "source": [
    "# import Circle class in ../functions\n"
   ]
  },
  {
   "cell_type": "code",
   "execution_count": null,
   "id": "36c3e7bb",
   "metadata": {},
   "outputs": [],
   "source": [
    "# 1. Write function\n",
    "def fill_rectangle_with_circles(rect_width, rect_height, radius):\n",
    "    \"\"\"\n",
    "    Fills a rectangle of given width (rect_width) and height \n",
    "    (rect_height) with circles of constant radius (radius)\n",
    "    Plots the rectangular area and circles and outputs the \n",
    "    areal porosity\n",
    "    \"\"\"\n",
    "    "
   ]
  },
  {
   "cell_type": "code",
   "execution_count": null,
   "id": "9f460fed",
   "metadata": {},
   "outputs": [],
   "source": [
    "# 2. fills rectangle with area\n",
    "rect_width = # rectangle width\n",
    "rect_height = # rectangle height\n",
    "radius = # radius of circles\n",
    "\n",
    "# compute and print areal porosity\n"
   ]
  },
  {
   "cell_type": "markdown",
   "id": "210a20ea",
   "metadata": {},
   "source": [
    "## Exercise 4\n",
    "\n",
    "The file `../data/net_oil.txt` contains the x(east), y (north), and z (thickness value) of contours in an isochore map (a contour map of vertical thickness) of net oil in a trap. All values are in meters, and contours go from 0 to 30 in intervals of 5 m. Compute the volume of oil in the trap. Note: This problem is divided below in 3 steps. Step 1 and 3 are already solved, so you just need to work with step 2."
   ]
  },
  {
   "cell_type": "code",
   "execution_count": null,
   "id": "74d138e9",
   "metadata": {},
   "outputs": [],
   "source": [
    "# 1. Define contour values and initialize contours areas\n",
    "c_values = np.arange(0, 35 , 5) # contours values from 0 to 30 in steps of 5\n",
    "c_areas = np.zeros(c_values.size) # contours areas are initialized to zero"
   ]
  },
  {
   "cell_type": "code",
   "execution_count": null,
   "id": "b9d2c5eb",
   "metadata": {},
   "outputs": [],
   "source": [
    "# 2. \n",
    "\n",
    "# Read the contours\n",
    "contours = # read the contours\n",
    "\n",
    "# For each contour value in c_values\n",
    "# a. extract the contour polygon\n",
    "# b. calculate the area of the contour (use function polyg_area) and store it in c_areas \n",
    "# c. plot the polygon points\n"
   ]
  },
  {
   "cell_type": "markdown",
   "id": "07ac2f81",
   "metadata": {},
   "source": [
    "We can matematically express the volume of the trap as:\n",
    "\n",
    "### <div align=\"center\">$V=\\int_a^b A(z) d z$</div>\n",
    "\n",
    "To visualize why this is the case, just imagine slicing the volume into many horizontal slices, these are contours. We can then estimate the volume between each pair of adjacent contours (a trapezoidal prism), and finally sum up all the volumes to get the total volume.\n",
    "\n",
    "So, we just need to do an integration. We can do this using the `scipy.integrate` module. In the code below, we are using for the integration a trapezoidal rule `trapz`:"
   ]
  },
  {
   "cell_type": "code",
   "execution_count": null,
   "id": "97f6b3d2",
   "metadata": {},
   "outputs": [],
   "source": [
    "# 3. compute the volume of the trap by integration\n",
    "\n",
    "from scipy import integrate # import the integrate module\n",
    "\n",
    "vol_oil = integrate.trapz(c_areas, c_values)\n",
    "print(\"The volume of oil is = {:0,.0f} cubic meters or {:0,.0f} barrels\".format(vol_oil, vol_oil*6.2898))"
   ]
  }
 ],
 "metadata": {
  "kernelspec": {
   "display_name": "Python 3 (ipykernel)",
   "language": "python",
   "name": "python3"
  },
  "language_info": {
   "codemirror_mode": {
    "name": "ipython",
    "version": 3
   },
   "file_extension": ".py",
   "mimetype": "text/x-python",
   "name": "python",
   "nbconvert_exporter": "python",
   "pygments_lexer": "ipython3",
   "version": "3.9.7"
  }
 },
 "nbformat": 4,
 "nbformat_minor": 5
}
