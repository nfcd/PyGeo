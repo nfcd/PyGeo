{
 "cells": [
  {
   "cell_type": "markdown",
   "id": "f4c1e6a0",
   "metadata": {},
   "source": [
    "# Lab 1_1\n",
    "\n",
    "## Exercise 1\n",
    "\n",
    "The average radius of the Earth is 6370 km. The oceans cover 70% of the surface of the planet, and the average depth of the oceans is 3700 m. Estimate the surface area of the Earth, the surface area occupied by oceans, and the volume of the oceans (Hint: The surface area of a sphere is $4\\pi r^2$)."
   ]
  },
  {
   "cell_type": "code",
   "execution_count": null,
   "id": "fc7c6ea4",
   "metadata": {},
   "outputs": [],
   "source": [
    "import math # import math module\n",
    "\n",
    "earth_radius =  # Earth radius in km\n",
    "ocean_fract =  # fraction of the Earth covered by oceans\n",
    "ocean_depth =  # average depth of the ocean in km\n",
    "earth_area =  # calculate earth surface area in km^2\n",
    "ocean_area =  # calculate oceans surface area in km^2\n",
    "ocean_volume =  # calculate volume of the oceans in km^3\n",
    "\n",
    "\n",
    "print() # print answer nicely and including units"
   ]
  },
  {
   "cell_type": "markdown",
   "id": "7dc4421c",
   "metadata": {},
   "source": [
    "## Exercise 2\n",
    "\n",
    "The table below shows the conversion of different pressure units to Pascals (Pa):\n",
    "\n",
    "|Unit|Pa|\n",
    "|:---:|---:|\n",
    "|atm|101325|\n",
    "|bar|100000|\n",
    "|in Hg|3386.39|\n",
    "|in H20|249.09|\n",
    "|kPa|1000|\n",
    "|MPa|1000000|\n",
    "|mbars|100|\n",
    "|mm Hg|133.32|\n",
    "|mm H20|9.81|\n",
    "|psi|6894.76|\n",
    "|torr|133.32|\n",
    "\n",
    "1. Make a dictionary to represent this table. The keys of the dictionary are the units names, and the values are the units in Pascals. \n",
    "2. The maximum depth of the 14.4 km long Ryfylke tunnel is 292 m below sea level. What is the pressure at this depth in Pa? Hint: Pressure = density_water * gravity * depth. Use water density = 1000 kg/m$^3$, and gravity = 9.8 m/s$^2$.\n",
    "3. What is the pressure at this depth in atm, mm Hg, and psi? Use your dictionary in 1 to solve this problem."
   ]
  },
  {
   "cell_type": "code",
   "execution_count": null,
   "id": "c8ee9631",
   "metadata": {},
   "outputs": [],
   "source": [
    "pres_dict = # make dictionary of pressure units\n",
    "\n",
    "dens_wat = # density of water in kg/m^3\n",
    "gravity = # gravity in m/^2\n",
    "max_depth = # max. tunnel depth in m\n",
    "pres_pa = # compute pressure in Pa at max_depth\n",
    "pres_mpa = # pressure in MPa\n",
    "\n",
    "# print pressure in MPa\n",
    "print() \n",
    "\n",
    "pres_atm = # compute pressure in atm, use your dictionary\n",
    "pres_mmhg = # compute pressure in mm Hg, use your dictionary\n",
    "pres_psi = # compute pressure in psi, use your dictionary\n",
    "\n",
    "# print pressure in atm, mm Hg, and psi\n",
    "print() "
   ]
  },
  {
   "cell_type": "markdown",
   "id": "19a25ab8",
   "metadata": {},
   "source": [
    "## Exercise 3\n",
    "The famous three-point problem is important in structural geology. The idea is to determine the orientation of a plane from the x (east), y (north) and z (up) coordinates of three points, such as might be encountered in drill holes. The method is actually quite straightforward. First, we need to be able to describe an inclined plane by a mathematical function:\n",
    "\n",
    "### <div align=\"center\">$z=m_xx+m_yy+z_0$</div>\n",
    "\n",
    "x, y and z are the east, north and up coordinates of the point, $m_x$ and $m_y$ are the slopes in the x (east) and y (north) directions, and $z_0$ is the elevation of the plane at the origin. If we have three points on the plane, we have the following equations:\n",
    "\n",
    "### <div align=\"center\">$z_1=m_xx_1+m_yy_1+z_0$</div>\n",
    "\n",
    "### <div align=\"center\">$z_2=m_xx_2+m_yy_2+z_0$</div>\n",
    "\n",
    "### <div align=\"center\">$z_3=m_xx_3+m_yy_3+z_0$</div>\n",
    "\n",
    "which we can write in matrix format as follows:\n",
    "\n",
    "### <div align=\"center\">$\\left [\\begin{matrix}z_1  \\\\ z_2  \\\\z_3 \\end{matrix}\\right ]=\\left [\\begin{matrix}x_1 & y_1 & 1 \\\\ x_2 & y_2 & 1 \\\\x_3 & y_3 & 1\\end{matrix}\\right ]\\left [\\begin{matrix}m_x \\\\ m_y \\\\z_0\\end{matrix}\\right]$</div>\n",
    "\n",
    "and in short notation as:\n",
    "\n",
    "### <div align=\"center\">$\\mathbf{b}=\\mathbf{A}\\mathbf{x}$</div>\n",
    "\n",
    "We want to solve for x. This is easy, we just need to do the following:\n",
    "\n",
    "### <div align=\"center\">$\\mathbf{x}=\\mathbf{A}^{-1}\\mathbf{b}$</div>\n",
    "\n",
    "where $\\mathbf{A}^{-1}$ is the inverse of the matrix $\\mathbf{A}$. \n",
    "\n",
    "Let's look at a specific problem: Three boreholes cross an iron-rich bed at east, north, up coordinates in meters:\n",
    "\n",
    "borehole_1 = [393, 2374, 550];    borehole_2 = [1891, 2738, 650];  borehole_3 = [2191, 1037, 450]\n",
    "\n",
    "1. Determine the slope (in degrees) of the bed in the east and north directions. \n",
    "2. A new borehole at east, north, up coordinates in meters [500, 500, 1000] is planned. At which depth the borehole will find the bed?"
   ]
  },
  {
   "cell_type": "code",
   "execution_count": null,
   "id": "d0b607d9",
   "metadata": {},
   "outputs": [],
   "source": [
    "import numpy as np\n",
    "\n",
    "b = # make 3x1 vector b\n",
    "A = # make 3x3 matrix A\n",
    "A_inv = # compute inverse of matrix A\n",
    "x = # compute 3x1 vector x\n",
    "slope = # slope in degrees\n",
    "\n",
    "# print slopes in east and north, in degrees\n",
    "print()   \n",
    "\n",
    "new_bor =  # coordinates of new borehole\n",
    "z_bed =  # compute elevation of bed at new borehole\n",
    "d_bed =  # compute depth of bed at new borehole\n",
    "\n",
    "# print depth of bed at new borehole\n",
    "print() "
   ]
  }
 ],
 "metadata": {
  "kernelspec": {
   "display_name": "Python 3 (ipykernel)",
   "language": "python",
   "name": "python3"
  },
  "language_info": {
   "codemirror_mode": {
    "name": "ipython",
    "version": 3
   },
   "file_extension": ".py",
   "mimetype": "text/x-python",
   "name": "python",
   "nbconvert_exporter": "python",
   "pygments_lexer": "ipython3",
   "version": "3.9.13"
  }
 },
 "nbformat": 4,
 "nbformat_minor": 5
}
