{
 "cells": [
  {
   "cell_type": "markdown",
   "id": "bdcbe371",
   "metadata": {},
   "source": [
    "# Day 1-part 1: Fundamentals 1\n",
    "\n",
    "## What is Python?\n",
    "\n",
    "- Python is a programming language.\n",
    "- Python is a collection of powerful internal and external libraries. We can use Python for real-world geosciences and engineering tasks. \n",
    "- Python is a philosophy for writing code. The principles of this philosophy are emboddied in the [Zen of Python](https://peps.python.org/pep-0020/), and they can be listed by typing:"
   ]
  },
  {
   "cell_type": "code",
   "execution_count": null,
   "id": "38d53500",
   "metadata": {
    "tags": []
   },
   "outputs": [],
   "source": [
    "import this"
   ]
  },
  {
   "cell_type": "markdown",
   "id": "5496ff11",
   "metadata": {},
   "source": [
    "## Notebooks\n",
    "\n",
    "Notebooks like this one consist of units called `cells`. Cells can contain markdown text like this one, or Python code like the cell above (notice that code cells are numbered). To run a cell you can click the `Run` button. These are some useful shortcuts:\n",
    "\n",
    "- To run a cell and stay in the same cell, type `Ctrl+Enter` \n",
    "- To run a cell and move to the next cell, type `Shift+Enter`\n",
    "- To run a cell and insert a new cell below, type `Alt+Enter`\n",
    "- To run all the cells of a notebook, choose the `Cell -> Run all` menu\n",
    "- Use the up and down arrow keys to move quickly between cells"
   ]
  },
  {
   "cell_type": "markdown",
   "id": "a17913b8",
   "metadata": {},
   "source": [
    "## Math operations\n",
    "\n",
    "Python can be used as a simple calculator:"
   ]
  },
  {
   "cell_type": "code",
   "execution_count": null,
   "id": "697d39c8",
   "metadata": {
    "tags": []
   },
   "outputs": [],
   "source": [
    "2345 + 137"
   ]
  },
  {
   "cell_type": "code",
   "execution_count": null,
   "id": "a7a189f5",
   "metadata": {
    "tags": []
   },
   "outputs": [],
   "source": [
    "27 / 4"
   ]
  },
  {
   "cell_type": "code",
   "execution_count": null,
   "id": "5552cdaa",
   "metadata": {
    "tags": []
   },
   "outputs": [],
   "source": [
    "7 ** 3"
   ]
  },
  {
   "cell_type": "code",
   "execution_count": null,
   "id": "cf3749f9",
   "metadata": {
    "tags": []
   },
   "outputs": [],
   "source": [
    "27 // 4"
   ]
  },
  {
   "cell_type": "code",
   "execution_count": null,
   "id": "8f8036bf",
   "metadata": {
    "tags": []
   },
   "outputs": [],
   "source": [
    "27 % 4"
   ]
  },
  {
   "cell_type": "markdown",
   "id": "d366984c",
   "metadata": {},
   "source": [
    "However, this only works for the basic arithmetic operations: addition (`+`), subtraction (`-`), multiplication (`*` ), division (`/`), exponentiation (`**`), floor division (`//`), and modulo division (`%`). Notice that division (`/`) returns a float value, even if the two numbers are integers. Floor (or integer) division (`//`) returns the quotient of the division rounded down to the nearest whole number, while modulo division (`%`) returns the remainder of the division (this is more complicated for negative numbers, see this [note](https://blog.teclado.com/pythons-modulo-operator-and-floor-division/)).\n",
    "\n",
    "For more advanced operations, we need to import the `math` module:"
   ]
  },
  {
   "cell_type": "code",
   "execution_count": null,
   "id": "502e50b2",
   "metadata": {
    "tags": []
   },
   "outputs": [],
   "source": [
    "import math"
   ]
  },
  {
   "cell_type": "markdown",
   "id": "bc211f15",
   "metadata": {},
   "source": [
    "A module is a collection of code items such as functions. Individual modules are often in a group referred to as a library, for example the `math` module is part of the Python standard library.\n",
    "\n",
    "Now that we have imported the `math` module, we can perform more complex operations using its functions. For example, let's calculate the sine of 30 degrees."
   ]
  },
  {
   "cell_type": "code",
   "execution_count": null,
   "id": "6c74e00c",
   "metadata": {
    "tags": []
   },
   "outputs": [],
   "source": [
    "# sine of 30 degrees, option 1\n",
    "math.sin(30*math.pi/180)"
   ]
  },
  {
   "cell_type": "code",
   "execution_count": null,
   "id": "df82919c",
   "metadata": {
    "tags": []
   },
   "outputs": [],
   "source": [
    "# sine of 30 degrees, option 2\n",
    "math.sin(math.radians(30))"
   ]
  },
  {
   "cell_type": "markdown",
   "id": "69fce082",
   "metadata": {},
   "source": [
    "There are two things to notice:\n",
    "\n",
    "- The first line in the two cells above is a comment, a line that is ignored by Python but we can include to document what we are doing. Comments begin with `#` and continue to the end of the line.\n",
    "\n",
    "- Computers understand radians, not degrees. Therefore, we need to convert the angle from degrees to radians either by multiplying it by $\\pi$/180 (we use the function `math.pi` to get $\\pi$), or by using the `math.radians` function, before taking the sine of the angle using the `math.sin` function. By the way, the result of this operation is 0.5, but as you can see there are minor precision errors.\n",
    "\n",
    "The `math` module has a long list of mathematical functions. You can find the complete list [here](https://docs.python.org/3/library/math.html). Another way to quickly find out the functions in the math module is to type `math.` followed by the `Tab` key, this will present you with the list of functions in the module. Try below."
   ]
  },
  {
   "cell_type": "code",
   "execution_count": null,
   "id": "62a78333",
   "metadata": {},
   "outputs": [],
   "source": [
    "# Type \"math.\" followed by the Tab key\n",
    "    "
   ]
  },
  {
   "cell_type": "markdown",
   "id": "158a9716",
   "metadata": {},
   "source": [
    "`Tab` completion is a nice feature of the IPython shell (the shell used by Jupyter notebooks) and it works on any module, object, etc.\n",
    "\n",
    "## Variables\n",
    "\n",
    "A variable can be used to store values calculated in expressions and used for other calculations. In Python there are several variable types. These are summarized in the figure below:<br><br>\n",
    "\n",
    "<img src=\"../figures/varTypes.png\" alt=\"varTypes\" width=\"600\"/><br><br>\n",
    "\n",
    "### Numbers\n",
    "\n",
    "Python supports integers, floats, and complex numbers. Integers and floats differ by the presence or absence of decimals. Complex numbers have a real part and an imaginary part:"
   ]
  },
  {
   "cell_type": "code",
   "execution_count": null,
   "id": "fcfde37a",
   "metadata": {
    "tags": []
   },
   "outputs": [],
   "source": [
    "my_integer = 32 # integer\n",
    "my_float = 23.00 # float\n",
    "my_complex = 5 + 3j # complex number: 5 is the real and 3 is the imaginary part\n",
    "print(my_integer, my_float, my_complex) # print numbers\n",
    "print(my_complex.real, my_complex.imag) # print real and imaginary parts of the complex number"
   ]
  },
  {
   "cell_type": "markdown",
   "id": "34291cdf",
   "metadata": {},
   "source": [
    "In the cell above, we use the function `print` to print the numbers. The real and imaginary parts of `my_complex` can be accessed using its `real` and `imag` methods, respectively.\n",
    "\n",
    "By default `print` uses a single space to separate the results. However, it is possible to change the default separator:"
   ]
  },
  {
   "cell_type": "code",
   "execution_count": null,
   "id": "dc85adff",
   "metadata": {
    "tags": []
   },
   "outputs": [],
   "source": [
    "print(my_integer, my_float, my_complex, sep = \" -- \") # print numbers with a different separator"
   ]
  },
  {
   "cell_type": "markdown",
   "id": "e5512591-ed56-45f7-a3dd-78f1ed16ae1c",
   "metadata": {},
   "source": [
    "It is possible to add a new line between the outputs of two `print` statements, or have them in the same line:"
   ]
  },
  {
   "cell_type": "code",
   "execution_count": null,
   "id": "ae38114a-1603-4d85-b111-55b082748f7d",
   "metadata": {
    "tags": []
   },
   "outputs": [],
   "source": [
    "print(my_integer, my_float, my_complex, \"\\n\") # print numbers, use \"\\n\" to add a new line\n",
    "print(my_complex.real, my_complex.imag, \"\\n\") # print real and imaginary parts of the complex number\n",
    "\n",
    "print(my_integer, my_float, my_complex, end =\"\\t\") # print numbers, use end = to specify the end of the line as \"\\t\"\n",
    "print(my_complex.real, my_complex.imag) # print real and imaginary parts of the complex number"
   ]
  },
  {
   "cell_type": "markdown",
   "id": "e4e1f170",
   "metadata": {},
   "source": [
    "The characters `\\n` and `\\t` are called escape characters. They can be used to insert characters that are illegal in a string, such as a new line (`\\n`) or a Tab (`\\t`). [Here is a list of escape characters](https://www.w3schools.com/python/gloss_python_escape_characters.asp).\n",
    "\n",
    "By default `print` ends with a new line. To change this, we can make `end` equal to another character, for example a Tab (`\\t`). This outputs the two print statements on the same line, separated by a Tab.\n",
    "\n",
    "We can use the function `type` to find out the type of a variable."
   ]
  },
  {
   "cell_type": "code",
   "execution_count": null,
   "id": "ab685738",
   "metadata": {
    "tags": []
   },
   "outputs": [],
   "source": [
    "print(type(my_integer), type(my_float), type(my_complex)) # print variable type"
   ]
  },
  {
   "cell_type": "markdown",
   "id": "0d803184",
   "metadata": {},
   "source": [
    "So our numbers are actually *classes*. The concept of class comes from the object oriented philosophy of Python, which we will discuss in the next notebook. For the moment, just realize that the numbers above are class instances (or objects) to which we can send methods. To find more about the methods of an object, use `Tab` completion. Let's try with `my_float`:"
   ]
  },
  {
   "cell_type": "code",
   "execution_count": null,
   "id": "26ec045f",
   "metadata": {},
   "outputs": [],
   "source": [
    "# Type \"my_float.\" followed by the Tab key\n"
   ]
  },
  {
   "cell_type": "markdown",
   "id": "e8bc4b91",
   "metadata": {},
   "source": [
    "Or use a question mark (`?`) before or after the variable. This will display some general information about the object:"
   ]
  },
  {
   "cell_type": "code",
   "execution_count": null,
   "id": "12b65adf",
   "metadata": {
    "tags": []
   },
   "outputs": [],
   "source": [
    "# Find more information about my_float\n",
    "my_float?"
   ]
  },
  {
   "cell_type": "markdown",
   "id": "7b6d4640",
   "metadata": {},
   "source": [
    "Thi is known as object instrospection.\n",
    "\n",
    "### Booleans\n",
    "\n",
    "Booleans (or bools) can only have two values, `True` or `False`. As we will see later, bools are useful in conditional statements."
   ]
  },
  {
   "cell_type": "code",
   "execution_count": null,
   "id": "e3d9c502",
   "metadata": {
    "tags": []
   },
   "outputs": [],
   "source": [
    "my_bool = True\n",
    "print(my_bool)"
   ]
  },
  {
   "cell_type": "markdown",
   "id": "500479c3",
   "metadata": {},
   "source": [
    "### A word about naming variables\n",
    "\n",
    "Variable names should be clear and concise, be written in English, not contain special characters, and not conflict with any Python keywords. The following code prints the Python keywords:"
   ]
  },
  {
   "cell_type": "code",
   "execution_count": null,
   "id": "f4b460c3",
   "metadata": {
    "tags": []
   },
   "outputs": [],
   "source": [
    "import keyword\n",
    "print(keyword.kwlist)"
   ]
  },
  {
   "cell_type": "markdown",
   "id": "5146a5d9",
   "metadata": {},
   "source": [
    "In this course, we will use the `pothole_case_naming` convention to label variables. This convention uses lowercase words separated by underscores `_`. You can find more information about naming conventions in the [Style Guide for Python Code](https://peps.python.org/pep-0008/).\n",
    "\n",
    "### Sequences\n",
    "\n",
    "A sequence is an ordered collection of items. Examples of sequences are Strings, Lists, and Tuples. Strings are sequences of characters, Lists are ordered collections of data (which can be of different type), and Tuples are similar to Lists, but they cannot be modified after their creation. The elements of a sequence can be accessed using indexes: \n",
    "- The first index of a sequence is always 0 (zero). \n",
    "- Using negative numbers (e.g., -1), the indexing of the sequence starts from the last element and proceeds in reverse order. \n",
    "- Two numbers separated by a colon (e.g. [3:7]) define an index range, sampling the sequence from the lower to the upper indexes, but excluding the upper index:"
   ]
  },
  {
   "cell_type": "code",
   "execution_count": null,
   "id": "61252f33",
   "metadata": {
    "tags": []
   },
   "outputs": [],
   "source": [
    "# create some sequences\n",
    "my_string = \"slightly \" + \"hot\" # strings can be concatenated using +\n",
    "my_list = [251 ,\"top Triassic\",146, \"top Cretaceous\", 23, \"top Neogene\"] # list of integers and strings\n",
    "# tuple of integers and strings, parentheses are optional but I recommend having them\n",
    "my_tuple = (251 ,\"top Triassic\",146, \"top Cretaceous\", 23, \"top Neogene\")\n",
    "print(my_string)\n",
    "print(my_list)\n",
    "print(my_tuple)"
   ]
  },
  {
   "cell_type": "code",
   "execution_count": null,
   "id": "e60cf716",
   "metadata": {
    "tags": []
   },
   "outputs": [],
   "source": [
    "# we can use indexes to get specific elements in the sequence\n",
    "print(my_string[3:8]) # print characters at indexes 3 to 7 in my_string\n",
    "print(my_list[0]) # print first element in my_list\n",
    "print(my_tuple[-1]) # print last element in my_tuple"
   ]
  },
  {
   "cell_type": "code",
   "execution_count": null,
   "id": "ad280f6d",
   "metadata": {
    "tags": []
   },
   "outputs": [],
   "source": [
    "# A step can also be used after a second colon to, say, take every other element of the sequence\n",
    "print(my_list[::2])\n",
    "# A neat trick:  by passing -1 as step, we can reverse the sequence\n",
    "print(my_string[::-1])"
   ]
  },
  {
   "cell_type": "code",
   "execution_count": null,
   "id": "736f9dfb",
   "metadata": {
    "tags": []
   },
   "outputs": [],
   "source": [
    "# lists can be modified\n",
    "my_list.append(0.0) # append element\n",
    "my_list.insert(0,\"top Carboniferous\") # insert element at index 0\n",
    "my_list[-3] = 23.3 # change third last element\n",
    "my_list.reverse() # reverse the elements of the list\n",
    "print(my_list) # print my list"
   ]
  },
  {
   "cell_type": "code",
   "execution_count": null,
   "id": "25d1521a",
   "metadata": {
    "tags": []
   },
   "outputs": [],
   "source": [
    "# but tuples can't, this cell will return an error\n",
    "my_tuple[-2] = 23.3 "
   ]
  },
  {
   "cell_type": "code",
   "execution_count": null,
   "id": "6fb8ebeb",
   "metadata": {},
   "outputs": [],
   "source": [
    "# lists have some interesting arithmetic\n",
    "zeros = [0]*5  # a list with 5 zeros\n",
    "ones = [1]*5  # a list with 5 ones\n",
    "my_list = zeros + ones\n",
    "new_str = str(my_list)\n",
    "\n",
    "print(zeros, ones, my_list)\n",
    "print(type(new_str))"
   ]
  },
  {
   "cell_type": "markdown",
   "id": "e9109939-fd89-4d8b-a6ca-7a8bf3d2edbe",
   "metadata": {},
   "source": [
    "### Formatting strings\n",
    "\n",
    "Strings have powerful formatting properties. \n",
    "- The first two lines of the cell below show the use of a string and the `format` method to pass variables to a string. \n",
    "- The next line shows the use of the `format` method and the `:,` formatting type to add a comma as a thousand separator. \n",
    "- The last two lines print the result of `my_integer / my_float` with one decimal or `:.1f` formatting type. The first line uses the `string.format` method, while the second line uses a Python `f-string`.\n",
    "\n",
    "For more formatting types, [check here](https://www.w3schools.com/python/ref_string_format.asp)."
   ]
  },
  {
   "cell_type": "code",
   "execution_count": null,
   "id": "d601273d-7943-4a53-83aa-d906816b97fe",
   "metadata": {
    "tags": []
   },
   "outputs": [],
   "source": [
    "formatter = \"Entry 1 = {}, entry 2 = {}, entry 3 = {}\" # This is a string waiting for three inputs\n",
    "print(formatter.format(\"Samuel\", \"Jackson\", 33)) # Passing the three inputs to the string\n",
    "\n",
    "print(\"The universe is {:,} years old.\".format(13800000000))\n",
    "\n",
    "print(\"my_integer / my_float = {:.1f}\".format(my_integer / my_float)) # my integer / my float rounded to one decimal\n",
    "print(f\"my_integer / my_float = {my_integer / my_float:.1f}\") # my integer / my float rounded to one decimal"
   ]
  },
  {
   "cell_type": "markdown",
   "id": "81dc28ef",
   "metadata": {},
   "source": [
    "### A word about type-checking\n",
    "\n",
    "In Python, you can combine different variable types in expressions. However, Python does not type-check the code before running it. So, combining variable types may not work in some cases. You should be careful:"
   ]
  },
  {
   "cell_type": "code",
   "execution_count": null,
   "id": "37e81518",
   "metadata": {
    "tags": []
   },
   "outputs": [],
   "source": [
    "# let's assume that my_float is the temperature in Celsius\n",
    "# convert this temperature to Fahrenheit degrees\n",
    "temp_fahrenheit = 9 / 5 * my_float + my_integer # here we are combining integers and floats, it works\n",
    "\n",
    "# now let's print the result, this also works\n",
    "print(my_bool, \",\", temp_fahrenheit, \"Fahrenheit degrees is\", my_string) "
   ]
  },
  {
   "cell_type": "markdown",
   "id": "7818db16",
   "metadata": {},
   "source": [
    "The code in the cell above works. Why? \n",
    "\n",
    "The code in the cell below throws an error, however. Why? Can you fix it? *Hint*: You can use the function `str` to convert any variable type to a string."
   ]
  },
  {
   "cell_type": "code",
   "execution_count": null,
   "id": "765abe94",
   "metadata": {
    "tags": []
   },
   "outputs": [],
   "source": [
    "new_string = my_bool + \", \" + temp_fahrenheit + \" Fahrenheit degrees is \" + my_string  \n",
    "print(new_string)"
   ]
  },
  {
   "cell_type": "markdown",
   "id": "eab8f1a8",
   "metadata": {},
   "source": [
    "Out of curiosity, change the `+` symbols in the cell above to `,`. Run the cell again, what happens?\n",
    "\n",
    "### Dictionaries\n",
    "\n",
    "Dictionaries consist of a collection of key-value pairs. A dictionary is defined by enclosing a comma-separated list of key-value pairs in curly braces, with a colon separating each key from the associated value. In a dictionary, the order of the key-value items does not matter, a value is retrieved by specifying the corresponding key in square brackets:"
   ]
  },
  {
   "cell_type": "code",
   "execution_count": null,
   "id": "83203e39",
   "metadata": {
    "tags": []
   },
   "outputs": [],
   "source": [
    "# Define dictionary of mineral hardness\n",
    "mohs = {\"talc\":1, \"gypsum\":2, \"calcite\":3, \"fluorite\":4, \"apatite\":5, \"orthoclase\":6,\n",
    "           \"quartz\":7, \"topaz\":8, \"corundum\":9, \"diamond\":10} # Mohs hardness scale\n",
    "\n",
    "# adding key-value pairs to dictionary\n",
    "mohs[\"olivine\"] = 6.5 \n",
    "mohs[\"salt\"] = 2.5\n",
    "mohs[\"pyrite\"] = 6.25\n",
    "\n",
    "print(mohs.keys(), \"\\n\") # print dictionary keys\n",
    "print(mohs.values(), \"\\n\") # print dictionary values\n",
    "print(mohs.items(), \"\\n\") # print dictionary items\n",
    "print(\"Hardness of salt =\", mohs[\"salt\"]) # print hardness of salt"
   ]
  },
  {
   "cell_type": "markdown",
   "id": "695256c8",
   "metadata": {},
   "source": [
    "We can also delete items from a dictionary:"
   ]
  },
  {
   "cell_type": "code",
   "execution_count": null,
   "id": "b4e6f8bf",
   "metadata": {
    "tags": []
   },
   "outputs": [],
   "source": [
    "del mohs[\"pyrite\"] # delete pyrite from dictionary\n",
    "print(mohs.items()) # print dictionary items"
   ]
  },
  {
   "cell_type": "markdown",
   "id": "931003b5",
   "metadata": {},
   "source": [
    "## Arrays\n",
    "\n",
    "Like lists, arrays are collections of items, but of the same type (e.g., all numbers or all strings). To use arrays in Python, you need to import the `numpy` library:"
   ]
  },
  {
   "cell_type": "code",
   "execution_count": null,
   "id": "ac867306",
   "metadata": {
    "tags": []
   },
   "outputs": [],
   "source": [
    "import numpy as np # import numpy library under the alias np"
   ]
  },
  {
   "cell_type": "markdown",
   "id": "f50c71d2",
   "metadata": {},
   "source": [
    "However, contrary to lists, arrays need to be declared:"
   ]
  },
  {
   "cell_type": "code",
   "execution_count": null,
   "id": "a7c83e93",
   "metadata": {
    "tags": []
   },
   "outputs": [],
   "source": [
    "my_array = np.array([-10, 30, 60, 90, 120, 150, -100]) # create array\n",
    "print(my_array)"
   ]
  },
  {
   "cell_type": "markdown",
   "id": "21b70257",
   "metadata": {},
   "source": [
    "Let's modify this array:"
   ]
  },
  {
   "cell_type": "code",
   "execution_count": null,
   "id": "059adc3a",
   "metadata": {
    "tags": []
   },
   "outputs": [],
   "source": [
    "my_array[0] = 0 # modify first element\n",
    "my_array[-1] = 180 # modify last element\n",
    "print(my_array)"
   ]
  },
  {
   "cell_type": "code",
   "execution_count": null,
   "id": "981410d3",
   "metadata": {
    "tags": []
   },
   "outputs": [],
   "source": [
    "my_array = np.append(my_array,[240, 270, 300, 330, 360]) # append elements\n",
    "print(my_array)"
   ]
  },
  {
   "cell_type": "code",
   "execution_count": null,
   "id": "1f02fa5e",
   "metadata": {
    "tags": []
   },
   "outputs": [],
   "source": [
    "my_array = np.insert(my_array,7,210) # insert element at index 7\n",
    "print(my_array) "
   ]
  },
  {
   "cell_type": "code",
   "execution_count": null,
   "id": "844695a2",
   "metadata": {
    "tags": []
   },
   "outputs": [],
   "source": [
    "my_array = np.delete(my_array,-1) # delete last element\n",
    "print(my_array)"
   ]
  },
  {
   "cell_type": "markdown",
   "id": "f2d0fc96",
   "metadata": {},
   "source": [
    "Notice that `my_array` does not have append, insert or delete methods. Instead, we need to use the `numpy` `append`, `insert`, or `delete` methods as shown above. This creates a new array.\n",
    "\n",
    "Now, let's use index ranges to print some elements of the array:"
   ]
  },
  {
   "cell_type": "code",
   "execution_count": null,
   "id": "690418b3",
   "metadata": {
    "tags": []
   },
   "outputs": [],
   "source": [
    "print(my_array[4:8]) # print elements with indexes 4 to 7"
   ]
  },
  {
   "cell_type": "markdown",
   "id": "c85f41aa",
   "metadata": {},
   "source": [
    "Index ranges are quite powerful. Suppose we want to calculate the differences between successive elements of `my_array`. We can do this in one line of code as follows:"
   ]
  },
  {
   "cell_type": "code",
   "execution_count": null,
   "id": "25aa2a07",
   "metadata": {
    "tags": []
   },
   "outputs": [],
   "source": [
    "# differences between succesive elements of my_array\n",
    "diffs = my_array[1:] - my_array[:-1]\n",
    "print(diffs)"
   ]
  },
  {
   "cell_type": "markdown",
   "id": "c5901c5e",
   "metadata": {},
   "source": [
    "`my_array[1:]` contains the second to the last element of `my_array`, while `my_array[:-1]` contains the first to the penultimate element of `my_array`. Subtracting these two arrays gives us the differences between the elements of `my_array`.\n",
    "\n",
    "We can use the `numpy.size` function to retrieve the number of elements in the array:"
   ]
  },
  {
   "cell_type": "code",
   "execution_count": null,
   "id": "c6747491",
   "metadata": {
    "tags": []
   },
   "outputs": [],
   "source": [
    "print(\"number of elements in array =\", my_array.size) # print the number of elements in array"
   ]
  },
  {
   "cell_type": "markdown",
   "id": "9ae94455",
   "metadata": {},
   "source": [
    "and the `numpy.dtype` function to find out the type of elements in the array:"
   ]
  },
  {
   "cell_type": "code",
   "execution_count": null,
   "id": "dc85c9a6",
   "metadata": {
    "tags": []
   },
   "outputs": [],
   "source": [
    "my_array.dtype"
   ]
  },
  {
   "cell_type": "markdown",
   "id": "76fd4233",
   "metadata": {},
   "source": [
    "### 2D arrays\n",
    "\n",
    "A 2D array is an array of 1D arrays. It can be constructed as follows:"
   ]
  },
  {
   "cell_type": "code",
   "execution_count": null,
   "id": "f9749be0",
   "metadata": {
    "tags": []
   },
   "outputs": [],
   "source": [
    "# create a 3 x 4 array\n",
    "my_2d_array = np.array([[1, 2, 3, 4], [5, 6, 7, 8], [9, 10, 11, 12]])\n",
    "print(my_2d_array)"
   ]
  },
  {
   "cell_type": "markdown",
   "id": "78d1e038",
   "metadata": {},
   "source": [
    "To access an element of the array, we use two indexes within brackets. The first index refers to the row, and the second index to the column of the array. This is illustrated with a library cabinet below for the box at row index 2 and column index 2:<br><br>\n",
    "\n",
    "<img src=\"../figures/2dArray.png\" alt=\"varTypes\" width=\"600\"/><br><br>"
   ]
  },
  {
   "cell_type": "code",
   "execution_count": null,
   "id": "27d9de00",
   "metadata": {
    "tags": []
   },
   "outputs": [],
   "source": [
    "# print element in third row and second column of my_2d_array\n",
    "print(my_2d_array[2,1])"
   ]
  },
  {
   "cell_type": "markdown",
   "id": "fed50187",
   "metadata": {},
   "source": [
    "Index ranges allow us to quickly access several elements of the array. This is referred to as *slicing* the array. This figure shows how to access the row with index 3 in my cabinet:\n",
    "\n",
    "<img src=\"../figures/slicingRow.png\" alt=\"varTypes\" width=\"600\"/><br><br>"
   ]
  },
  {
   "cell_type": "code",
   "execution_count": null,
   "id": "f8ebdfcb",
   "metadata": {
    "tags": []
   },
   "outputs": [],
   "source": [
    "# print the first row of my_2d_array\n",
    "print(my_2d_array[0,:]) # print(my_2d_array[0]) does the same"
   ]
  },
  {
   "cell_type": "markdown",
   "id": "54ccb8d2-7dfe-4a50-9d5a-f12f8794cc7d",
   "metadata": {},
   "source": [
    "And this figure shows how to select the column with index 3 in my cabinet:\n",
    "\n",
    "<img src=\"../figures/slicingColumn.png\" alt=\"varTypes\" width=\"600\"/><br><br>"
   ]
  },
  {
   "cell_type": "code",
   "execution_count": null,
   "id": "9bb81023",
   "metadata": {
    "tags": []
   },
   "outputs": [],
   "source": [
    "# print the first column of my_2d_array\n",
    "print(my_2d_array[:,0]) # : means all rows in first column"
   ]
  },
  {
   "cell_type": "code",
   "execution_count": null,
   "id": "5cc85a59",
   "metadata": {
    "tags": []
   },
   "outputs": [],
   "source": [
    "# print the first two rows of my_2d_array\n",
    "print(my_2d_array[:2,:]) # print(my_2d_array[:2]) does the same"
   ]
  },
  {
   "cell_type": "code",
   "execution_count": null,
   "id": "4d44ccc7",
   "metadata": {
    "tags": []
   },
   "outputs": [],
   "source": [
    "# print the last two columns of my_2d_array\n",
    "print(my_2d_array[:,2:4]) # means all rows in the last two columns"
   ]
  },
  {
   "cell_type": "markdown",
   "id": "19d55a76",
   "metadata": {},
   "source": [
    "We can use the `numpy.shape` function to obtain the number of rows and columns in the array. This returns a tuple whose first element is the number of rows, and second element is the number of columns:"
   ]
  },
  {
   "cell_type": "code",
   "execution_count": null,
   "id": "4371f7c5",
   "metadata": {
    "tags": []
   },
   "outputs": [],
   "source": [
    "# print number of rows in my_2d_array\n",
    "print(\"number of rows in array =\", my_2d_array.shape[0]) # shape[0] is number of rows\n",
    "\n",
    "# print number of columns in my_2d_array\n",
    "print(\"number of columns in array =\", my_2d_array.shape[1]) # shape [1] is number of columns"
   ]
  },
  {
   "cell_type": "markdown",
   "id": "7cebc3cb",
   "metadata": {},
   "source": [
    "### 3D arrays\n",
    "\n",
    "3D arrays work the same way, they are arrays of 2D arrays:"
   ]
  },
  {
   "cell_type": "code",
   "execution_count": null,
   "id": "a337833b",
   "metadata": {
    "tags": []
   },
   "outputs": [],
   "source": [
    "my_3d_array = np.arange(24).reshape(2,3,4) # constructing a 2 x 3 x 4 array\n",
    "print(my_3d_array)"
   ]
  },
  {
   "cell_type": "markdown",
   "id": "df275c21",
   "metadata": {},
   "source": [
    "Here we use the `numpy.arange` function to generate 24 elements from 0 to 23, and the `numpy.reshape` function to reshape these elements into a 2 x 3 x 4  array. Let's run some of the operations above for this 3D array:"
   ]
  },
  {
   "cell_type": "code",
   "execution_count": null,
   "id": "baed7ae1",
   "metadata": {
    "tags": []
   },
   "outputs": [],
   "source": [
    "print(my_3d_array[0], \"\\n\") # print the first 2D array in the 3D array\n",
    "print(my_3d_array[1], \"\\n\") # print the second 2D array in the 3D array\n",
    "print(my_3d_array[0,1], \"\\n\") # print the second row of first 2D array \n",
    "print(my_3d_array[1,:,2], \"\\n\") # print the third column of second 2D array \n",
    "print(\"shape of array\", my_3d_array.shape) # print the shape of the 3D array"
   ]
  },
  {
   "cell_type": "markdown",
   "id": "fa04425a",
   "metadata": {},
   "source": [
    "Finally, the `numpy.ndim` function tells us the dimensions of the array:"
   ]
  },
  {
   "cell_type": "code",
   "execution_count": null,
   "id": "f93a3d98",
   "metadata": {
    "tags": []
   },
   "outputs": [],
   "source": [
    "print(my_array.ndim)\n",
    "print(my_2d_array.ndim)\n",
    "print(my_3d_array.ndim)"
   ]
  },
  {
   "cell_type": "markdown",
   "id": "ce107315",
   "metadata": {},
   "source": [
    "### Arrays versus lists\n",
    "\n",
    "There are two main reasons to use arrays as opposed to lists:\n",
    "\n",
    "- Arrays are more efficient for storing large amounts of data than lists. \n",
    "- Arrays are great for numerical operations; lists cannot handle directly math operations.\n",
    "\n",
    "To make the last point clear, let's look at the following example:"
   ]
  },
  {
   "cell_type": "code",
   "execution_count": null,
   "id": "5773bca0",
   "metadata": {
    "tags": []
   },
   "outputs": [],
   "source": [
    "my_sines = np.sin(np.radians(my_array)) # compute the sine of the elements in my_array\n",
    "print(np.around(my_sines,2)) # np.around prints the array with just two decimal places"
   ]
  },
  {
   "cell_type": "markdown",
   "id": "2a5c5f2f",
   "metadata": {},
   "source": [
    "Here, we use the `numpy.radians` function to convert the elements of the array from degrees to radians, and the `numpy.sin` function to compute the sine of the elements in the array. All in one line of code! In the `print` statement, we use the `numpy.around` function to print the array elements with just two decimal places. Operating at once over all elements of an array makes your code faster. By the way, this is very similar to how arrays in programs such as [Matlab](https://www.mathworks.com) or [Octave](https://www.gnu.org/software/octave/) work.\n",
    "\n",
    "So, when should we use a list or an array?\n",
    "- If you are storing a relatively short sequence of items and don't plan to do any mathematical operations with it, use a list.\n",
    "- If you have a very long list of items, and you plan to do numerical operations with them, use an array.\n",
    "\n",
    "More about array operations in the next section."
   ]
  },
  {
   "cell_type": "markdown",
   "id": "b6956867",
   "metadata": {},
   "source": [
    "## Array operations\n",
    "\n",
    "There are two main groups of operations that involve `numpy` arrays:\n",
    "\n",
    "- Element-wise operations\n",
    "- Linear algebra operations\n",
    "\n",
    "### Element-wise operations\n",
    "\n",
    "These are simple element-wise operations that involve an array and a scalar, or two arrays of the same dimension. For example:"
   ]
  },
  {
   "cell_type": "code",
   "execution_count": null,
   "id": "8fb68f48",
   "metadata": {
    "tags": []
   },
   "outputs": [],
   "source": [
    "# create a 3 x 3 array\n",
    "array_a = np.array([[1, 2, 3], [4, 5, 6], [7, 8, 9]])\n",
    "print(array_a)"
   ]
  },
  {
   "cell_type": "code",
   "execution_count": null,
   "id": "180dffb3",
   "metadata": {
    "tags": []
   },
   "outputs": [],
   "source": [
    "print(array_a + 2) # array plus scalar"
   ]
  },
  {
   "cell_type": "code",
   "execution_count": null,
   "id": "a4fc2c47",
   "metadata": {
    "tags": []
   },
   "outputs": [],
   "source": [
    "print(array_a - 2) # array minus scalar"
   ]
  },
  {
   "cell_type": "code",
   "execution_count": null,
   "id": "f08a225f",
   "metadata": {
    "tags": []
   },
   "outputs": [],
   "source": [
    "print(array_a * 2) # array times scalar"
   ]
  },
  {
   "cell_type": "code",
   "execution_count": null,
   "id": "72711e47",
   "metadata": {
    "tags": []
   },
   "outputs": [],
   "source": [
    "print(array_a / 2) # array divided by scalar"
   ]
  },
  {
   "cell_type": "code",
   "execution_count": null,
   "id": "e62f7b59",
   "metadata": {
    "tags": []
   },
   "outputs": [],
   "source": [
    "print(array_a ** 2) # array elevated to the scalar"
   ]
  },
  {
   "cell_type": "code",
   "execution_count": null,
   "id": "43052708",
   "metadata": {
    "tags": []
   },
   "outputs": [],
   "source": [
    "# Create another 3 x 3 array\n",
    "array_b = np.array([[9, 8, 7], [6, 5, 4], [3, 2, 1]])\n",
    "\n",
    "print(array_a + array_b) # element-wise sum"
   ]
  },
  {
   "cell_type": "code",
   "execution_count": null,
   "id": "e779e9f8",
   "metadata": {
    "tags": []
   },
   "outputs": [],
   "source": [
    "print(array_a - array_b) # element-wise difference"
   ]
  },
  {
   "cell_type": "code",
   "execution_count": null,
   "id": "c5c7fef2",
   "metadata": {
    "tags": []
   },
   "outputs": [],
   "source": [
    "print(array_a * array_b) # element-wise multiplication"
   ]
  },
  {
   "cell_type": "code",
   "execution_count": null,
   "id": "2eacd65e",
   "metadata": {
    "tags": []
   },
   "outputs": [],
   "source": [
    "print(array_a / array_b) # element-wise division"
   ]
  },
  {
   "cell_type": "code",
   "execution_count": null,
   "id": "4102e00e",
   "metadata": {
    "tags": []
   },
   "outputs": [],
   "source": [
    "print(array_a ** array_b) # element-wise exponentiation"
   ]
  },
  {
   "cell_type": "markdown",
   "id": "c645d235",
   "metadata": {},
   "source": [
    "### Linear algebra operations\n",
    "\n",
    "Linear algebra is very important in geosciences and engineering (check our [online resource in computational geosciences](https://github.com/nfcd/compGeo)). Let's look at some examples:"
   ]
  },
  {
   "cell_type": "code",
   "execution_count": null,
   "id": "06522bb2",
   "metadata": {
    "tags": []
   },
   "outputs": [],
   "source": [
    "# create two vectors (1 x 3 arrays)\n",
    "vector_u = np.array([1, 2, 3])\n",
    "vector_v = np.array([4, 5, 6])\n",
    "# compute the magnitude of the vector u\n",
    "length_u = np.linalg.norm(vector_u)\n",
    "print(\"{:.3f}\".format(length_u)) # print just 3 decimal places"
   ]
  },
  {
   "cell_type": "code",
   "execution_count": null,
   "id": "c491a31c",
   "metadata": {
    "tags": []
   },
   "outputs": [],
   "source": [
    "# make the vector a unit vector by dividing it by its magnitude\n",
    "vector_uu = vector_u / length_u\n",
    "print(np.linalg.norm(vector_uu)) # this should print 1.0 "
   ]
  },
  {
   "cell_type": "code",
   "execution_count": null,
   "id": "648ebcca",
   "metadata": {
    "tags": []
   },
   "outputs": [],
   "source": [
    "# compute the dot product of the vectors, this gives a scalar\n",
    "print(np.dot(vector_u, vector_v))"
   ]
  },
  {
   "cell_type": "code",
   "execution_count": null,
   "id": "6df0788f",
   "metadata": {
    "tags": []
   },
   "outputs": [],
   "source": [
    "# compute the cross product of the vectors, this gives another vector\n",
    "print(np.cross(vector_u, vector_v))"
   ]
  },
  {
   "cell_type": "code",
   "execution_count": null,
   "id": "58226dcf",
   "metadata": {
    "tags": []
   },
   "outputs": [],
   "source": [
    "# create two conformable matrices\n",
    "# columns in matrix a = rows in matrix b\n",
    "matrix_a = np.array([[1, 2, 3], [4, 5, 6]]) # 2 x 3 matrix\n",
    "matrix_b = np.array([[7, 8], [9, 10], [11, 12]]) # 3 x 2 matrix\n",
    "print(\"matrix a has\", matrix_a.shape[0], \"rows and\", matrix_a.shape[1], \"columns\")\n",
    "print(\"matrix b has\", matrix_b.shape[0], \"rows and\", matrix_b.shape[1], \"columns\")"
   ]
  },
  {
   "cell_type": "code",
   "execution_count": null,
   "id": "b2643336",
   "metadata": {
    "tags": []
   },
   "outputs": [],
   "source": [
    "# multiply the matrices, this gives a 2 x 2 matrix\n",
    "print(np.dot(matrix_a, matrix_b))"
   ]
  },
  {
   "cell_type": "code",
   "execution_count": null,
   "id": "88e217f9",
   "metadata": {
    "tags": []
   },
   "outputs": [],
   "source": [
    "# create a square (rows = columns) 3 x 3 matrix\n",
    "matrix_c = np.array([[1, 7, 9], [3, 5, 8], [4, 2, 6]])\n",
    "\n",
    "# compute the determinant of the matrix\n",
    "print(np.linalg.det(matrix_c)) "
   ]
  },
  {
   "cell_type": "code",
   "execution_count": null,
   "id": "15d3be94",
   "metadata": {
    "tags": []
   },
   "outputs": [],
   "source": [
    "# compute the inverse of the matrix\n",
    "matrix_ci = np.linalg.inv(matrix_c)\n",
    "print(matrix_ci) "
   ]
  },
  {
   "cell_type": "code",
   "execution_count": null,
   "id": "7f83f0f7",
   "metadata": {
    "tags": []
   },
   "outputs": [],
   "source": [
    "# the matrix times its inverse is equal to the identity matrix\n",
    "# a matrix with 1s along the diagonal, and 0s outside\n",
    "print(np.dot(matrix_c, matrix_ci))"
   ]
  },
  {
   "cell_type": "markdown",
   "id": "6c7f8cb1",
   "metadata": {},
   "source": [
    "Here we use the `numpy` linear algebra functions (some of them in the `linalg` module) to perform these operations.\n",
    "\n",
    "`numpy` includes many more [operations](https://numpy.org/doc/stable/reference/routines.html). It is not surprising that data analytics and data science rely so heavily on `numpy` arrays.\n",
    "\n",
    "To practice, try the exercises in [lab1_1](../lab/lab1_1.ipynb)."
   ]
  }
 ],
 "metadata": {
  "kernelspec": {
   "display_name": "Python 3 (ipykernel)",
   "language": "python",
   "name": "python3"
  },
  "language_info": {
   "codemirror_mode": {
    "name": "ipython",
    "version": 3
   },
   "file_extension": ".py",
   "mimetype": "text/x-python",
   "name": "python",
   "nbconvert_exporter": "python",
   "pygments_lexer": "ipython3",
   "version": "3.11.5"
  }
 },
 "nbformat": 4,
 "nbformat_minor": 5
}
