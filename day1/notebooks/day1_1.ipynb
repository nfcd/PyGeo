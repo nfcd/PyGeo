{
 "cells": [
  {
   "cell_type": "markdown",
   "id": "bdcbe371",
   "metadata": {},
   "source": [
    "# Day 1-part 1: Introduction and variables\n",
    "\n",
    "## What is Python?\n",
    "\n",
    "- Python is a programming language.\n",
    "- Python is a collection of powerful internal and external libraries. We can use Python for real-world geosciences and engineering tasks. \n",
    "- Python is a philosophy for writing code. The principles of this philosophy are embodied in the [Zen of Python](https://peps.python.org/pep-0020/), and they can be listed by typing:"
   ]
  },
  {
   "cell_type": "code",
   "execution_count": null,
   "id": "38d53500",
   "metadata": {},
   "outputs": [],
   "source": [
    "import this"
   ]
  },
  {
   "cell_type": "markdown",
   "id": "5496ff11",
   "metadata": {},
   "source": [
    "## Notebooks\n",
    "\n",
    "Notebooks like this one consist of units called `cells`. Cells can contain markdown text like this one, or Python code like the cell above (notice that code cells are numbered). To run a cell you can click the `Run` button. These are some useful shortcuts:\n",
    "\n",
    "- To run a cell and stay in the same cell, type `Ctrl+Enter` \n",
    "- To run a cell and move to the next cell, type `Shift+Enter`\n",
    "- To run a cell and insert a new cell below, type `Alt+Enter`\n",
    "- To run all the cells of a notebook, choose the `Cell -> Run all` menu\n",
    "- Use the up and down arrow keys to move quickly between cells"
   ]
  },
  {
   "cell_type": "markdown",
   "id": "a17913b8",
   "metadata": {},
   "source": [
    "## Math operations\n",
    "\n",
    "Python can be used as a simple calculator:"
   ]
  },
  {
   "cell_type": "code",
   "execution_count": null,
   "id": "697d39c8",
   "metadata": {},
   "outputs": [],
   "source": [
    "2345 + 137"
   ]
  },
  {
   "cell_type": "code",
   "execution_count": null,
   "id": "a7a189f5",
   "metadata": {},
   "outputs": [],
   "source": [
    "27 / 4"
   ]
  },
  {
   "cell_type": "code",
   "execution_count": null,
   "id": "5552cdaa",
   "metadata": {},
   "outputs": [],
   "source": [
    "7 ** 3"
   ]
  },
  {
   "cell_type": "code",
   "execution_count": null,
   "id": "cf3749f9",
   "metadata": {},
   "outputs": [],
   "source": [
    "27 // 4"
   ]
  },
  {
   "cell_type": "code",
   "execution_count": null,
   "id": "8f8036bf",
   "metadata": {},
   "outputs": [],
   "source": [
    "27 % 4"
   ]
  },
  {
   "cell_type": "markdown",
   "id": "d366984c",
   "metadata": {},
   "source": [
    "However, this only works for the basic arithmetic operations: addition (`+`), subtraction (`-`), multiplication (`*` ), division (`/`), exponentiation (`**`), floor division (`//`), and modulo division (`%`). Notice that division (`/`) returns a float value, even if the two numbers are integers. Floor (or integer) division (`//`) returns the quotient of the division rounded down to the nearest whole number, while modulo division (`%`) returns the remainder of the division (this is more complicated for negative numbers, see this [note](https://blog.teclado.com/pythons-modulo-operator-and-floor-division/)).\n",
    "\n",
    "For more advanced operations, we need to import the `math` module:"
   ]
  },
  {
   "cell_type": "code",
   "execution_count": null,
   "id": "502e50b2",
   "metadata": {},
   "outputs": [],
   "source": [
    "import math"
   ]
  },
  {
   "cell_type": "markdown",
   "id": "bc211f15",
   "metadata": {},
   "source": [
    "A module is a collection of code items such as functions. Individual modules are often in a group referred to as a library, for example the `math` module is part of the Python standard library.\n",
    "\n",
    "Now that we have imported the `math` module, we can perform more complex operations using its functions. For example, let's calculate the sine of 30 degrees."
   ]
  },
  {
   "cell_type": "code",
   "execution_count": null,
   "id": "6c74e00c",
   "metadata": {},
   "outputs": [],
   "source": [
    "# sine of 30 degrees, option 1\n",
    "math.sin(30*math.pi/180)"
   ]
  },
  {
   "cell_type": "code",
   "execution_count": null,
   "id": "df82919c",
   "metadata": {},
   "outputs": [],
   "source": [
    "# sine of 30 degrees, option 2\n",
    "math.sin(math.radians(30))"
   ]
  },
  {
   "cell_type": "markdown",
   "id": "69fce082",
   "metadata": {},
   "source": [
    "There are two things to notice:\n",
    "\n",
    "- The first line in the two cells above is a comment, a line that is ignored by Python but we can include to document what we are doing. Comments begin with `#` and continue to the end of the line.\n",
    "\n",
    "- Computers understand radians, not degrees. Therefore, we need to convert the angle from degrees to radians either by multiplying it by $\\pi$/180 (we use the function `math.pi` to get $\\pi$), or by using the `math.radians` function, before taking the sine of the angle using the `math.sin` function. By the way, the result of this operation is 0.5, but as you can see there are minor precision errors.\n",
    "\n",
    "The `math` module has a long list of mathematical functions. You can find the complete list [here](https://docs.python.org/3/library/math.html). Another way to quickly find out the functions in the math module is to type `math.` followed by the `Tab` key, this will present you with the list of functions in the module. Try below."
   ]
  },
  {
   "cell_type": "code",
   "execution_count": null,
   "id": "62a78333",
   "metadata": {},
   "outputs": [],
   "source": [
    "# Type \"math.\" followed by the Tab key\n",
    "    "
   ]
  },
  {
   "cell_type": "markdown",
   "id": "158a9716",
   "metadata": {},
   "source": [
    "`Tab` completion is a nice feature of the IPython shell (the shell used by Jupyter notebooks) and it works on any module, object, etc.\n",
    "\n",
    "## Variables\n",
    "\n",
    "A variable can be used to store values calculated in expressions and used for other calculations. In Python there are several variable types. These are summarized in the figure below:<br><br>\n",
    "\n",
    "<img src=\"../figures/varTypes.png\" alt=\"varTypes\" width=\"600\"/><br><br>\n",
    "\n",
    "### Numbers\n",
    "\n",
    "Python supports integers, floats, and complex numbers. Integers and floats differ by the presence or absence of decimals. Complex numbers have a real part and an imaginary part:"
   ]
  },
  {
   "cell_type": "code",
   "execution_count": null,
   "id": "fcfde37a",
   "metadata": {},
   "outputs": [],
   "source": [
    "my_integer = 32 # integer\n",
    "my_float = 23.00 # float\n",
    "my_complex = 5 + 3j # complex number: 5 is the real and 3 is the imaginary part\n",
    "print(my_integer, my_float, my_complex) # print numbers\n",
    "print(my_complex.real, my_complex.imag) # print real and imaginary parts of the complex number"
   ]
  },
  {
   "cell_type": "markdown",
   "id": "34291cdf",
   "metadata": {},
   "source": [
    "In the cell above, we use the function `print` to print the numbers. The real and imaginary parts of `my_complex` can be accessed using its `real` and `imag` methods, respectively.\n",
    "\n",
    "By default `print` uses a single space to separate the results. However, it is possible to change the default separator:"
   ]
  },
  {
   "cell_type": "code",
   "execution_count": null,
   "id": "dc85adff",
   "metadata": {},
   "outputs": [],
   "source": [
    "print(my_integer, my_float, my_complex, sep = \" -- \") # print numbers with a different separator"
   ]
  },
  {
   "cell_type": "markdown",
   "id": "1213449a",
   "metadata": {},
   "source": [
    "It is possible to add a new line between the outputs of two `print` statements, or have them in the same line:"
   ]
  },
  {
   "cell_type": "code",
   "execution_count": null,
   "id": "93d55f88",
   "metadata": {},
   "outputs": [],
   "source": [
    "print(my_integer, my_float, my_complex, \"\\n\") # print numbers, use \"\\n\" to add a new line\n",
    "print(my_complex.real, my_complex.imag, \"\\n\") # print real and imaginary parts of the complex number\n",
    "\n",
    "print(my_integer, my_float, my_complex, end =\"\\t\") # print numbers, use end = to specify the end of the line as \"\\t\"\n",
    "print(my_complex.real, my_complex.imag) # print real and imaginary parts of the complex number"
   ]
  },
  {
   "cell_type": "markdown",
   "id": "e4e1f170",
   "metadata": {},
   "source": [
    "The characters `\\n` and `\\t` are called escape characters. They can be used to insert characters that are illegal in a string, such as a new line (`\\n`) or a Tab (`\\t`). [Here is a list of escape characters](https://www.w3schools.com/python/gloss_python_escape_characters.asp).\n",
    "\n",
    "By default `print` ends with a new line. To change this, we can make `end` equal to another character, for example a Tab (`\\t`). This outputs the two print statements on the same line, separated by a Tab.\n",
    "\n",
    "We can use the function `type` to find out the type of a variable."
   ]
  },
  {
   "cell_type": "code",
   "execution_count": null,
   "id": "ab685738",
   "metadata": {},
   "outputs": [],
   "source": [
    "print(type(my_integer), type(my_float), type(my_complex)) # print variable type"
   ]
  },
  {
   "cell_type": "markdown",
   "id": "0d803184",
   "metadata": {},
   "source": [
    "So our numbers are actually *classes*. The concept of class comes from the object oriented philosophy of Python, which we will discuss in the next notebook. For the moment, just realize that the numbers above are class instances (or objects) to which we can send methods. To find more about the methods of an object, use `Tab` completion. Let's try with `my_float`:"
   ]
  },
  {
   "cell_type": "code",
   "execution_count": null,
   "id": "26ec045f",
   "metadata": {},
   "outputs": [],
   "source": [
    "# Type \"my_float.\" followed by the Tab key\n"
   ]
  },
  {
   "cell_type": "markdown",
   "id": "e8bc4b91",
   "metadata": {},
   "source": [
    "Or use a question mark (`?`) before or after the variable. This will display some general information about the object:"
   ]
  },
  {
   "cell_type": "code",
   "execution_count": null,
   "id": "12b65adf",
   "metadata": {},
   "outputs": [],
   "source": [
    "# Find more information about my_float\n",
    "my_float?"
   ]
  },
  {
   "cell_type": "markdown",
   "id": "7b6d4640",
   "metadata": {},
   "source": [
    "Thi is known as object instrospection.\n",
    "\n",
    "### Booleans\n",
    "\n",
    "Booleans (or bools) can only have two values, `True` or `False`. As we will see later, bools are useful in conditional statements."
   ]
  },
  {
   "cell_type": "code",
   "execution_count": null,
   "id": "e3d9c502",
   "metadata": {},
   "outputs": [],
   "source": [
    "my_bool = True\n",
    "print(my_bool)"
   ]
  },
  {
   "cell_type": "markdown",
   "id": "500479c3",
   "metadata": {},
   "source": [
    "### A word about naming variables\n",
    "\n",
    "Variable names should be clear and concise, be written in English, not contain special characters, and not conflict with any Python keywords. The following code prints the Python keywords:"
   ]
  },
  {
   "cell_type": "code",
   "execution_count": null,
   "id": "f4b460c3",
   "metadata": {},
   "outputs": [],
   "source": [
    "import keyword\n",
    "print(keyword.kwlist)"
   ]
  },
  {
   "cell_type": "markdown",
   "id": "5146a5d9",
   "metadata": {},
   "source": [
    "In this course, we will use the `pothole_case_naming` convention to label variables. This convention uses lowercase words separated by underscores `_`. You can find more information about naming conventions in the [Style Guide for Python Code](https://peps.python.org/pep-0008/).\n",
    "\n",
    "### Sequences\n",
    "\n",
    "A sequence is an ordered collection of items. Examples of sequences are Strings, Lists, and Tuples. Strings are sequences of characters, Lists are ordered collections of data (which can be of different type), and Tuples are similar to Lists, but they cannot be modified after their creation. The elements of a sequence can be accessed using indexes: \n",
    "- The first index of a sequence is always 0 (zero). \n",
    "- Using negative numbers (e.g., -1), the indexing of the sequence starts from the last element and proceeds in reverse order. \n",
    "- Two numbers separated by a colon (e.g. [3:7]) define an index range, sampling the sequence from the lower to the upper indexes, but excluding the upper index:"
   ]
  },
  {
   "cell_type": "code",
   "execution_count": null,
   "id": "61252f33",
   "metadata": {},
   "outputs": [],
   "source": [
    "# create some sequences\n",
    "my_string = \"slightly \" + \"hot\" # strings can be concatenated using +\n",
    "my_list = [251 ,\"top Triassic\",146, \"top Cretaceous\", 23, \"top Neogene\"] # list of integers and strings\n",
    "my_tuple = (251 ,\"top Triassic\",146, \"top Cretaceous\", 23, \"top Neogene\") # tuple of integers and strings\n",
    "print(my_string)\n",
    "print(my_list)\n",
    "print(my_tuple)"
   ]
  },
  {
   "cell_type": "code",
   "execution_count": null,
   "id": "e60cf716",
   "metadata": {},
   "outputs": [],
   "source": [
    "# we can use indexes to get specific elements in the sequence\n",
    "print(my_string[3:8]) # print characters at indexes 3 to 7 in my_string\n",
    "print(my_list[0]) # print first element in my_list\n",
    "print(my_tuple[-1]) # print last element in my_tuple"
   ]
  },
  {
   "cell_type": "code",
   "execution_count": null,
   "id": "ad280f6d",
   "metadata": {},
   "outputs": [],
   "source": [
    "# A step can also be used after a second colon to, say, take every other element of the sequence\n",
    "print(my_list[::2])\n",
    "# A neat trick:  by passing -1 as step, we can reverse the sequence\n",
    "print(my_string[::-1])"
   ]
  },
  {
   "cell_type": "code",
   "execution_count": null,
   "id": "736f9dfb",
   "metadata": {},
   "outputs": [],
   "source": [
    "# lists can be modified\n",
    "my_list.append(0.0) # append element\n",
    "my_list.insert(0,\"top Carboniferous\") # insert element at index 0\n",
    "my_list[-3] = 23.3 # change third last element\n",
    "my_list.reverse() # reverse the elements of the list\n",
    "print(my_list) # print my list"
   ]
  },
  {
   "cell_type": "code",
   "execution_count": null,
   "id": "25d1521a",
   "metadata": {},
   "outputs": [],
   "source": [
    "# but tuples can't, this cell will return an error\n",
    "my_tuple[-2] = 23.3 "
   ]
  },
  {
   "cell_type": "code",
   "execution_count": null,
   "id": "005844fe",
   "metadata": {},
   "outputs": [],
   "source": [
    "# lists have some interesting arithmetic\n",
    "zeros = [0]*5  # a list with 5 zeros\n",
    "ones = [1]*5  # a list with 5 ones\n",
    "my_list = zeros + ones\n",
    "new_str = str(my_list)\n",
    "\n",
    "print(zeros, ones, my_list)\n",
    "print(type(new_str))"
   ]
  },
  {
   "cell_type": "markdown",
   "id": "faf45f8b",
   "metadata": {},
   "source": [
    "### Formatting strings\n",
    "\n",
    "Strings have powerful formatting properties. \n",
    "- The first two lines of the cell below show the use of a string and the `format` method to pass variables to a string. \n",
    "- The next line shows the use of the `format` method and the `:,` formatting type to add a comma as a thousand separator. \n",
    "- The last two lines print the result of `my_integer / my_float` with one decimal or `:.1f` formatting type. The first line uses the `string.format` method, while the second line uses a Python `f-string`.\n",
    "\n",
    "For more formatting types, [check here](https://www.w3schools.com/python/ref_string_format.asp)."
   ]
  },
  {
   "cell_type": "code",
   "execution_count": null,
   "id": "193d0765",
   "metadata": {},
   "outputs": [],
   "source": [
    "formatter = \"Entry 1 = {}, entry 2 = {}, entry 3 = {}\" # This is a string waiting for three inputs\n",
    "print(formatter.format(\"Samuel\", \"Jackson\", 33)) # Passing the three inputs to the string\n",
    "\n",
    "print(\"The universe is {:,} years old.\".format(13800000000))\n",
    "\n",
    "print(\"my_integer / my_float = {:.1f}\".format(my_integer / my_float)) # my integer / my float rounded to one decimal\n",
    "print(f\"my_integer / my_float = {my_integer / my_float:.1f}\") # my integer / my float rounded to one decimal"
   ]
  },
  {
   "cell_type": "markdown",
   "id": "81dc28ef",
   "metadata": {},
   "source": [
    "### A word about type-checking\n",
    "\n",
    "In Python, you can combine different variable types in expressions. However, Python does not type-check the code before running it. So, combining variable types may not work in some cases. You should be careful:"
   ]
  },
  {
   "cell_type": "code",
   "execution_count": null,
   "id": "37e81518",
   "metadata": {},
   "outputs": [],
   "source": [
    "# let's assume that my_float is the temperature in Celsius\n",
    "# convert this temperature to Fahrenheit degrees\n",
    "temp_fahrenheit = 9 / 5 * my_float + my_integer # here we are combining integers and floats, it works\n",
    "\n",
    "# now let's print the result, this also works\n",
    "print(my_bool, \",\", temp_fahrenheit, \"Fahrenheit degrees is\", my_string) "
   ]
  },
  {
   "cell_type": "markdown",
   "id": "7818db16",
   "metadata": {},
   "source": [
    "The code in the cell above works. Why? \n",
    "\n",
    "The code in the cell below throws an error, however. Why? Can you fix it? *Hint*: You can use the function `str` to convert any variable type to a string."
   ]
  },
  {
   "cell_type": "code",
   "execution_count": null,
   "id": "765abe94",
   "metadata": {},
   "outputs": [],
   "source": [
    "new_string = str(my_bool) + \", \" + str(temp_fahrenheit) + \" Fahrenheit degrees is \" + my_string  \n",
    "print(new_string)"
   ]
  },
  {
   "cell_type": "markdown",
   "id": "eab8f1a8",
   "metadata": {},
   "source": [
    "### Dictionaries\n",
    "\n",
    "Dictionaries consist of a collection of key-value pairs. A dictionary is defined by enclosing a comma-separated list of key-value pairs in curly braces, with a colon separating each key from the associated value. In a dictionary, the order of the key-value items does not matter, a value is retrieved by specifying the corresponding key in square brackets:"
   ]
  },
  {
   "cell_type": "code",
   "execution_count": null,
   "id": "83203e39",
   "metadata": {},
   "outputs": [],
   "source": [
    "# Define dictionary of mineral hardness\n",
    "mohs = {\"talc\":1, \"gypsum\":2, \"calcite\":3, \"fluorite\":4, \"apatite\":5, \"orthoclase\":6,\n",
    "           \"quartz\":7, \"topaz\":8, \"corundum\":9, \"diamond\":10} # Mohs hardness scale\n",
    "\n",
    "# adding key-value pairs to dictionary\n",
    "mohs[\"olivine\"] = 6.5 \n",
    "mohs[\"salt\"] = 2.5\n",
    "mohs[\"pyrite\"] = 6.25\n",
    "\n",
    "print(mohs.keys(), \"\\n\") # print dictionary keys\n",
    "print(mohs.values(), \"\\n\") # print dictionary values\n",
    "print(mohs.items(), \"\\n\") # print dictionary items\n",
    "print(\"Hardness of talc =\", mohs[\"talc\"]) # print hardness of salt"
   ]
  },
  {
   "cell_type": "markdown",
   "id": "695256c8",
   "metadata": {},
   "source": [
    "We can also delete items from a dictionary:"
   ]
  },
  {
   "cell_type": "code",
   "execution_count": null,
   "id": "b4e6f8bf",
   "metadata": {},
   "outputs": [],
   "source": [
    "del mohs[\"pyrite\"] # delete pyrite from dictionary\n",
    "print(mohs.items()) # print dictionary items"
   ]
  },
  {
   "cell_type": "markdown",
   "id": "4556ec04",
   "metadata": {},
   "source": [
    "That's it. In the next notebook, we will cover arrays."
   ]
  }
 ],
 "metadata": {
  "kernelspec": {
   "display_name": "Python 3 (ipykernel)",
   "language": "python",
   "name": "python3"
  },
  "language_info": {
   "codemirror_mode": {
    "name": "ipython",
    "version": 3
   },
   "file_extension": ".py",
   "mimetype": "text/x-python",
   "name": "python",
   "nbconvert_exporter": "python",
   "pygments_lexer": "ipython3",
   "version": "3.11.5"
  }
 },
 "nbformat": 4,
 "nbformat_minor": 5
}
