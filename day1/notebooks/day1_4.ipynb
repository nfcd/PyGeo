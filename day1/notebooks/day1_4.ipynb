{
 "cells": [
  {
   "cell_type": "markdown",
   "id": "5b7aeb1c",
   "metadata": {},
   "source": [
    "# Day 1-part 4: Functions and classes\n",
    "\n",
    "## Functions\n",
    "\n",
    "In simple words, a function is a collective group of statements. The idea behind the use of functions is to reuse the code. Whenever you want to execute a group of statements more than once, then you need to create a function.\n",
    "\n",
    "Functions are like devices that can take input parameters and provide output. The output of the function can be either a data, or operation on the parameter passed to the function. Basically, there are two main reasons we use functions:\n",
    "\n",
    "- Maximum code reuse and minimum redundant programming\n",
    "- Well structured programming, i.e. divide a large, complex task into smaller, simpler parts\n",
    "\n",
    "The syntax of a function is as follows:\n",
    "\n",
    "```python\n",
    "def function_name(arg_1, arg_2...arg_n):\n",
    "    statements\n",
    "    return val\n",
    "```\n",
    "\n",
    "`def` is the header of the function, it generates the function object and assigns a name to it. In the parentheses, the input parameters are included. When the function does not have any input parameter, then the parentheses is left empty. After the colon `:`, the function statements are included. The `return` statement returns a value. If `val` is not specified, the function return`None`. Both the `val` and the `return` statements are optional.\n",
    "\n",
    "### Example\n",
    "\n",
    "Following the polygon's perimeter example of the previous notebook, suppose we'd like to determine how the perimeter of the polygon changes with the average length of the added segments, as represented by the variable `step` in the range 1 (all points) to 50 (every 50th points). Obviously, we don't want to run a cell with the same code but different `step` 50 times! The solution is to create a function that calculates the perimeter of the polygon for a given `step`:"
   ]
  },
  {
   "cell_type": "code",
   "execution_count": null,
   "id": "26b963d7",
   "metadata": {},
   "outputs": [],
   "source": [
    "def polyg_perim(polyg,step):\n",
    "    \"\"\"\n",
    "    calculate the perimeter of a polygon\n",
    "    from the polygon points (n x 2 array) and the\n",
    "    average length of the segments as represented\n",
    "    by step: 1 (all points), 2 (every two points), etc.\n",
    "    Note: points must be in sequential order\n",
    "    \"\"\"\n",
    "    npoints = polyg.shape[0] # number of points\n",
    "    perimeter = 0.0 # initialize perimeter to 0.0\n",
    "    \n",
    "    # calculate polygon´s perimeter\n",
    "    for i in range(0,npoints,step):\n",
    "        # current point\n",
    "        point_1 = polyg[i,:]\n",
    "        # next point:\n",
    "        # if i is last point, connect to first point\n",
    "        # this closes the polygon\n",
    "        if i >= npoints-step:\n",
    "            point_2 = polyg[0,:]\n",
    "        # else use next point, i +  step\n",
    "        else:\n",
    "            point_2 = polyg[i+step,:]\n",
    "        # add the segment to the perimeter\n",
    "        perimeter += np.sqrt((point_1[0]-point_2[0])**2 + \\\n",
    "                             (point_1[1]-point_2[1])**2)\n",
    "    \n",
    "    return perimeter"
   ]
  },
  {
   "cell_type": "markdown",
   "id": "f3f6457e",
   "metadata": {},
   "source": [
    "The text in red within the quotes is called `docstring`, and it explains what the function does. It is always a good idea to include this definition as clear as possible. This information can be retrieved any time by selecting the name of the function (any function, not just this one), and then presssing the `Shift` and `Tab` keys. Alternatively, we can use object instrospection:"
   ]
  },
  {
   "cell_type": "code",
   "execution_count": null,
   "id": "a020ac29",
   "metadata": {},
   "outputs": [],
   "source": [
    "polyg_perim?"
   ]
  },
  {
   "cell_type": "markdown",
   "id": "cb154828",
   "metadata": {},
   "source": [
    "Notice that this works for any function, internal or external, in your environment. For example, let's look at the `numpy.loadtxt` function:"
   ]
  },
  {
   "cell_type": "code",
   "execution_count": null,
   "id": "c2d6a5fb",
   "metadata": {},
   "outputs": [],
   "source": [
    "# import numpy library\n",
    "import numpy as np\n",
    "\n",
    "np.loadtxt?"
   ]
  },
  {
   "cell_type": "markdown",
   "id": "068c5e64",
   "metadata": {},
   "source": [
    "This is a great way to know more about any function in your code. Let's solve the problem above using our function:"
   ]
  },
  {
   "cell_type": "code",
   "execution_count": null,
   "id": "68c5c2e1",
   "metadata": {},
   "outputs": [],
   "source": [
    "# import os and pyplot libraries\n",
    "import os \n",
    "import matplotlib.pyplot as plt \n",
    "\n",
    "# read the polygon\n",
    "path = os.path.join(\"..\", \"data\", \"polygon.txt\") # this makes a safe path\n",
    "polyg = np.loadtxt(path) \n",
    "\n",
    "# define steps and initialize perimeters for those steps\n",
    "steps = np.arange(1,51) # array of steps from 1 to 50 in increments of 1\n",
    "perimeters = np.zeros(50) # 50 perimeter values, all initially zero\n",
    "\n",
    "# calculate the perimeter values for all the steps\n",
    "for i in range(50):\n",
    "    perimeters[i] = polyg_perim(polyg,steps[i]) # now we are using our function\n",
    "    \n",
    "# plot the results in a graph\n",
    "# of steps versus calculated perimeter\n",
    "# The \"k.-\" plots the data points and join them\n",
    "# with a line\n",
    "plt.plot(steps,perimeters,\"k.-\")\n",
    "plt.xlim([1, 50])\n",
    "plt.xlabel(\"step\")\n",
    "plt.ylabel(\"perimeter (length units)\");"
   ]
  },
  {
   "cell_type": "markdown",
   "id": "0b8a7c52",
   "metadata": {},
   "source": [
    "In the first line of the code above, we use the `numpy.arange` function to create an array of steps from 1 to 50, in increments of 1 (the default). We then use the `numpy.zeros`function to initialize the perimeters for these steps to zeros (not surprisingly, there is also a `numpy.ones`function to create arrays of ones). We then calculate the perimeters for all the steps using a `for` loop and calling our function in each loop iteration. Finally, we plot the results. \n",
    "\n",
    "Although there are some irregularities for large steps, you can see that the polygon's perimeter decreases with the average length of the added segments. The fact that the perimeter of a polygon decreases with the length scale at which is measured, is a concept behind fractals."
   ]
  },
  {
   "cell_type": "markdown",
   "id": "3eb85eb6",
   "metadata": {},
   "source": [
    "### Classes\n",
    "\n",
    "Object-oriented programming (OOP) is a programming strategy based on the concept of objects, which can contain data and code. The main buliding blocks of OOP are classes and objects. Classes represent broad categories, like the items in a store or physical objects that share similar attributes. An object contains real data and is built (or instantiated) from the class. \n",
    "\n",
    "For example, for an organization we could define a class called employee, with attributes such as the name and salary of the employee, and methods such as raise_salary. We can then create instance objects (actual employees) from this class, and access their attributes or increase their salaries when needed. Employees are obviously not identical, so although they inherit attributes and methods from the employee class, they can have their own attributes and methods. You get the idea, OOP is very powerful. It is behind many of the libraries and functions we use in this course.\n",
    "\n",
    "In Python, it is easy to code the OOP strategy. To create a class, the following syntax is used:\n",
    "\n",
    "```python\n",
    "class ClassName:\n",
    "    initialization\n",
    "    attributes\n",
    "    methods\n",
    "```\n",
    "Let's look at the following example of a `Circle` class:"
   ]
  },
  {
   "cell_type": "code",
   "execution_count": null,
   "id": "17e375a0",
   "metadata": {},
   "outputs": [],
   "source": [
    "class Circle:\n",
    "    \"\"\"\n",
    "    A class that implements a circle\n",
    "    \"\"\"\n",
    "    # initialization requires center [x, y]\n",
    "    # and radius of circle    \n",
    "    def __init__(self, center, radius):\n",
    "        self.center = center\n",
    "        self.radius = radius\n",
    "    \n",
    "    # other derived attributes\n",
    "    \n",
    "    # circumference\n",
    "    def circumference(self):\n",
    "        return 2 * np.pi * self.radius\n",
    "    \n",
    "    # area\n",
    "    def area(self):\n",
    "        return np.pi * self.radius ** 2\n",
    "    \n",
    "    # x and y coordinates defining circle\n",
    "    def coordinates(self):\n",
    "        theta = np.arange(0,360) * np.pi / 180\n",
    "        x = self.radius * np.cos(theta) + self.center[0]\n",
    "        y = self.radius * np.sin(theta) + self.center[1]\n",
    "        return x, y\n",
    "    \n",
    "    # methods\n",
    "    \n",
    "    # shift center in x\n",
    "    def shift_in_x(self, x_value):\n",
    "        self.center[0] += x_value\n",
    "    \n",
    "    # shift center in y\n",
    "    def shift_in_y(self, y_value):\n",
    "        self.center[1] += y_value"
   ]
  },
  {
   "cell_type": "markdown",
   "id": "e41e29f6",
   "metadata": {},
   "source": [
    "Now let's use this class to fill a 20 x 20 units square with circles of unit radius, we also calculate the areal porosity:"
   ]
  },
  {
   "cell_type": "code",
   "execution_count": null,
   "id": "97564522",
   "metadata": {},
   "outputs": [],
   "source": [
    "area_circles = 0.0 # initialize area of circles\n",
    "my_circle = Circle([-1, -1],1) # create a unit circle with center -1,-1\n",
    "\n",
    "# use two nested loops\n",
    "# i moves circle in y\n",
    "# j moves circle in x\n",
    "for i in range(10):\n",
    "    my_circle.center[0] = -1 # reset x of circle center to -1\n",
    "    my_circle.shift_in_y(2) # shift circle in y 2 units\n",
    "    for j in range(10):\n",
    "        my_circle.shift_in_x(2) # shift circle in x 2 units\n",
    "        area_circles += my_circle.area() # cummulative circles areas\n",
    "        x, y = my_circle.coordinates() # circle x and y coordinates\n",
    "        plt.plot(x,y,'r-') # plot circle\n",
    "\n",
    "plt.axis(\"square\") # this makes the plot square\n",
    "plt.xlim([0, 20]) # x axis limits\n",
    "plt.ylim([0, 20]); # y axis limits\n",
    "\n",
    "# estimate and print areal porosity\n",
    "area_total = 20 * 20\n",
    "area_voids = area_total - area_circles\n",
    "print(\"Areal porosity = {:.2f}\".format(area_voids/area_total))"
   ]
  },
  {
   "cell_type": "markdown",
   "id": "f5cc1e03",
   "metadata": {},
   "source": [
    "We use two nested loops to draw the circles in the rectangle. The animation below shows how the first two rows of circles are sequentially drawn:\n",
    "\n",
    "<img src=\"../figures/fillingSquareWithCircles.gif\" alt=\"fillingSquare\" width=\"700\"/><br><br>\n",
    "\n",
    "### A word about stand-alone functions and classes\n",
    "\n",
    "We have implemented a cool function and class. What about if we want to use them in other projects? This is easy. Just copy and paste the code of the function or class in a text editor. Save the files with a extension `py` in a folder of your choice (I have saved them in the day1/functions directory). Notice that if you are using a library, for example `numpy`, you will need to import it in the file. After doing this, you can import the function and class and use them. \n",
    "\n",
    "To make sure this works, restart the kernel and clear all the cells ouput using the Kernel -> Restart & Clear Output menu, before running the cell below:"
   ]
  },
  {
   "cell_type": "code",
   "execution_count": null,
   "id": "54ac958d",
   "metadata": {},
   "outputs": [],
   "source": [
    "# these three lines add the functions directory\n",
    "# to the list of directories where Python searches for modules\n",
    "import sys , os \n",
    "path = os.path.join(\"..\", \"functions\") # safe path\n",
    "sys.path.append(path) \n",
    "\n",
    "# import function and class\n",
    "from polyg_perim import polyg_perim\n",
    "from Circle import Circle\n",
    "\n",
    "# read the polygon\n",
    "import numpy as np\n",
    "path = os.path.join(\"..\", \"data\", \"polygon.txt\") # safe path\n",
    "polyg = np.loadtxt(path)\n",
    "\n",
    "# use the function\n",
    "print(\"Polygon perimeter = {:.2f} length units\".format(polyg_perim(polyg,1)))\n",
    "\n",
    "# use the class\n",
    "my_circle = Circle([2.5, 3.2], 1.75)\n",
    "print(\"Circle area = {:.2f} area units\".format(my_circle.area()))"
   ]
  },
  {
   "cell_type": "markdown",
   "id": "5767d3b2",
   "metadata": {},
   "source": [
    "Isn't this fun? 🙂\n",
    "\n",
    "To practice the last two notebooks, try the exercises in [lab1_2](../lab/lab1_2.ipynb)."
   ]
  }
 ],
 "metadata": {
  "kernelspec": {
   "display_name": "Python 3 (ipykernel)",
   "language": "python",
   "name": "python3"
  },
  "language_info": {
   "codemirror_mode": {
    "name": "ipython",
    "version": 3
   },
   "file_extension": ".py",
   "mimetype": "text/x-python",
   "name": "python",
   "nbconvert_exporter": "python",
   "pygments_lexer": "ipython3",
   "version": "3.11.5"
  }
 },
 "nbformat": 4,
 "nbformat_minor": 5
}
