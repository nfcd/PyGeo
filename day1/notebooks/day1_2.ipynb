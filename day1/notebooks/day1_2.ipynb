{
 "cells": [
  {
   "cell_type": "markdown",
   "id": "931003b5",
   "metadata": {},
   "source": [
    "# Day 1-part 2: Arrays\n",
    "\n",
    "Like lists, arrays are collections of items, but of the same type (e.g., all numbers or all strings). To use arrays in Python, you need to import the `numpy` library:"
   ]
  },
  {
   "cell_type": "code",
   "execution_count": null,
   "id": "ac867306",
   "metadata": {},
   "outputs": [],
   "source": [
    "import numpy as np # import numpy library under the alias np"
   ]
  },
  {
   "cell_type": "markdown",
   "id": "f50c71d2",
   "metadata": {},
   "source": [
    "However, contrary to lists, arrays need to be declared:"
   ]
  },
  {
   "cell_type": "code",
   "execution_count": null,
   "id": "a7c83e93",
   "metadata": {},
   "outputs": [],
   "source": [
    "my_array = np.array([-10, 30, 60, 90, 120, 150, -100]) # create array\n",
    "print(my_array)"
   ]
  },
  {
   "cell_type": "markdown",
   "id": "21b70257",
   "metadata": {},
   "source": [
    "Let's modify this array:"
   ]
  },
  {
   "cell_type": "code",
   "execution_count": null,
   "id": "059adc3a",
   "metadata": {},
   "outputs": [],
   "source": [
    "my_array[0] = 0 # modify first element\n",
    "my_array[-1] = 180 # modify last element\n",
    "print(my_array)"
   ]
  },
  {
   "cell_type": "code",
   "execution_count": null,
   "id": "981410d3",
   "metadata": {},
   "outputs": [],
   "source": [
    "my_array = np.append(my_array,[240, 270, 300, 330, 360]) # append elements\n",
    "print(my_array)"
   ]
  },
  {
   "cell_type": "code",
   "execution_count": null,
   "id": "1f02fa5e",
   "metadata": {},
   "outputs": [],
   "source": [
    "my_array = np.insert(my_array,7,210) # insert element at index 7\n",
    "print(my_array) "
   ]
  },
  {
   "cell_type": "code",
   "execution_count": null,
   "id": "844695a2",
   "metadata": {},
   "outputs": [],
   "source": [
    "my_array = np.delete(my_array,-1) # delete last element\n",
    "print(my_array)"
   ]
  },
  {
   "cell_type": "markdown",
   "id": "f2d0fc96",
   "metadata": {},
   "source": [
    "Notice that `my_array` does not have append, insert or delete methods. Instead, we need to use the `numpy` `append`, `insert`, or `delete` methods as shown above. This creates a new array.\n",
    "\n",
    "Now, let's use index ranges to print some elements of the array:"
   ]
  },
  {
   "cell_type": "code",
   "execution_count": null,
   "id": "690418b3",
   "metadata": {},
   "outputs": [],
   "source": [
    "print(my_array[4:8]) # print elements with indexes 4 to 7"
   ]
  },
  {
   "cell_type": "markdown",
   "id": "c85f41aa",
   "metadata": {},
   "source": [
    "Index ranges are quite powerful. Suppose we want to calculate the differences between successive elements of `my_array`. We can do this in one line of code as follows:"
   ]
  },
  {
   "cell_type": "code",
   "execution_count": null,
   "id": "25aa2a07",
   "metadata": {},
   "outputs": [],
   "source": [
    "# differences between succesive elements of my_array\n",
    "diffs = my_array[1:] - my_array[:-1]\n",
    "print(diffs)"
   ]
  },
  {
   "cell_type": "markdown",
   "id": "c5901c5e",
   "metadata": {},
   "source": [
    "`my_array[1:]` contains the second to the last element of `my_array`, while `my_array[:-1]` contains the first to the penultimate element of `my_array`. Subtracting these two arrays gives us the differences between the elements of `my_array`.\n",
    "\n",
    "We can use the `numpy.size` function to retrieve the number of elements in the array:"
   ]
  },
  {
   "cell_type": "code",
   "execution_count": null,
   "id": "c6747491",
   "metadata": {},
   "outputs": [],
   "source": [
    "print(\"number of elements in array =\", my_array.size) # print the number of elements in array"
   ]
  },
  {
   "cell_type": "markdown",
   "id": "9ae94455",
   "metadata": {},
   "source": [
    "and the `numpy.dtype` function to find out the type of elements in the array:"
   ]
  },
  {
   "cell_type": "code",
   "execution_count": null,
   "id": "dc85c9a6",
   "metadata": {},
   "outputs": [],
   "source": [
    "my_array.dtype"
   ]
  },
  {
   "cell_type": "markdown",
   "id": "76fd4233",
   "metadata": {},
   "source": [
    "### 2D arrays\n",
    "\n",
    "A 2D array is an array of 1D arrays. It can be constructed as follows:"
   ]
  },
  {
   "cell_type": "code",
   "execution_count": null,
   "id": "f9749be0",
   "metadata": {},
   "outputs": [],
   "source": [
    "# create a 3 x 4 array\n",
    "my_2d_array = np.array([[1, 2, 3, 4], [5, 6, 7, 8], \n",
    "                        [9, 10, 11, 12]])\n",
    "print(my_2d_array)"
   ]
  },
  {
   "cell_type": "markdown",
   "id": "78d1e038",
   "metadata": {},
   "source": [
    "To access an element of the array, we use two indexes within brackets. The first index refers to the row, and the second index to the column of the array. This is illustrated with a library cabinet below for the box at row index 2 and column index 2:<br><br>\n",
    "\n",
    "<img src=\"../figures/2dArray.png\" alt=\"varTypes\" width=\"600\"/><br><br>"
   ]
  },
  {
   "cell_type": "code",
   "execution_count": null,
   "id": "27d9de00",
   "metadata": {},
   "outputs": [],
   "source": [
    "# print element in third row and second column my_2d_array\n",
    "print(my_2d_array[2,1])"
   ]
  },
  {
   "cell_type": "markdown",
   "id": "fed50187",
   "metadata": {},
   "source": [
    "Index ranges allow us to quickly access several elements of the array. This is referred to as *slicing* the array. This figure shows how to access the row with index 3 in my cabinet:\n",
    "\n",
    "<img src=\"../figures/slicingRow.png\" alt=\"varTypes\" width=\"600\"/><br><br>"
   ]
  },
  {
   "cell_type": "code",
   "execution_count": null,
   "id": "f8ebdfcb",
   "metadata": {},
   "outputs": [],
   "source": [
    "# print the first row of my_2d_array\n",
    "print(my_2d_array[0,:]) # print(my_2d_array[0]) does the same"
   ]
  },
  {
   "cell_type": "markdown",
   "id": "4d450798",
   "metadata": {},
   "source": [
    "And this figure shows how to select the column with index 3 in my cabinet:\n",
    "\n",
    "<img src=\"../figures/slicingColumn.png\" alt=\"varTypes\" width=\"600\"/><br><br>"
   ]
  },
  {
   "cell_type": "code",
   "execution_count": null,
   "id": "9bb81023",
   "metadata": {},
   "outputs": [],
   "source": [
    "# print the first column of my_2d_array\n",
    "print(my_2d_array[:,0]) # : means all rows in first column"
   ]
  },
  {
   "cell_type": "code",
   "execution_count": null,
   "id": "5cc85a59",
   "metadata": {},
   "outputs": [],
   "source": [
    "# print the first two rows of my_2d_array\n",
    "print(my_2d_array[:2,:]) # print(my_2d_array[:2]) does the same"
   ]
  },
  {
   "cell_type": "code",
   "execution_count": null,
   "id": "4d44ccc7",
   "metadata": {},
   "outputs": [],
   "source": [
    "# print the last two columns of my_2d_array\n",
    "print(my_2d_array[:,2:4]) # means all rows in the last two columns"
   ]
  },
  {
   "cell_type": "markdown",
   "id": "19d55a76",
   "metadata": {},
   "source": [
    "We can use the `numpy.shape` function to obtain the number of rows and columns in the array. This returns a tuple whose first element is the number of rows, and second element is the number of columns:"
   ]
  },
  {
   "cell_type": "code",
   "execution_count": null,
   "id": "4371f7c5",
   "metadata": {},
   "outputs": [],
   "source": [
    "# print number of rows in my_2d_array\n",
    "print(\"number of rows in array =\", my_2d_array.shape[0]) # shape[0] is number of rows\n",
    "\n",
    "# print number of columns in my_2d_array\n",
    "print(\"number of columns in array =\", my_2d_array.shape[1]) # shape [1] is number of columns"
   ]
  },
  {
   "cell_type": "markdown",
   "id": "7cebc3cb",
   "metadata": {},
   "source": [
    "### 3D arrays\n",
    "\n",
    "3D arrays work the same way, they are arrays of 2D arrays:"
   ]
  },
  {
   "cell_type": "code",
   "execution_count": null,
   "id": "a337833b",
   "metadata": {},
   "outputs": [],
   "source": [
    "my_3d_array = np.arange(24).reshape(2,3,4) # constructing a 2 x 3 x 4 array\n",
    "print(my_3d_array)"
   ]
  },
  {
   "cell_type": "markdown",
   "id": "df275c21",
   "metadata": {},
   "source": [
    "Here we use the `numpy.arange` function to generate 24 elements from 0 to 23, and the `numpy.reshape` function to reshape these elements into a 2 x 3 x 4  array. Let's run some of the operations above for this 3D array:"
   ]
  },
  {
   "cell_type": "code",
   "execution_count": null,
   "id": "baed7ae1",
   "metadata": {},
   "outputs": [],
   "source": [
    "print(my_3d_array[0], \"\\n\") # print the first 2D array in the 3D array\n",
    "print(my_3d_array[1], \"\\n\") # print the second 2D array in the 3D array\n",
    "print(my_3d_array[0,1], \"\\n\") # print the second row of first 2D array \n",
    "print(my_3d_array[1,:,2], \"\\n\") # print the third column of second 2D array \n",
    "print(\"shape of array\", my_3d_array.shape) # print the shape of the 3D array"
   ]
  },
  {
   "cell_type": "markdown",
   "id": "fa04425a",
   "metadata": {},
   "source": [
    "Finally, the `numpy.ndim` function tells us the dimensions of the array:"
   ]
  },
  {
   "cell_type": "code",
   "execution_count": null,
   "id": "f93a3d98",
   "metadata": {},
   "outputs": [],
   "source": [
    "print(my_array.ndim)\n",
    "print(my_2d_array.ndim)\n",
    "print(my_3d_array.ndim)"
   ]
  },
  {
   "cell_type": "markdown",
   "id": "ce107315",
   "metadata": {},
   "source": [
    "### Arrays versus lists\n",
    "\n",
    "There are two main reasons to use arrays as opposed to lists:\n",
    "\n",
    "- Arrays are more efficient for storing large amounts of data than lists. \n",
    "- Arrays are great for numerical operations; lists cannot handle directly math operations.\n",
    "\n",
    "To make the last point clear, let's look at the following example:"
   ]
  },
  {
   "cell_type": "code",
   "execution_count": null,
   "id": "5773bca0",
   "metadata": {},
   "outputs": [],
   "source": [
    "my_sines = np.sin(np.radians(my_array)) # compute the sine of the elements in my_array\n",
    "print(np.around(my_sines,2)) # np.around prints the array with just two decimal places"
   ]
  },
  {
   "cell_type": "markdown",
   "id": "2a5c5f2f",
   "metadata": {},
   "source": [
    "Here, we use the `numpy.radians` function to convert the elements of the array from degrees to radians, and the `numpy.sin` function to compute the sine of the elements in the array. All in one line of code! In the `print` statement, we use the `numpy.around` function to print the array elements with just two decimal places. Operating at once over all elements of an array makes your code faster. By the way, this is very similar to how arrays in programs such as [Matlab](https://www.mathworks.com) or [Octave](https://www.gnu.org/software/octave/) work.\n",
    "\n",
    "So, when should we use a list or an array?\n",
    "- If you are storing a relatively short sequence of items and don't plan to do any mathematical operations with it, use a list.\n",
    "- If you have a very long list of items, and you plan to do numerical operations with them, use an array.\n",
    "\n",
    "More about array operations in the next section."
   ]
  },
  {
   "cell_type": "markdown",
   "id": "b6956867",
   "metadata": {},
   "source": [
    "## Array operations\n",
    "\n",
    "There are two main groups of operations that involve `numpy` arrays:\n",
    "\n",
    "- Element-wise operations\n",
    "- Linear algebra operations\n",
    "\n",
    "### Element-wise operations\n",
    "\n",
    "These are simple element-wise operations that involve an array and a scalar, or two arrays of the same dimension. For example:"
   ]
  },
  {
   "cell_type": "code",
   "execution_count": null,
   "id": "8fb68f48",
   "metadata": {},
   "outputs": [],
   "source": [
    "# create a 3 x 3 array\n",
    "array_a = np.array([[1, 2, 3], [4, 5, 6], [7, 8, 9]])\n",
    "print(array_a)"
   ]
  },
  {
   "cell_type": "code",
   "execution_count": null,
   "id": "180dffb3",
   "metadata": {},
   "outputs": [],
   "source": [
    "print(array_a + 2) # array plus scalar"
   ]
  },
  {
   "cell_type": "code",
   "execution_count": null,
   "id": "a4fc2c47",
   "metadata": {},
   "outputs": [],
   "source": [
    "print(array_a - 2) # array minus scalar"
   ]
  },
  {
   "cell_type": "code",
   "execution_count": null,
   "id": "f08a225f",
   "metadata": {},
   "outputs": [],
   "source": [
    "print(array_a * 2) # array times scalar"
   ]
  },
  {
   "cell_type": "code",
   "execution_count": null,
   "id": "72711e47",
   "metadata": {},
   "outputs": [],
   "source": [
    "print(array_a / 2) # array divided by scalar"
   ]
  },
  {
   "cell_type": "code",
   "execution_count": null,
   "id": "e62f7b59",
   "metadata": {},
   "outputs": [],
   "source": [
    "print(array_a ** 2) # array elevated to the scalar"
   ]
  },
  {
   "cell_type": "code",
   "execution_count": null,
   "id": "43052708",
   "metadata": {},
   "outputs": [],
   "source": [
    "# Create another 3 x 3 array\n",
    "array_b = np.array([[9, 8, 7], [6, 5, 4], [3, 2, 1]])\n",
    "\n",
    "print(array_a + array_b) # element-wise sum"
   ]
  },
  {
   "cell_type": "code",
   "execution_count": null,
   "id": "e779e9f8",
   "metadata": {},
   "outputs": [],
   "source": [
    "print(array_a - array_b) # element-wise difference"
   ]
  },
  {
   "cell_type": "code",
   "execution_count": null,
   "id": "c5c7fef2",
   "metadata": {},
   "outputs": [],
   "source": [
    "print(array_a * array_b) # element-wise multiplication"
   ]
  },
  {
   "cell_type": "code",
   "execution_count": null,
   "id": "2eacd65e",
   "metadata": {},
   "outputs": [],
   "source": [
    "print(array_a / array_b) # element-wise division"
   ]
  },
  {
   "cell_type": "code",
   "execution_count": null,
   "id": "4102e00e",
   "metadata": {},
   "outputs": [],
   "source": [
    "print(array_a ** array_b) # element-wise exponentiation"
   ]
  },
  {
   "cell_type": "markdown",
   "id": "c645d235",
   "metadata": {},
   "source": [
    "### Linear algebra operations\n",
    "\n",
    "Linear algebra is very important in geosciences and engineering (check our [online resource in computational geosciences](https://github.com/nfcd/compGeo)). Let's look at some examples:"
   ]
  },
  {
   "cell_type": "code",
   "execution_count": null,
   "id": "06522bb2",
   "metadata": {},
   "outputs": [],
   "source": [
    "# create two vectors (1 x 3 arrays)\n",
    "vector_u = np.array([1, 2, 3])\n",
    "vector_v = np.array([4, 5, 6])\n",
    "# compute the magnitude of the vector u\n",
    "length_u = np.linalg.norm(vector_u)\n",
    "print(\"{:.3f}\".format(length_u)) # print just 3 decimal places"
   ]
  },
  {
   "cell_type": "code",
   "execution_count": null,
   "id": "c491a31c",
   "metadata": {},
   "outputs": [],
   "source": [
    "# make the vector a unit vector by dividing it by its magnitude\n",
    "vector_uu = vector_u / length_u\n",
    "print(np.linalg.norm(vector_uu)) # this should print 1.0 "
   ]
  },
  {
   "cell_type": "code",
   "execution_count": null,
   "id": "648ebcca",
   "metadata": {},
   "outputs": [],
   "source": [
    "# compute the dot product of the vectors, this gives a scalar\n",
    "print(np.dot(vector_u, vector_v))"
   ]
  },
  {
   "cell_type": "code",
   "execution_count": null,
   "id": "6df0788f",
   "metadata": {},
   "outputs": [],
   "source": [
    "# compute the cross product of the vectors, this gives another vector\n",
    "print(np.cross(vector_u, vector_v))"
   ]
  },
  {
   "cell_type": "code",
   "execution_count": null,
   "id": "58226dcf",
   "metadata": {},
   "outputs": [],
   "source": [
    "# create two conformable matrices\n",
    "# columns in matrix a = rows in matrix b\n",
    "matrix_a = np.array([[1, 2, 3], [4, 5, 6]]) # 2 x 3 matrix\n",
    "matrix_b = np.array([[7, 8], [9, 10], [11, 12]]) # 3 x 2 matrix\n",
    "print(\"matrix a has\", matrix_a.shape[0], \"rows and\", matrix_a.shape[1], \"columns\")\n",
    "print(\"matrix b has\", matrix_b.shape[0], \"rows and\", matrix_b.shape[1], \"columns\")"
   ]
  },
  {
   "cell_type": "code",
   "execution_count": null,
   "id": "b2643336",
   "metadata": {},
   "outputs": [],
   "source": [
    "# multiply the matrices, this gives a 2 x 2 matrix\n",
    "print(np.dot(matrix_a, matrix_b))"
   ]
  },
  {
   "cell_type": "code",
   "execution_count": null,
   "id": "88e217f9",
   "metadata": {},
   "outputs": [],
   "source": [
    "# create a square (rows = columns) 3 x 3 matrix\n",
    "matrix_c = np.array([[1, 7, 9], [3, 5, 8], [4, 2, 6]])\n",
    "\n",
    "# compute the determinant of the matrix\n",
    "print(np.linalg.det(matrix_c)) "
   ]
  },
  {
   "cell_type": "code",
   "execution_count": null,
   "id": "15d3be94",
   "metadata": {},
   "outputs": [],
   "source": [
    "# compute the inverse of the matrix\n",
    "matrix_ci = np.linalg.inv(matrix_c)\n",
    "print(matrix_ci) "
   ]
  },
  {
   "cell_type": "code",
   "execution_count": null,
   "id": "7f83f0f7",
   "metadata": {},
   "outputs": [],
   "source": [
    "# the matrix times its inverse is equal to the identity matrix\n",
    "# a matrix with 1s along the diagonal, and 0s outside\n",
    "print(np.dot(matrix_c, matrix_ci))"
   ]
  },
  {
   "cell_type": "markdown",
   "id": "6c7f8cb1",
   "metadata": {},
   "source": [
    "Here we use the `numpy` linear algebra functions (some of them in the `linalg` module) to perform these operations.\n",
    "\n",
    "`numpy` includes many more [operations](https://numpy.org/doc/stable/reference/routines.html). It is not surprising that data analytics and data science rely so heavily on `numpy` arrays.\n",
    "\n",
    "To practice the first two notebooks, try the exercises in [lab1_1](../lab/lab1_1.ipynb)."
   ]
  }
 ],
 "metadata": {
  "kernelspec": {
   "display_name": "base",
   "language": "python",
   "name": "python3"
  },
  "language_info": {
   "codemirror_mode": {
    "name": "ipython",
    "version": 3
   },
   "file_extension": ".py",
   "mimetype": "text/x-python",
   "name": "python",
   "nbconvert_exporter": "python",
   "pygments_lexer": "ipython3",
   "version": "3.12.7"
  }
 },
 "nbformat": 4,
 "nbformat_minor": 5
}
