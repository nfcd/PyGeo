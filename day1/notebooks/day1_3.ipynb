{
 "cells": [
  {
   "cell_type": "markdown",
   "id": "430e3154",
   "metadata": {},
   "source": [
    "# Day 1-part 3 : Control flow\n",
    "\n",
    "Python executes code sequentially. However, in some cases we may need to change the sequence of the program's execution based on the problem requirement. Sometimes, we need to check some condition, and based on the fulfillment of this condition, some code needs to be executed once or a number of times. To achieve this, Python provides:\n",
    "- Conditional execution\n",
    "- Iterative execution"
   ]
  },
  {
   "cell_type": "markdown",
   "id": "945b90d6",
   "metadata": {},
   "source": [
    "### Conditional execution\n",
    "\n",
    "For conditional execution, Python provides the `if-else` statement. The syntax of this statement is as follows:\n",
    "\n",
    "```python\n",
    "if expression:\n",
    "    statement_1 \n",
    "else:\n",
    "    statement_2 \n",
    "```\n",
    "\n",
    "Python evaluates the expression (also called if condition). If the expression is true then statement_1 is executed. Otherwise, statement_2 is executed. Notice that the statements are indented four spaces. In Python, indentation is very important and is the way the language knows the statements should be executed within a block of code. \n",
    "\n",
    "The following flowchart illustrates conditional execution:\n",
    "\n",
    "<img src=\"../figures/ifElse.png\" alt=\"ifElse\" width=\"300\"/><br><br>\n",
    "\n",
    "Here is one example to convert temperature from degree Celsius to Fahrenheit and vice versa:"
   ]
  },
  {
   "cell_type": "code",
   "execution_count": null,
   "id": "4812cded",
   "metadata": {},
   "outputs": [],
   "source": [
    "t_type = \"C\"\n",
    "t_val = 23.0\n",
    "\n",
    "if t_type == \"C\":\n",
    "    tc_type = \"F\"\n",
    "    tc_val = 9 / 5 * t_val + 32\n",
    "else:\n",
    "    tc_type = \"C\"\n",
    "    tc_val = 5 / 9 * (t_val - 32)\n",
    "\n",
    "print(\"{:.2f}\".format(tc_val), tc_type) # print temperature value with only 2 digits after decimal"
   ]
  },
  {
   "cell_type": "code",
   "execution_count": null,
   "id": "5d13c85c",
   "metadata": {},
   "outputs": [],
   "source": [
    "t_type = tc_type\n",
    "t_val = tc_val\n",
    "\n",
    "if t_type == \"C\":\n",
    "    tc_type = \"F\"\n",
    "    tc_val = 9 / 5 * t_val + 32\n",
    "else:\n",
    "    tc_type = \"C\"\n",
    "    tc_val = 5 / 9 * (t_val - 32)\n",
    "\n",
    "print(\"{:.2f}\".format(tc_val), tc_type)"
   ]
  },
  {
   "cell_type": "markdown",
   "id": "30c7e74f",
   "metadata": {},
   "source": [
    "The symbol `==` is the `equal` comparison operator. It evaluates wether the terms on both sides of the operator are equal. \n",
    "\n",
    "Those lines that are indented four spaces (or a Tab) after the `if` or `else` statement are executed within that block. The `print` line is not indented and therefore it is executed outside the conditional.\n",
    "\n",
    "The `else` part of the syntax is not obligatory. You can skip it according to the need. Here is one example:"
   ]
  },
  {
   "cell_type": "code",
   "execution_count": null,
   "id": "37f92710",
   "metadata": {},
   "outputs": [],
   "source": [
    "# import numpy library\n",
    "import numpy as np\n",
    "\n",
    "my_vector = np.array([1, 2, 3])\n",
    "\n",
    "# if my_vector is not a unit vector make it a unit vector\n",
    "if np.linalg.norm(my_vector) != 1.0:\n",
    "    my_vector = my_vector / np.linalg.norm(my_vector)\n",
    "    \n",
    "print(\"vector magnitude =\",np.linalg.norm(my_vector))"
   ]
  },
  {
   "cell_type": "markdown",
   "id": "f76381b9",
   "metadata": {},
   "source": [
    "The symbol `!=` is the `not equal` comparison operator. It evaluates wether the terms on both sides of the operator are not equal. You can find a list of the Python comparison operators [here](https://www.w3schools.com/python/gloss_python_comparison_operators.asp).\n",
    "\n",
    "It is possible to include more than one if condition using the `elif` statement. Here is one example:"
   ]
  },
  {
   "cell_type": "code",
   "execution_count": null,
   "id": "a927815d",
   "metadata": {},
   "outputs": [],
   "source": [
    "azimuth = 232 # azimuth is an angle between 0 and 360 deg\n",
    "\n",
    "if azimuth == 0 or azimuth == 360:\n",
    "    direction = \"N\"\n",
    "elif azimuth > 0 and azimuth < 90:\n",
    "    direction = \"NE\"\n",
    "elif azimuth == 90:\n",
    "    direction = \"E\"\n",
    "elif azimuth > 90 and azimuth < 180:\n",
    "    direction = \"SE\"\n",
    "elif azimuth == 180:\n",
    "    direction = \"S\"\n",
    "elif azimuth > 180 and azimuth < 270:\n",
    "    direction = \"SW\"\n",
    "elif azimuth == 270:\n",
    "    direction = \"W\"\n",
    "else:\n",
    "    direction = \"NW\"\n",
    "\n",
    "print(direction)"
   ]
  },
  {
   "cell_type": "markdown",
   "id": "fbb4eb0b",
   "metadata": {},
   "source": [
    "The `and` logical operator returns `True` if both statements are true. There is also an `or` logical operator, which returns `True` if either one of the statements is true (notice that `and` and `or` are not the same thing). You can find more about the Python logical operators [here](https://www.w3schools.com/python/gloss_python_logical_operators.asp).\n",
    "\n",
    "Python has a nice feature: When a Boolean value is used in an arithmetic expression, Python translates a `True` to one and `False` to zero. This is useful if we want to assign different numerical values to a variable based upon the value of a Boolean. For example, suppose we have a compass that cannot accurately measure any angle below 1$^\\circ$. In our analysis, we will consider any measurement less than 1$^\\circ$ as 0$^\\circ$. We could do the following:"
   ]
  },
  {
   "cell_type": "code",
   "execution_count": null,
   "id": "c2414dd4",
   "metadata": {},
   "outputs": [],
   "source": [
    "angle = 1.5\n",
    "corrected_angle = (angle >= 1.0) * angle\n",
    "print(corrected_angle)"
   ]
  },
  {
   "cell_type": "markdown",
   "id": "a7621aba",
   "metadata": {},
   "source": [
    "### Comparison operators and Boolean arrays\n",
    "\n",
    "Comparison operators also work on arrays. Suppose we have two arrays with the months of the year, and their precipitation values in mm:"
   ]
  },
  {
   "cell_type": "code",
   "execution_count": null,
   "id": "1af5cd00",
   "metadata": {},
   "outputs": [],
   "source": [
    "months = np.array([\"Jan\", \"Feb\", \"Mar\", \"Apr\", \"May\", \"Jun\", \n",
    "                   \"Jul\", \"Aug\", \"Sept\", \"Oct\", \"Nov\", \"Dec\"]) # array of months\n",
    "precip = np.array([142, 89, 114, 74, 53, 38, 13, 25, 43, 109, 165, 137]) # monthly precipitation values in mm"
   ]
  },
  {
   "cell_type": "markdown",
   "id": "92e4a3ea",
   "metadata": {},
   "source": [
    "Suppose we want to extract the months with precipitation higher than 100 mm and their precipitation values. We can do the following:"
   ]
  },
  {
   "cell_type": "code",
   "execution_count": null,
   "id": "60a9d0d6",
   "metadata": {},
   "outputs": [],
   "source": [
    "high_precip = precip > 100 # Boolean array for monthly precipitation values higher than 100 mm\n",
    "\n",
    "print(high_precip, \"\\n\") # print Boolean array\n",
    "\n",
    "print(\"Months with precipitation > 100 mm:\", months[high_precip]) # print months with precipitation > 100 mm\n",
    "print(\"Precipitation in these months:\", precip[high_precip]) # print these months' precipitation values"
   ]
  },
  {
   "cell_type": "markdown",
   "id": "f1117e21",
   "metadata": {},
   "source": [
    "`high_precip` is a Boolean array that we can use to extract the high precipitation months and values from the `months` and `precip` arrays. Wherever `high_precip` is `True` the elements of these arrays will be returned. This is a very efficient way to filter arrays. We use it a lot in Python.\n",
    "\n",
    "Boolean arrays can also be used to selectively modify arrays based on a given condition. Suppose that precipitation values larger than 100 mm need to be adjusted by a factor of 0.8. We can quickly do this as follows:"
   ]
  },
  {
   "cell_type": "code",
   "execution_count": null,
   "id": "a70a0d48",
   "metadata": {},
   "outputs": [],
   "source": [
    "adjusted_precip = np.where(high_precip, precip * 0.8, precip)\n",
    "print(adjusted_precip)"
   ]
  },
  {
   "cell_type": "markdown",
   "id": "936dc766",
   "metadata": {},
   "source": [
    "Here we use the `numpy.where` function. There are three arguments passed to this function: a boolean (or condition) array `high_precip`, a scalar or array that defines output values in the return array wherever the boolean array is `True`, and a scalar or array that defines output values in the return array wherever the boolean array is `False`. Thus, every element corresponding to where `high_precip` is `True`is set to `precip` multiplied by 0.8, and every element corresponding to where `high_precip` is `False` is set to `precip`.\n",
    "\n",
    "**Exercise**: Modify the code above to adjust precipitation values between 100 and 150. *Hint*: Look at the `numpy` logical operation `logical_and`."
   ]
  },
  {
   "cell_type": "markdown",
   "id": "399e711a",
   "metadata": {},
   "source": [
    "### Iterative execution \n",
    "\n",
    "For the iterative execution of code, Python provides two kinds of loops:\n",
    "- While loop\n",
    "- For loop\n",
    "\n",
    "These loops are used when we want to execute a piece of code multiple times.\n",
    "\n",
    "### While loop\n",
    "\n",
    "The syntax of the `while` loop is as follows:\n",
    "\n",
    "```python\n",
    "initialize_variable\n",
    "while expression:\n",
    "    statement\n",
    "    modify_variable\n",
    "```\n",
    "\n",
    "We first initialize a variable. Then, Python evaluates a expression that uses this variable. If the expression is true, the body of the loop is executed. Otherwise, the program comes out of the loop. The body of the loop will execute until the expression is false. Notice that inside the loop, we must modify the variable used in the expression, otherwise the loop will execute infinite times (you don't want this). The flowchart below illustrates this syntax:\n",
    "\n",
    "<img src=\"../figures/whileLoop.png\" alt=\"whileLoop\" width=\"220\"/><br><br> \n",
    "\n",
    "Let's do a simple example:"
   ]
  },
  {
   "cell_type": "code",
   "execution_count": null,
   "id": "c952568d",
   "metadata": {},
   "outputs": [],
   "source": [
    "# sum all numbers from 0 to 99_999 that are multiple of 3 or 5:\n",
    "number = 0 # initial number\n",
    "total = 0 # initialize total sum to 0\n",
    "while number < 100_000: # while number is lower than 100_000\n",
    "    if number % 3 == 0 or number % 5 == 0: # if number is multiple of 3 or 5\n",
    "        total += number # add number to total sum\n",
    "    number += 1 # increment number\n",
    "print(total)"
   ]
  },
  {
   "cell_type": "markdown",
   "id": "673cda55",
   "metadata": {},
   "source": [
    "`number` is initially zero and is incremented within the loop. The loop will run until `number` is lower than 100_000. The `if` statement guarantees that we only add to `total` the multiples of 3 or 5. Notice that we need to increment `number` within the loop, otherwise the loop will run forever.\n",
    "\n",
    "### An interesting example: The perimeter of a polygon\n",
    "\n",
    "Let's look at a more interesting and challenging example: calculating the perimeter of a polygon defined by *n* adjacent points. \n",
    "\n",
    "We start by reading the polygon's points from a text file using the `numpy.loadtxt` function. Notice that the first column in the text file are the *x* coordinates of the points, and the second column are the *y* coordinates of the points. We then plot the points using the `matplotlib.pyplot` module. Don't worry, we will see later how to read and plot data. For the moment, just realize how easy it is to do this in Python:"
   ]
  },
  {
   "cell_type": "code",
   "execution_count": null,
   "id": "764fa1c4",
   "metadata": {},
   "outputs": [],
   "source": [
    "import os # import operating system module\n",
    "import matplotlib.pyplot as plt # import pyplot\n",
    "\n",
    "# read x and y coordinates of polygon's points\n",
    "# from a text file with space-separated columns\n",
    "# 1st column is x and 2nd column is y coordinate\n",
    "# notice that the points are in sequential order\n",
    "path = os.path.join(\"..\", \"data\", \"polygon.txt\") # this makes a safe path\n",
    "polyg = np.loadtxt(path)\n",
    "\n",
    "# plot polygon points by providing their x and y coordinates\n",
    "# polyg[:,0] are first column = x values\n",
    "# polyg[:,1] are second column = y values\n",
    "# \"k.\" plots points as black points\n",
    "plt.plot(polyg[:,0],polyg[:,1],\"k.\")\n",
    "\n",
    "# make axes equal\n",
    "plt.axis(\"equal\"); # The ; suppresses some annoying jibberish"
   ]
  },
  {
   "cell_type": "markdown",
   "id": "a5503dca",
   "metadata": {},
   "source": [
    "We then get the number of points in the polygon, initialize the index of the current point to 0, and initialize the polygon´s perimeter to 0.0:"
   ]
  },
  {
   "cell_type": "code",
   "execution_count": null,
   "id": "10cdf85b",
   "metadata": {},
   "outputs": [],
   "source": [
    "npoints = polyg.shape[0] # number of rows in polyg = number of points in polygon\n",
    "i = 0 # index of current point\n",
    "perimeter = 0.0 # initial polygon's perimeter"
   ]
  },
  {
   "cell_type": "markdown",
   "id": "f62ef4b2",
   "metadata": {},
   "source": [
    "A closer look of the initial and final points of the polygon are shown in the following figure:\n",
    "\n",
    "<img src=\"../figures/polygon.png\" alt=\"polygon\" width=\"600\"/><br><br>\n",
    "\n",
    "These points are the first, second, and last elements in the `polyg` array:"
   ]
  },
  {
   "cell_type": "code",
   "execution_count": null,
   "id": "e2d09aac",
   "metadata": {},
   "outputs": [],
   "source": [
    "print(\"First point x = {:.2f}, y = {:.2f}\".format(polyg[0,0], polyg[0,1]))\n",
    "print(\"Second point x = {:.2f}, y = {:.2f}\".format(polyg[1,0], polyg[1,1]))\n",
    "print(\"Last point x = {:.2f}, y = {:.2f}\".format(polyg[npoints-1,0], polyg[npoints-1,1]))"
   ]
  },
  {
   "cell_type": "markdown",
   "id": "a4c86232",
   "metadata": {},
   "source": [
    "The figure above also shows how the segment `d` between the two first points can be calculated using Pythagoras.\n",
    "\n",
    "Now, let's use a `while` loop to calculate the polygon's perimeter:"
   ]
  },
  {
   "cell_type": "code",
   "execution_count": null,
   "id": "d8660371",
   "metadata": {},
   "outputs": [],
   "source": [
    "# calculate polygon's perimeter using a while loop\n",
    "while i < npoints: # while i is lower than npoints\n",
    "    # current point\n",
    "    point_1 = polyg[i,:]\n",
    "    # next point:\n",
    "    # if i is last point, connect to first point\n",
    "    # this closes the polygon\n",
    "    if i == npoints-1:\n",
    "        point_2 = polyg[0,:]\n",
    "    # else use next point, i + 1\n",
    "    else:\n",
    "        point_2 = polyg[i+1,:]\n",
    "    # add the segment to the perimeter\n",
    "    # Pythagoras is handy here\n",
    "    perimeter += np.sqrt((point_1[0]-point_2[0])**2 + \\\n",
    "                         (point_1[1]-point_2[1])**2)\n",
    "    # update point\n",
    "    i += 1\n",
    "\n",
    "print(\"Perimeter = {:.2f} length units\".format(perimeter))"
   ]
  },
  {
   "cell_type": "markdown",
   "id": "534ea83c",
   "metadata": {},
   "source": [
    "The polygon's perimeter is equal to the sum of the segments between points. When entering the loop, `i` is 0. The first segment is defined by the two first points with indexes 0 and 1. This segment is calculated using Pythagoras and added to the perimeter. Then, `i` is incremented and in the next loop iteration the next segment is computed and added to the perimeter, and so on until `i = npoints - 1` (the last point).\n",
    "\n",
    "The `if-else` statement makes sure each point is connected to the next point, including the last point which should be connected to the first point to close the polygon. The `print` statement outside the loop outputs the polygon's perimeter.\n",
    "\n",
    "Notice that the backslash character `\\` in the perimeter line, allows to break the line. This character is useful to split a long line of code into several lines."
   ]
  },
  {
   "cell_type": "markdown",
   "id": "5ad4f717",
   "metadata": {},
   "source": [
    "### For-loop\n",
    "\n",
    "The `for` loop has a simpler syntax:\n",
    "\n",
    "```python\n",
    "for counter_variable in sequence:\n",
    "    statement\n",
    "```\n",
    "\n",
    "The syntax comprises a counter_variable and a sequence. The sequence can be any collection of data. During the execution of the loop, the first element of the sequence is assigned to counter_variable and the statement(s) of the loop body are executed, then the next element is assigned to counter_variable and the statement(s) are executed again, until all elements of the sequence are exhausted. The flowchart below illustrates this:\n",
    "\n",
    "<img src=\"../figures/forLoop.png\" alt=\"forLoop\" width=\"240\"/><br><br>\n",
    "\n",
    "Let's try first a simple example:"
   ]
  },
  {
   "cell_type": "code",
   "execution_count": null,
   "id": "01f2283f",
   "metadata": {},
   "outputs": [],
   "source": [
    "# sum all numbers from 0 to 99_999 that are multiple of 3 or 5:\n",
    "total = 0 # initialize total sum to 0\n",
    "for number in range(100_000): # for number 0 to 99_999\n",
    "    if number % 3 == 0 or number % 5 == 0: # if number is multiple of 3 or 5\n",
    "        total += number # add number to total sum\n",
    "print(total)"
   ]
  },
  {
   "cell_type": "markdown",
   "id": "2ae3c757",
   "metadata": {},
   "source": [
    "This code is simpler than the equivalent one with a while loop. The `range` function generates a sequence of numbers from 0 (the default) to 99,999 (stop value - 1) in increments of 1 (the default increment). The `in` function assigns elements of the sequence to the variable `number`, starting with the first element (0), moving to the next element in the next loop iteration, and ending with the last element 99_999. \n",
    "\n",
    "Now let's come back to the more complex example of calculating the perimeter of a polygon. Let's calculate the perimeter of the polygon above using a `for` loop. Notice that first we need to reset the polygon's perimeter to 0.0:"
   ]
  },
  {
   "cell_type": "code",
   "execution_count": null,
   "id": "a96b91cf",
   "metadata": {},
   "outputs": [],
   "source": [
    "# reset polygon's perimeter to 0.0\n",
    "perimeter = 0.0\n",
    "\n",
    "# calculate polygon's perimeter using a for loop\n",
    "for i in range(npoints):\n",
    "    # current point\n",
    "    point_1 = polyg[i,:]\n",
    "    # next point:\n",
    "    # if i is last point, connect to first point\n",
    "    # this closes the polygon\n",
    "    if i == npoints-1:\n",
    "        point_2 = polyg[0,:]\n",
    "    # else use next point, i + 1\n",
    "    else:\n",
    "        point_2 = polyg[i+1,:]\n",
    "    # add the segment to the perimeter\n",
    "    perimeter += np.sqrt((point_1[0]-point_2[0])**2 + \\\n",
    "                         (point_1[1]-point_2[1])**2)\n",
    "\n",
    "print(\"Perimeter = {:.2f} length units\".format(perimeter)) "
   ]
  },
  {
   "cell_type": "markdown",
   "id": "f29ed696",
   "metadata": {},
   "source": [
    "In the loop, we iterate from the first point of the polygon (`i = 0`), to the last point (`i = npoints-1`), in increments of 1. This code is simpler than the equivalent one with the while loop, but we can make it even simpler:"
   ]
  },
  {
   "cell_type": "code",
   "execution_count": null,
   "id": "149666ef",
   "metadata": {},
   "outputs": [],
   "source": [
    "# reset polygon's perimeter to 0.0\n",
    "perimeter = 0.0\n",
    "\n",
    "# calculate polygon's perimeter using a for loop\n",
    "# enumerate gives us the current index and value of the iteration\n",
    "for i, point_1 in enumerate(polyg):\n",
    "    # next point:\n",
    "    # if i is last point, connect to first point\n",
    "    # this closes the polygon\n",
    "    if i == npoints-1:\n",
    "        point_2 = polyg[0,:]\n",
    "    # else use next point, i + 1\n",
    "    else:\n",
    "        point_2 = polyg[i+1,:]\n",
    "    # add the segment to the perimeter\n",
    "    perimeter += np.sqrt((point_1[0]-point_2[0])**2 + \\\n",
    "                         (point_1[1]-point_2[1])**2)\n",
    "\n",
    "print(\"Perimeter = {:.2f} length units\".format(perimeter)) "
   ]
  },
  {
   "cell_type": "markdown",
   "id": "20f0c8c9",
   "metadata": {},
   "source": [
    "At each iteration, we extract both the current index and current point using the function `enumerate`. \n",
    "\n",
    "What if we don't want to use all the vertices in the polygon, but, say, every other vertex? We use again the `range` function, but this time we specify the start, end, and increment of the sequence:"
   ]
  },
  {
   "cell_type": "code",
   "execution_count": null,
   "id": "cd79d29a",
   "metadata": {},
   "outputs": [],
   "source": [
    "# reset polygon's perimeter to 0.0\n",
    "perimeter = 0.0\n",
    "\n",
    "# use every two points\n",
    "step = 2 \n",
    "\n",
    "# calculate polygon's perimeter using a for loop\n",
    "for i in range(0,npoints,step):\n",
    "    # current point\n",
    "    point_1 = polyg[i,:]\n",
    "    # next poing:\n",
    "    # if i is last point, connect to first point\n",
    "    # this closes the polygon\n",
    "    if i >= npoints-step:\n",
    "        point_2 = polyg[0,:] \n",
    "    # else use next point, i + step\n",
    "    else:\n",
    "        point_2 = polyg[i+step,:]\n",
    "    # add the segment to the perimeter\n",
    "    perimeter += np.sqrt((point_1[0]-point_2[0])**2 + \\\n",
    "                         (point_1[1]-point_2[1])**2)\n",
    "\n",
    "print(\"Perimeter = {:.2f} length units\".format(perimeter)) "
   ]
  },
  {
   "cell_type": "markdown",
   "id": "2fa0ff87",
   "metadata": {},
   "source": [
    "In the loop above, `i` takes values of 0, 2, 4... npoints-1, and the segments are defined by the points 0 and 2, 2 and 4, 4 and 6, etc. The `if-else` statement makes sure the polygon is closed.\n",
    "\n",
    "As you can see, the calculated perimeter is slightly smaller. We will explore the relationship between the polygon's perimeter and the length of the added segments (as represented by the variable `step`) in the `Functions` section.\n",
    "\n",
    "## List comprehensions\n",
    "\n",
    "List comprehensions are a convenient and widely used Python feature. They allow us to rapidly form a new list by filtering the elements of a collection. They take the basic form:\n",
    "\n",
    "```Python\n",
    "[expr for value in collection if condition]\n",
    "```\n",
    "So list comprehensions bring together loops and conditionals in one concise statement. The conditional is optional. Here are a two examples:"
   ]
  },
  {
   "cell_type": "code",
   "execution_count": null,
   "id": "f6b1777f",
   "metadata": {},
   "outputs": [],
   "source": [
    "cent = np.random.randint(low=0, high=40, size=(10,)) # random list of temperatures in centigrades\n",
    "print(\"Temperatures C =\", cent) # output C temperatures\n",
    "fah = [9/5 * x + 32 for x in cent] # convert to Fahrenheit, using list comprehensions\n",
    "print(\"Temperatures F =\", [int(x) for x in fah]) # output rounded F temperatures using list comprehensions"
   ]
  },
  {
   "cell_type": "code",
   "execution_count": null,
   "id": "bb2cc050",
   "metadata": {},
   "outputs": [],
   "source": [
    "x1 = np.random.randint(low=0, high=10, size=(10000,)) # random integers from 0 to 10\n",
    "x1_even = [x for x in x1 if x % 2 == 0] # extract list of even integers using list comprehensions\n",
    "print(\"Of\", len(x1), \"integers,\", len(x1_even), \"are even\")"
   ]
  },
  {
   "cell_type": "markdown",
   "id": "9e94cd29",
   "metadata": {},
   "source": [
    "That's it. In the next notebook, we will look at functions and classes."
   ]
  }
 ],
 "metadata": {
  "kernelspec": {
   "display_name": "Python 3 (ipykernel)",
   "language": "python",
   "name": "python3"
  },
  "language_info": {
   "codemirror_mode": {
    "name": "ipython",
    "version": 3
   },
   "file_extension": ".py",
   "mimetype": "text/x-python",
   "name": "python",
   "nbconvert_exporter": "python",
   "pygments_lexer": "ipython3",
   "version": "3.11.5"
  }
 },
 "nbformat": 4,
 "nbformat_minor": 5
}
