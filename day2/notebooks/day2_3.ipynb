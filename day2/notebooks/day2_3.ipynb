{
 "cells": [
  {
   "cell_type": "markdown",
   "id": "08ae9407",
   "metadata": {},
   "source": [
    "**Note:** This is kind of an advanced notebook that shows the power of Python for animating data. Strictly speaking you don't need to do the notebook, but it can be fun to see how you can use Python to accomplish a relatively complex task.\n",
    "\n",
    "# Day 2-Part 3: Animating data\n",
    "\n",
    "Every year, BP publishes the Statistical Review of World Energy, an analysis of the world energy markets through time. The data are available at the following [link](https://www.bp.com/en/global/corporate/energy-economics/statistical-review-of-world-energy.html).\n",
    "\n",
    "In this notebook, we will use the data from 2022 and the libraries `numpy`, `pandas`, and `celluloid` to make a movie of Primary Energy Consumption per capita versus CO2 emissions per capita from 1965 to 2021.\n",
    "\n",
    "**Note:** I added to the original BP Excel file, a sheet with the codes and regions numbers of the countries in the BP dataset. This allows coloring the countries by region, and labeling them by code. See Excel file in the data directory.\n",
    "\n",
    "We start by importing the required libraries:"
   ]
  },
  {
   "cell_type": "code",
   "execution_count": null,
   "id": "c36bea8c",
   "metadata": {},
   "outputs": [],
   "source": [
    "# import libraries\n",
    "import os\n",
    "import numpy as np\n",
    "import matplotlib.pyplot as plt\n",
    "import pandas as pd"
   ]
  },
  {
   "cell_type": "markdown",
   "id": "530dd2bf",
   "metadata": {},
   "source": [
    "Now, let's read the primary energy consumption from the Excel file. Notice that we need to do some cleaning (remove some rows), but that is easy with `pandas`. At the end, we should have a `DataFrame` with 92 rows (countries):"
   ]
  },
  {
   "cell_type": "code",
   "execution_count": null,
   "id": "8a0ef7cb",
   "metadata": {},
   "outputs": [],
   "source": [
    "# primary energy consumption\n",
    "# safe path to file\n",
    "path = os.path.join(\"..\", \"data\", \"bp-stats-review-2022-all-data.xlsx\") \n",
    "# read from third row and drop last 14 rows, make first column the index\n",
    "pec = pd.read_excel(path, sheet_name = \"Primary Energy Consumption\", \n",
    "                    header=2, skipfooter=14, index_col=\"Exajoules\") \n",
    "# remove three last columns\n",
    "pec.drop(columns=pec.columns[-3:], axis=1,  inplace=True)\n",
    "# remove empty rows\n",
    "pec.dropna(inplace=True)\n",
    "# remove rows containing \"Total\"\n",
    "pec = pec[pec.index.str.contains(\"Total\") == False]\n",
    "# number of rows should be 92\n",
    "print(\"Number of rows =\", len(pec.index))\n",
    "# list the first 5 countries\n",
    "pec.head()"
   ]
  },
  {
   "cell_type": "markdown",
   "id": "f80bd5e1",
   "metadata": {},
   "source": [
    "Then, we read the primary energy consumption per capita. Again, we need to remove some rows and end up with 92 countries:"
   ]
  },
  {
   "cell_type": "code",
   "execution_count": null,
   "id": "9c7e1724",
   "metadata": {},
   "outputs": [],
   "source": [
    "# primary energy consumption per capita\n",
    "# read from third row and drop last 13 rows, make first column the index\n",
    "pec_cap = pd.read_excel(path, sheet_name = \"Primary Energy - Cons capita\", \n",
    "                        header=2, skipfooter=13, index_col=\"Gigajoule per capita\")\n",
    "# remove two last columns\n",
    "pec_cap.drop(columns=pec_cap.columns[-2:], axis=1,  inplace=True)\n",
    "# remove empty rows\n",
    "pec_cap.dropna(inplace=True)\n",
    "# remove rows containing \"Total\"\n",
    "pec_cap = pec_cap[pec_cap.index.str.contains(\"Total\") == False]\n",
    "# Number of rows should be 92\n",
    "print(\"Number of rows =\", len(pec_cap.index))\n",
    "# list the first 5 countries\n",
    "pec_cap.head()"
   ]
  },
  {
   "cell_type": "markdown",
   "id": "8bbf0fa2",
   "metadata": {},
   "source": [
    "Then, we read the CO2 emissions. Again, after cleaning the data, we end up with 92 countries:"
   ]
  },
  {
   "cell_type": "code",
   "execution_count": null,
   "id": "ad03963c",
   "metadata": {},
   "outputs": [],
   "source": [
    "# co2 emissions from energy\n",
    "# read from third row and drop last 16 rows, make first column the index\n",
    "co2 = pd.read_excel(path, sheet_name = \"CO2 Emissions from Energy\", \n",
    "                    header=2, skipfooter=16, index_col=\"Million tonnes of carbon dioxide\")\n",
    "# remove three last columns\n",
    "co2.drop(columns=co2.columns[-3:], axis=1,  inplace=True)\n",
    "# remove empty rows\n",
    "co2.dropna(inplace=True)\n",
    "# remove rows containing \"Total\"\n",
    "co2 = co2[co2.index.str.contains(\"Total\") == False]\n",
    "# Number of rows should be 92\n",
    "print(\"Number of rows =\", len(co2.index))\n",
    "# list the first 5 countries\n",
    "co2.head()"
   ]
  },
  {
   "cell_type": "markdown",
   "id": "8ac3cf1f",
   "metadata": {},
   "source": [
    "Finally, we read the countries codes and regions. Notice that here, we need to use only those countries that are in the other DataFrames:"
   ]
  },
  {
   "cell_type": "code",
   "execution_count": null,
   "id": "6e266748",
   "metadata": {},
   "outputs": [],
   "source": [
    "# codes and regions\n",
    "cod_reg = pd.read_excel(path, sheet_name = \"Codes and regions\") \n",
    "# make first column the index of the DataFrame\n",
    "cod_reg.set_index(\"Country\", inplace=True)\n",
    "# use only the indexes/countries in the other DataFrames\n",
    "cod_reg = cod_reg.loc[pec.index]\n",
    "# Number of rows should be 92\n",
    "print(\"Number of rows =\", len(cod_reg.index))\n",
    "# list the first 5 countries\n",
    "cod_reg.head()"
   ]
  },
  {
   "cell_type": "markdown",
   "id": "5d88889a",
   "metadata": {},
   "source": [
    "To be on the safe side, let's verify the indexes of the DataFrames are equal:"
   ]
  },
  {
   "cell_type": "code",
   "execution_count": null,
   "id": "e5809eba",
   "metadata": {},
   "outputs": [],
   "source": [
    "# check the indexes of the DataFrames are equal\n",
    "print(pec.index.equals(pec_cap.index))\n",
    "print(pec.index.equals(co2.index))\n",
    "print(pec.index.equals(cod_reg.index))"
   ]
  },
  {
   "cell_type": "markdown",
   "id": "f1292479",
   "metadata": {},
   "source": [
    "Now we can compute the population by dividing the primary energy consumption by the primary energy consumption per capita. The population will be in millions:"
   ]
  },
  {
   "cell_type": "code",
   "execution_count": null,
   "id": "0bfa8070",
   "metadata": {},
   "outputs": [],
   "source": [
    "# compute population by dividing primary energy consumption pec,\n",
    "# by primary energy_consumption per capita pec_cap\n",
    "# Notice that pec is in Exajoules, while pec_cap is in Gigajoules\n",
    "# Therefore population in millions is\n",
    "population = (pec*1000)/pec_cap\n",
    "# set the name of the axis for the index to Millions\n",
    "population.rename_axis(\"Millions\", inplace=True)\n",
    "# list the first 5 countries\n",
    "population.head()"
   ]
  },
  {
   "cell_type": "markdown",
   "id": "dde3a2d9",
   "metadata": {},
   "source": [
    "We then divide the CO2 emissions by the population to get the CO2 emissions per capita. The result will be in Tonnes:"
   ]
  },
  {
   "cell_type": "code",
   "execution_count": null,
   "id": "4a62d680",
   "metadata": {},
   "outputs": [],
   "source": [
    "# compute CO2 emissions per capita by dividing the CO2 emissions co2 by population\n",
    "# notice that co2 is in million tonnes and the population is in millions\n",
    "# therefore CO2 emissions per capita in tonnes is\n",
    "co2_cap = co2 / population\n",
    "# set the name of the axis for the index to Tonnes \n",
    "co2_cap.rename_axis(\"Tonnes\", inplace=True)\n",
    "# list the first 5 countries\n",
    "co2_cap.head()"
   ]
  },
  {
   "cell_type": "markdown",
   "id": "dab3608a",
   "metadata": {},
   "source": [
    "Let's plot the last year of these data. Notice that we define lists of regions and colors of the regions, and iterate over them to plot them separately. Also the size of a country in the plot is controlled by the country's population. To better visualize these data, we make both axes logarithmic:"
   ]
  },
  {
   "cell_type": "code",
   "execution_count": null,
   "id": "3d3e1a58",
   "metadata": {},
   "outputs": [],
   "source": [
    "# graph as scatter the energy consumption per capita versus CO2 emissions per capita for the year 2021\n",
    "# color the points by region and make their size proportional to population\n",
    "\n",
    "# regions:\n",
    "# 1 = North America\n",
    "# 2 = South and Central America\n",
    "# 3 = Europe\n",
    "# 4 = CIS\n",
    "# 5 = Middle East\n",
    "# 6 = Africa\n",
    "# 7 = Asia Pacific\n",
    "regions = [1, 2, 3, 4, 5, 6, 7]\n",
    "regions = regions[::-1] # reverse list of regions\n",
    "\n",
    "# colors for regions\n",
    "colors = [\"palegreen\", \"darkgreen\", \"blue\", \"magenta\", \"orange\", \"red\", \"yellow\"]\n",
    "colors = colors[::-1] # reverse list of colors\n",
    "\n",
    "# year\n",
    "year = 2021\n",
    "\n",
    "# make figure\n",
    "fig, ax = plt.subplots(figsize=(15,7.5))\n",
    "\n",
    "# for each region\n",
    "for (region, color) in zip(regions, colors):\n",
    "    # extract region data\n",
    "    my_pec_cap = pec_cap[cod_reg[\"region\"] == region]\n",
    "    my_co2_cap = co2_cap[cod_reg[\"region\"] == region]\n",
    "    my_population = population[cod_reg[\"region\"] == region]\n",
    "    # plot data\n",
    "    ax.scatter(my_pec_cap[year], my_co2_cap[year], s=my_population[year]*2, \n",
    "               c=color, edgecolor=\"0\", alpha=0.75, zorder=2)\n",
    "    # plot labels\n",
    "    for index in my_pec_cap.index:\n",
    "        if my_co2_cap.loc[index,year] >= 0.1:\n",
    "            ax.text(x=my_pec_cap.loc[index,year], y=my_co2_cap.loc[index,year], \n",
    "                    s=cod_reg.loc[index,\"code\"], size=8, zorder=3)\n",
    "\n",
    "# plot year\n",
    "ax.text(x = 2.5, y = 0.85, s=str(year), \n",
    "        fontdict=dict(fontfamily=\"Courier New\", color=\"lightgray\", size=250), zorder=1)    \n",
    "\n",
    "# set axes\n",
    "ax.set_xlim([1, 2000])\n",
    "ax.set_ylim([0.1, 100])\n",
    "ax.set_xscale(\"log\") # x axis is log\n",
    "ax.set_yscale(\"log\") # y axis is log\n",
    "ax.set_xlabel(\"Primary energy consumption per capita [Gigajoules]\")\n",
    "ax.set_ylabel(\"CO2 emissions per capita [Tonnes]\")\n",
    "ax.grid(True)"
   ]
  },
  {
   "cell_type": "markdown",
   "id": "11aec8f4",
   "metadata": {},
   "source": [
    "That looks pretty cool, but now we would like to animate these data over time. To do that we use [celluloid](https://github.com/jwkvam/celluloid). This external module makes it easy to create an animation. If you don't have `celluloid`, please install it by running the cell below:"
   ]
  },
  {
   "cell_type": "code",
   "execution_count": null,
   "id": "2f48654a",
   "metadata": {},
   "outputs": [],
   "source": [
    "# run this cell to install celluloid\n",
    "import sys\n",
    "!{sys.executable} -m pip install celluloid"
   ]
  },
  {
   "cell_type": "markdown",
   "id": "5f98a85a",
   "metadata": {},
   "source": [
    "We can now plot every year and snap it using celluloid. The plot below does not look nice but the animation will, be patient:"
   ]
  },
  {
   "cell_type": "code",
   "execution_count": null,
   "id": "65140c8e",
   "metadata": {},
   "outputs": [],
   "source": [
    "# Create animation of energy consumption per capita versus CO2 emissions per capita over time\n",
    "\n",
    "# import celluloid Camera\n",
    "from celluloid import Camera\n",
    "\n",
    "# create figure\n",
    "fig, ax = plt.subplots(figsize=(15,7.5))\n",
    "# set axes\n",
    "ax.set_xlim([1, 2000])\n",
    "ax.set_ylim([0.1, 100])\n",
    "ax.set_xscale(\"log\") # x axis is log\n",
    "ax.set_yscale(\"log\") # y axis is log\n",
    "ax.set_xlabel(\"Primary energy consumption per capita [Gigajoules]\")\n",
    "ax.set_ylabel(\"CO2 emissions per capita [Tonnes]\")\n",
    "ax.grid(True)\n",
    "# create camera\n",
    "camera = Camera(fig)\n",
    "\n",
    "# for each year\n",
    "for year in pec_cap.columns:\n",
    "    # for each region\n",
    "    for (region, color) in zip(regions, colors):\n",
    "        # extract region data\n",
    "        my_pec_cap = pec_cap[cod_reg[\"region\"] == region]\n",
    "        my_co2_cap = co2_cap[cod_reg[\"region\"] == region]\n",
    "        my_population = population[cod_reg[\"region\"] == region]\n",
    "        # plot data\n",
    "        ax.scatter(my_pec_cap[year], my_co2_cap[year], s=my_population[year]*2, \n",
    "                   c=color, edgecolor=\"0\", alpha=0.75, zorder=2)\n",
    "        # plot labels\n",
    "        for index in my_pec_cap.index:\n",
    "            if my_co2_cap.loc[index,year] >= 0.1:\n",
    "                ax.text(x=my_pec_cap.loc[index,year], y=my_co2_cap.loc[index,year], \n",
    "                        s=cod_reg.loc[index,\"code\"], size=8, zorder=3)\n",
    "    # plot year\n",
    "    ax.text(x = 2.5, y = 0.85, s=str(year), \n",
    "            fontdict=dict(fontfamily=\"Courier New\", color=\"silver\", size=250), zorder=1)\n",
    "    # snap current plot\n",
    "    camera.snap()"
   ]
  },
  {
   "cell_type": "markdown",
   "id": "a2d7df73",
   "metadata": {},
   "source": [
    "Now we can create the animation:"
   ]
  },
  {
   "cell_type": "code",
   "execution_count": null,
   "id": "7ce4a246",
   "metadata": {},
   "outputs": [],
   "source": [
    "# create animation\n",
    "animation = camera.animate(interval = 500, repeat = True, repeat_delay = 500)"
   ]
  },
  {
   "cell_type": "markdown",
   "id": "fb4e9156",
   "metadata": {},
   "source": [
    "And play it in the notebook. To do this, you may need to install [ffmpeg](https://www.ffmpeg.org/download.html). If this is too much of a hassle, you can skip the cell below."
   ]
  },
  {
   "cell_type": "code",
   "execution_count": null,
   "id": "202a4ea2",
   "metadata": {},
   "outputs": [],
   "source": [
    "# import HTML to display animation in notebook\n",
    "from IPython.display import HTML\n",
    "# play animation. This takes some time, be patient\n",
    "HTML(animation.to_html5_video())"
   ]
  },
  {
   "cell_type": "markdown",
   "id": "b9db258e",
   "metadata": {},
   "source": [
    "Finally, we can save the animation as a movie 🙂:"
   ]
  },
  {
   "cell_type": "code",
   "execution_count": null,
   "id": "6c71dff3",
   "metadata": {},
   "outputs": [],
   "source": [
    "# save animation. This takes some time, be patient\n",
    "animation.save(\"PrimEnergyConsVsCO2PerCapita.mp4\", dpi=300)"
   ]
  }
 ],
 "metadata": {
  "kernelspec": {
   "display_name": "Python 3 (ipykernel)",
   "language": "python",
   "name": "python3"
  },
  "language_info": {
   "codemirror_mode": {
    "name": "ipython",
    "version": 3
   },
   "file_extension": ".py",
   "mimetype": "text/x-python",
   "name": "python",
   "nbconvert_exporter": "python",
   "pygments_lexer": "ipython3",
   "version": "3.9.13"
  }
 },
 "nbformat": 4,
 "nbformat_minor": 5
}
