{
 "cells": [
  {
   "cell_type": "markdown",
   "id": "ad02489c",
   "metadata": {},
   "source": [
    "# Day 2-Part 1: Plotting in 2D\n",
    "\n",
    "In this notebook, we will discuss briefly how to plot data in 2D in Python. The material in this section is borrowed from this excellent [resource](https://github.com/jrjohansson/scientific-python-lectures/blob/master/Lecture-4-Matplotlib.ipynb). For plotting data in 2D, you will need to import the `matplotlib.pyplot` module. Once this is done, you can plot data using this module:"
   ]
  },
  {
   "cell_type": "code",
   "execution_count": null,
   "id": "1934758c",
   "metadata": {},
   "outputs": [],
   "source": [
    "import numpy as np # import numpy library\n",
    "import matplotlib.pyplot as plt # import pyplot module under the name plt\n",
    "\n",
    "x = np.linspace(0,5,100) # 100 evenly spaced numbers over the interval 0 to 5\n",
    "plt.plot(x, x**2); # plot quadratic function"
   ]
  },
  {
   "cell_type": "markdown",
   "id": "d7fdc979",
   "metadata": {},
   "source": [
    "Notice that in the cell above, we also imported the `numpy` library to be able to work with arrays. We use the `numpy.linspace` function to create an array of 100 evenly spaced numbers between 0 and 5. Plotting these numbers against their squared values is easy and it just involves calling the `pyplot.plot` function with the *x* and *y* values. This is very similar to how programs such as [Matlab](https://www.mathworks.com) or [Octave](https://www.gnu.org/software/octave/) work.\n",
    "\n",
    "However, if you want to get more control of your plot, you can plot the data as follows:"
   ]
  },
  {
   "cell_type": "code",
   "execution_count": null,
   "id": "d04ecb83",
   "metadata": {},
   "outputs": [],
   "source": [
    "fig, ax = plt.subplots() # 1 x 1 grid of subplots, get instances of figure and axes\n",
    "\n",
    "ax.plot(x, x ** 2, \"r-\", label=\"y = x**2\") # plot quadratic function\n",
    "ax.plot(x, x ** 3, \"b--\", label=\"y = x**3\") # plot cubic function\n",
    "ax.legend(loc=\"upper left\") # add legend on upper left corner\n",
    "ax.set_xlabel(\"x\") # set x label\n",
    "ax.set_ylabel(\"y\") # set y label\n",
    "ax.set_xlim([0, 5]) # set x limits\n",
    "ax.set_ylim([0, 25]) # set y limits\n",
    "ax.set_title(\"quadratic and cubic functions\"); # set title"
   ]
  },
  {
   "cell_type": "markdown",
   "id": "03369099",
   "metadata": {},
   "source": [
    "The first line in the cell above create instances (objects) of the figure and axes. We can then send methods to these objects (yes, this is object oriented programming) to make our plot. In the cell above, we use the object `ax` to plot the quadratic and cubic functions, add a legend, label the axes, set the axes limits, and set the title of the plot. The `r-` and `b--` strings in the `ax.plot()` lines allow defining the color and type of the lines: red and continuous for the quadratic function, and blue and dashed for the cubic function. Markers can be specified in a similar way. For a complete description of these format strings see the *Notes* section of the [plot documentation](https://matplotlib.org/stable/api/_as_gen/matplotlib.pyplot.plot.html#matplotlib.pyplot.plot).\n",
    "\n",
    "What about if we want to add LaTeX formatted text to our plot? For example `\\alpha` to produce the symbol $\\alpha$. To do that, we need to use 'raw' text strings. These strings are appended with an `r`, like `r'\\alpha'` instead of `\\alpha`. Also notice that we need to encapsulate the LaTeX text within dollar signs:"
   ]
  },
  {
   "cell_type": "code",
   "execution_count": null,
   "id": "fbcf353d",
   "metadata": {},
   "outputs": [],
   "source": [
    "fig, ax = plt.subplots()\n",
    "\n",
    "ax.plot(x, x ** 2, \"r-\", label=r\"$y = \\alpha^2$\") # use raw text to include LaTeX symbols\n",
    "ax.plot(x, x ** 3, \"b--\", label=r\"$y = \\alpha^3$\") # use raw text to include LaTeX symbols\n",
    "ax.set_xlabel(r\"$\\alpha$\") # use raw text to include LaTeX symbols\n",
    "ax.set_ylabel(r\"$y$\") # use raw text to include LaTeX symbols\n",
    "ax.legend(loc=\"upper left\") # legend\n",
    "ax.set_xlim([0, 5]) # x limits\n",
    "ax.set_ylim([0, 25]) # y limits\n",
    "ax.set_title(\"quadratic and cubic functions\"); # title"
   ]
  },
  {
   "cell_type": "markdown",
   "id": "46e59481",
   "metadata": {},
   "source": [
    "That looks quite professional. What about if we want to plot the functions above in linear and logarithmic side by side graphs? This is easy, just provide the number of rows (1) and columns (2) in the subplot grid. You can also specify the figure size using the `figsize` attribute. Since in this case we have two plots, we have two axes objects, `ax[0]` is the left (linear) plot, and `ax[1]` is the right (logarithmic) plot. The `tight_layout` function adjusts the padding between the subplots so that they don't overlap:"
   ]
  },
  {
   "cell_type": "code",
   "execution_count": null,
   "id": "22691150",
   "metadata": {},
   "outputs": [],
   "source": [
    "# 1 x 2 grid of subplots\n",
    "# figsize specifies width and height in inches\n",
    "fig, ax = plt.subplots(1, 2, figsize=(10,4)) \n",
    "\n",
    "ax[0].plot(x, x ** 2, \"r-\", label=r\"$y = \\alpha^2$\") # plot quadratic function\n",
    "ax[0].plot(x, x ** 3, \"b--\", label=r\"$y = \\alpha^3$\") # plot cubic function\n",
    "ax[0].grid(True, linestyle=\"dashed\") # grid\n",
    "ax[0].legend(loc=\"upper left\") # legend\n",
    "ax[0].set_xlabel(r\"$\\alpha$\") # x label\n",
    "ax[0].set_ylabel(r\"$y$\") # y label\n",
    "ax[0].set_xlim([0, 5]) # x limits\n",
    "ax[0].set_ylim([0, 25]) # y limits\n",
    "ax[0].set_title(\"normal scale\"); # title\n",
    "\n",
    "ax[1].plot(x, x ** 2, \"r-\", label=r\"$y = \\alpha^2$\") # plot quadratic function\n",
    "ax[1].plot(x, x ** 3, \"b--\", label=r\"$y = \\alpha^3$\") # plot cubic function\n",
    "ax[1].set_yscale(\"log\") # y axis has log scale\n",
    "ax[1].grid(True, linestyle=\"dashed\") # grid\n",
    "ax[1].legend(loc=\"upper left\") # legend\n",
    "ax[1].set_xlabel(r\"$\\alpha$\") # x label\n",
    "ax[1].set_ylabel(r\"$y$\") # y label\n",
    "ax[1].set_xlim([0, 5]) # x limits\n",
    "ax[1].set_ylim([0.5, 25]) # y limits: lower limit can\"t be 0\n",
    "ax[1].set_title(\"logarithmic scale\") # title\n",
    "\n",
    "fig.tight_layout(); # add nice padding bw subplots"
   ]
  },
  {
   "cell_type": "markdown",
   "id": "20c8507b",
   "metadata": {},
   "source": [
    "This example illustrates a 2 x 2 subplot grid:"
   ]
  },
  {
   "cell_type": "code",
   "execution_count": null,
   "id": "1768b380",
   "metadata": {},
   "outputs": [],
   "source": [
    "fig, ax = plt.subplots(2, 2, figsize=(10,4)) # 2 x 2 grid of subplots\n",
    "ax[0,0].text(0.4, 0.5, \"subplot 1\", color = \"blue\") # upper left subplot\n",
    "ax[0,1].text(0.4, 0.5, \"subplot 2\", color = \"blue\") # upper right subplot\n",
    "ax[1,0].text(0.4, 0.5, \"subplot 3\", color = \"blue\") # lower left subplot\n",
    "ax[1,1].text(0.4, 0.5, \"subplot 4\", color = \"blue\") # lower right subplot\n",
    "fig.tight_layout; # add nice padding"
   ]
  },
  {
   "cell_type": "markdown",
   "id": "551d4c88",
   "metadata": {},
   "source": [
    "Here we use the `pyplot.text` function to add text to the plot at the specified *x* and *y* coordinates. The object oriented philosophy of the `pyplot` module is very powerful. You can control every single element of the plot. Here is an example that adds an inset to the plot of the quadratic and cubic functions so we can see how these functions are near the origin:"
   ]
  },
  {
   "cell_type": "code",
   "execution_count": null,
   "id": "004f653b",
   "metadata": {},
   "outputs": [],
   "source": [
    "fig, ax = plt.subplots() # 1 x 1 grid of suplots\n",
    "\n",
    "ax.plot(x, x ** 2, \"r-\", label=r\"$y = \\alpha^2$\") # plot quadratic function\n",
    "ax.plot(x, x ** 3, \"b--\", label=r\"$y = \\alpha^3$\") # plot cubic function\n",
    "ax.grid(True, linestyle=\"dashed\") # grid\n",
    "ax.legend(loc=\"lower right\") # legend\n",
    "ax.set_xlabel(r\"$\\alpha$\") # x label\n",
    "ax.set_ylabel(r\"$y$\") # y label\n",
    "ax.set_xlim([0, 5]) # x limits\n",
    "ax.set_ylim([0, 25]) # y limits\n",
    "ax.set_title(\"quadratic and cubic functions\"); # title\n",
    "\n",
    "# To make inset, add new inset axes\n",
    "inset_ax = fig.add_axes([0.2, 0.55, 0.25, 0.25]) # X, Y, width, height of the inset\n",
    "inset_ax.plot(x, x ** 2, \"r-\") # plot quadratic function\n",
    "inset_ax.plot(x, x ** 3, \"b--\") # plot cubic function\n",
    "inset_ax.set_xlim([0, 1]) # x limits\n",
    "inset_ax.set_ylim([0, 1]) # y limits\n",
    "inset_ax.set_xticks([0, 0.5, 1.0]) # set x ticks\n",
    "inset_ax.set_yticks([0.0, 0.5, 1.0]) # set y ticks\n",
    "inset_ax.set_title(\"zoom near origin\"); # set title of inset"
   ]
  },
  {
   "cell_type": "markdown",
   "id": "0a6b3e77",
   "metadata": {},
   "source": [
    "Saving the graph as an image file (e.g., png, pdf, svg, etc.) at a desired resolution (dots per inch, dpi) is easy:"
   ]
  },
  {
   "cell_type": "code",
   "execution_count": null,
   "id": "7b67638d",
   "metadata": {},
   "outputs": [],
   "source": [
    "fig.savefig(\"my_first_plot.png\", dpi=200) # save graph as png and resolution = 200 dpi"
   ]
  },
  {
   "cell_type": "markdown",
   "id": "72a0f498",
   "metadata": {},
   "source": [
    "In addition to the `plot` method, there are other functions for generating other kind of plots. You can check the `matplotlib` plot [gallery](https://matplotlib.org/gallery.html) for a complete list of available plot types. Here are some examples:"
   ]
  },
  {
   "cell_type": "code",
   "execution_count": null,
   "id": "b44a463e",
   "metadata": {},
   "outputs": [],
   "source": [
    "xx = np.linspace(-0.75, 1., 100) # 100 evenly spaced numbers over the interval -0.75 to 1.0\n",
    "n = np.array([0,1,2,3,4,5]) # another array\n",
    "\n",
    "fig, ax = plt.subplots(1, 4, figsize=(12,3)) # 1 x 4 grid of subplots\n",
    "\n",
    "ax[0].scatter(xx, xx + 0.25*np.random.randn(len(xx))) # scatter plot\n",
    "ax[0].set_title(\"scatter\") # set title\n",
    "\n",
    "ax[1].step(n, n**2, lw=2) # step plot\n",
    "ax[1].set_title(\"step\") # set title\n",
    "\n",
    "ax[2].bar(n, n**2, align=\"center\", width=0.5, alpha=0.5) # alpha plot\n",
    "ax[2].set_title(\"bar\") # set title\n",
    "\n",
    "ax[3].fill_between(x, x**2, x**3, color=\"red\", alpha=0.5); # filled plot\n",
    "ax[3].set_title(\"fill_between\") # set title\n",
    "\n",
    "fig.tight_layout(); # nice padding"
   ]
  },
  {
   "cell_type": "markdown",
   "id": "2ff78e9e",
   "metadata": {},
   "source": [
    "We'll come across these types of plots latter in the course. That's it. We know how to plot data."
   ]
  }
 ],
 "metadata": {
  "kernelspec": {
   "display_name": "Python 3 (ipykernel)",
   "language": "python",
   "name": "python3"
  },
  "language_info": {
   "codemirror_mode": {
    "name": "ipython",
    "version": 3
   },
   "file_extension": ".py",
   "mimetype": "text/x-python",
   "name": "python",
   "nbconvert_exporter": "python",
   "pygments_lexer": "ipython3",
   "version": "3.11.5"
  }
 },
 "nbformat": 4,
 "nbformat_minor": 5
}
