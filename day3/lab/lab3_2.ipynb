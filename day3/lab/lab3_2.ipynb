{
 "cells": [
  {
   "cell_type": "markdown",
   "id": "4840343c",
   "metadata": {},
   "source": [
    "# Lab 3\n",
    "\n",
    "## Exercise 2\n",
    "\n",
    "Smart phones can be used to measure the orientation of planes and lines. A plane is measured by placing the phone on the plane, and a line is measured by placing the long edge of the phone along the line.\n",
    "\n",
    "The coordinate system of the phone and its relations to a North-East-Down coordinate system are shown in the figure below (from [Allmendinger et al., 2017](https://www.sciencedirect.com/science/article/abs/pii/S0191814117301529?via%3Dihub)):\n",
    "\n",
    "<img src=\"../figures/phone.png\" alt=\"phone\" width=\"500\"/><br><br>\n",
    "\n",
    "The change in orientation of the device is given by the pitch, roll, and yaw angles (figure above). These can be translated to geological orientation, by calculating the unit vector parallel to $X'_3$ (the normal to the phone) for planes, and another vector parallel to $X'_2$ (the long axis of the phone) for lines. The equations are given by Allmendinger et al. (2017) and for convenience, I have summarized them in the functions below, which calculate the strike and dip of a plane or the trend and plunge of a line from the pitch, roll and yaw:"
   ]
  },
  {
   "cell_type": "code",
   "execution_count": null,
   "id": "a397cfee",
   "metadata": {},
   "outputs": [],
   "source": [
    "import math\n",
    "pi = math.pi # pi\n",
    "\n",
    "def plane_from_phone(pitch, roll, yaw):\n",
    "    \"\"\"\n",
    "    Compute the strike and dip of a plane\n",
    "    from the pitch, roll and yaw of the phone\n",
    "    placed on the plane. Input and output\n",
    "    angles are in degrees\n",
    "    \"\"\"\n",
    "    # convert pitch, roll and yaw to radians\n",
    "    pitch = pitch * pi/180 \n",
    "    roll = roll * pi/180 \n",
    "    yaw = yaw * pi/180 \n",
    "    \n",
    "    # direction cosines of pole in North-East-Down coordinate system\n",
    "    pole_north = math.sin(roll)*math.cos(yaw) + math.cos(roll)*math.sin(pitch)*math.sin(yaw)\n",
    "    pole_east = math.cos(roll)*math.sin(pitch)*math.cos(yaw) - math.sin(roll)*math.sin(yaw)\n",
    "    pole_down = -math.cos(roll)*math.cos(pitch)\n",
    "    \n",
    "    # trend and plunge of pole\n",
    "    trend, plunge = cart_to_sph(pole_north, pole_east, pole_down)\n",
    "    \n",
    "    # strike and dip of plane\n",
    "    strike = zero_twopi(trend + pi/2)\n",
    "    dip = pi/2 - plunge\n",
    "    \n",
    "    return strike*180/pi, dip*180/pi\n",
    "\n",
    "def line_from_phone(pitch, yaw):\n",
    "    \"\"\"\n",
    "    Compute the trend and plunge of a line\n",
    "    from the pitch and yaw of the phone,\n",
    "    with long axis along the line. Input and output\n",
    "    angles are in degrees\n",
    "    \"\"\"\n",
    "    # convert pitch, roll and yaw to radians\n",
    "    pitch = pitch * pi/180 \n",
    "    yaw = yaw * pi/180 \n",
    "    \n",
    "    # direction cosines of line in North-East-Down coordinate system\n",
    "    line_north = -math.sin(yaw)*math.cos(pitch)\n",
    "    line_east = -math.cos(yaw)*math.cos(pitch)\n",
    "    line_down = -math.sin(pitch)\n",
    "    \n",
    "    # trend and plunge of line\n",
    "    trend, plunge = cart_to_sph(line_north, line_east, line_down)\n",
    "    \n",
    "    return trend*180/pi, plunge*180/pi\n",
    "\n",
    "def cart_to_sph(cn,ce,cd):\n",
    "    \"\"\"\n",
    "    converts from north, east, down direction cosines \n",
    "    to trend and plunge\n",
    "    trend and plunge are returned in radians\n",
    "    \"\"\"\n",
    "    # make sure the line points downwards\n",
    "    if cd < 0.0:\n",
    "        cn *= -1\n",
    "        ce *= -1\n",
    "        cd *= -1\n",
    "    \n",
    "    # plunge \n",
    "    plg = math.asin(cd) \n",
    "    \n",
    "    # trend: If north direction cosine is zero, trend\n",
    "    # is east or west. Choose which one by the sign of\n",
    "    # the east direction cosine\n",
    "    if cn == 0.0:\n",
    "        if ce < 0.0:\n",
    "            trd = 3/2*pi # trend is west\n",
    "        else:\n",
    "            trd = pi/2 # trend is east\n",
    "    else:\n",
    "        trd = math.atan(ce/cn) \n",
    "        if cn < 0.0:\n",
    "            trd = trd + pi \n",
    "        # Make sure trend is between 0 and 2*pi\n",
    "        trd = zero_twopi(trd)\n",
    "    \n",
    "    return trd, plg\n",
    "\n",
    "def zero_twopi(a):\n",
    "    \"\"\"\n",
    "    makes sure input azimuth (a)\n",
    "    is within 0 to 2*pi\n",
    "    azimuth a is input/output in radians\n",
    "    \"\"\"\n",
    "    twopi = 2*pi\n",
    "    \n",
    "    if a < 0:\n",
    "        a += twopi\n",
    "    elif a >= twopi:\n",
    "        a -= twopi\n",
    "    \n",
    "    return a "
   ]
  },
  {
   "cell_type": "markdown",
   "id": "6cb5aaa3",
   "metadata": {},
   "source": [
    "For example, suppose the pitch is 45$^\\circ$, the roll is 0$^\\circ$, and the yaw is 0$^\\circ$. In this case, the phone's short edge or $X'_1$ axis (see figure above) points to magnetic north, and the phone is tilted 45$^\\circ$ to the east. This will correspond to the following plane and line orientation:"
   ]
  },
  {
   "cell_type": "code",
   "execution_count": null,
   "id": "4741cbc1",
   "metadata": {},
   "outputs": [],
   "source": [
    "strike, dip = plane_from_phone(45, 0, 0)\n",
    "trend, plunge = line_from_phone(45, 0)\n",
    "print('Plane strike = {:.1f}, dip = {:.1f}'.format(strike, dip))\n",
    "print('Line trend = {:.1f}, plunge = {:.1f}'.format(trend, plunge))"
   ]
  },
  {
   "cell_type": "markdown",
   "id": "09852240",
   "metadata": {},
   "source": [
    "### Tasks:\n",
    "\n",
    "1. Modify the functions above to incorporate uncertainties (errors) in pitch, roll, and yaw. These errors can arise from the device itself or from nearby metallic objects that affect the magnetic field.\n",
    "\n",
    "2. Suppose the pitch is 45$\\pm 1^\\circ$, the roll is 0$\\pm 1^\\circ$, and the yaw is 0$\\pm 5^\\circ$. What is the strike and dip of the measured plane, and the trend and plunge of the measured line? Give these answers with uncertainties.\n",
    "\n",
    "3. The file `phone.csv` in the data directory contains azimuth, pitch, and roll measurements while the phone was resting over a plane for a period of about 1 minute. The azimuth is the yaw + 270. Compute the mean and standard deviation of the pitch, yaw, and roll measurements. Assume these are the values and errors of the measurements, and use them to compute the strike and dip of the plane and their errors.\n",
    "\n",
    "*Hint*: Use the Python package uncertainties"
   ]
  },
  {
   "cell_type": "code",
   "execution_count": null,
   "id": "f16cad2b",
   "metadata": {},
   "outputs": [],
   "source": [
    "# Task 1: Modify functions here\n"
   ]
  },
  {
   "cell_type": "code",
   "execution_count": null,
   "id": "3040a098",
   "metadata": {},
   "outputs": [],
   "source": [
    "# Task 2: Compute plane and line orientation for pitch, roll, and yaw with uncertainties\n"
   ]
  },
  {
   "cell_type": "code",
   "execution_count": null,
   "id": "9462064b",
   "metadata": {},
   "outputs": [],
   "source": [
    "# Task 3: Compute strike and dip of plane for the data in phone.csv\n"
   ]
  }
 ],
 "metadata": {
  "kernelspec": {
   "display_name": "Python 3 (ipykernel)",
   "language": "python",
   "name": "python3"
  },
  "language_info": {
   "codemirror_mode": {
    "name": "ipython",
    "version": 3
   },
   "file_extension": ".py",
   "mimetype": "text/x-python",
   "name": "python",
   "nbconvert_exporter": "python",
   "pygments_lexer": "ipython3",
   "version": "3.9.13"
  }
 },
 "nbformat": 4,
 "nbformat_minor": 5
}
