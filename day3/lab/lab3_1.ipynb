{
 "cells": [
  {
   "cell_type": "markdown",
   "id": "2acfc573",
   "metadata": {},
   "source": [
    "# Lab 3\n",
    "\n",
    "## Exercise 1\n",
    "\n",
    "The spreadsheet `Aarlebrand_etal.xlsx` in the data directory contains petrographic data from Lower Cretaceous sandstones in the SW Barents Sea (see [Ärlebrand et al., 2021](https://www.sciencedirect.com/science/article/pii/S0264817221003202?via%3Dihub)). Let's read these data:"
   ]
  },
  {
   "cell_type": "code",
   "execution_count": null,
   "id": "0436d6fc",
   "metadata": {},
   "outputs": [],
   "source": [
    "import os\n",
    "import numpy as np\n",
    "import matplotlib.pyplot as plt\n",
    "import pandas as pd\n",
    "\n",
    "# read Aarlebrand et al data\n",
    "# read from row index 3 and drop last row\n",
    "path = os.path.join(\"..\", \"data\", \"Aarlebrand_etal.xlsx\")\n",
    "ss = pd.read_excel(path, header=3, skipfooter=1) \n",
    "ss"
   ]
  },
  {
   "cell_type": "markdown",
   "id": "cd059a67",
   "metadata": {},
   "source": [
    "This is a nice opportunity to introduce ternary diagrams. The [python-ternary](https://github.com/marcharper/python-ternary) library allows us to plot ternary diagrams. Let's install this package:"
   ]
  },
  {
   "cell_type": "code",
   "execution_count": null,
   "id": "79b13d9d",
   "metadata": {},
   "outputs": [],
   "source": [
    "# the python-ternary package is useful to make ternary diagrams\n",
    "# run this cell if ternary is not installed\n",
    "import sys\n",
    "!{sys.executable} -m pip install python-ternary"
   ]
  },
  {
   "cell_type": "markdown",
   "id": "d6c11124",
   "metadata": {},
   "source": [
    "Now let's plot the quartz (Q), feldspar (F), and lithic (L) fractions of the samples in a ternary diagram."
   ]
  },
  {
   "cell_type": "code",
   "execution_count": null,
   "id": "eefa4a17",
   "metadata": {},
   "outputs": [],
   "source": [
    "# ternary diagram of Q, F, and L\n",
    "\n",
    "import ternary\n",
    "\n",
    "# Set up the figure.\n",
    "fig, tax = ternary.figure(scale=100)\n",
    "fig.set_size_inches(10, 9)\n",
    "\n",
    "# Plot the points in groups.\n",
    "for name, group in ss.groupby(\"Facies association\"):\n",
    "    # the column order is right, top, and left corners\n",
    "    points = group[[\"L\", \"Q\", \"F\"]].values\n",
    "    tax.scatter(points, marker=\"o\", label=name)\n",
    "\n",
    "# Corner labels.\n",
    "fontsize = 32\n",
    "tax.top_corner_label(\"Q\", fontsize=fontsize, offset=0.2)\n",
    "tax.left_corner_label(\"F\", fontsize=fontsize, offset=0.1)\n",
    "tax.right_corner_label(\"L\", fontsize=fontsize, offset=0.1)\n",
    "\n",
    "# Decorations.\n",
    "tax.legend(title=\"Facies association\")\n",
    "tax.boundary(linewidth=1)\n",
    "tax.gridlines(multiple=10, color=\"gray\")\n",
    "tax.ticks(axis=\"lbr\", linewidth=1, multiple=10)\n",
    "tax.get_axes().axis(\"off\");"
   ]
  },
  {
   "cell_type": "markdown",
   "id": "58d0f840",
   "metadata": {},
   "source": [
    "This is figure 8A of Ärlebrand et al. (2021). The sandstones range from subarkose to lithic subarkose and sublitharenite.\n",
    "\n",
    "Now lets look at the influence of feldspar plus mica (F + Mu + Bt), total matrix (Mat + Pm), and cement (Cem) on porosity:\n",
    "\n",
    "1. Make a DataFrame with the following columns: Facies association, F + mica, Total matrix, Cem, and ɸ "
   ]
  },
  {
   "cell_type": "code",
   "execution_count": null,
   "id": "1f29445b",
   "metadata": {},
   "outputs": [],
   "source": [
    "# DataFrame with Facies association, F + mica, Total matrix, Cem, and ɸ \n"
   ]
  },
  {
   "cell_type": "markdown",
   "id": "0d66fbbb",
   "metadata": {},
   "source": [
    "2. For these variables, describe the overall statistics of the samples with facies association shallow marine:"
   ]
  },
  {
   "cell_type": "code",
   "execution_count": null,
   "id": "0c152135",
   "metadata": {},
   "outputs": [],
   "source": [
    "# overall statistics of shallow marine samples\n"
   ]
  },
  {
   "cell_type": "markdown",
   "id": "f789ce4e",
   "metadata": {},
   "source": [
    "3. The overall statistics of the samples with facies association delta:"
   ]
  },
  {
   "cell_type": "code",
   "execution_count": null,
   "id": "f45d306e",
   "metadata": {},
   "outputs": [],
   "source": [
    "# overall statistics of delta samples\n"
   ]
  },
  {
   "cell_type": "markdown",
   "id": "c04f7bc7",
   "metadata": {},
   "source": [
    "4. The overall statistics of the samples with facies association slope:"
   ]
  },
  {
   "cell_type": "code",
   "execution_count": null,
   "id": "3244a282",
   "metadata": {},
   "outputs": [],
   "source": [
    "# overall statistics of slope samples\n"
   ]
  },
  {
   "cell_type": "markdown",
   "id": "8f9f9d42",
   "metadata": {},
   "source": [
    "5. And the overall statistics of the samples with facies association basin floor:"
   ]
  },
  {
   "cell_type": "code",
   "execution_count": null,
   "id": "f26ad9ab",
   "metadata": {},
   "outputs": [],
   "source": [
    "# overall statistics of basin floor samples\n"
   ]
  },
  {
   "cell_type": "markdown",
   "id": "c3f00543",
   "metadata": {},
   "source": [
    "6. Make cross-plots of F + mica, Total marix, Cem, and ɸ using the `seaborn.pairplot` function. Color the data by facies associations:"
   ]
  },
  {
   "cell_type": "code",
   "execution_count": null,
   "id": "b7b85e77",
   "metadata": {},
   "outputs": [],
   "source": [
    "# Cross plots of F + mica, Total matrix, Cem, and ɸ. Color data by facies associations\n"
   ]
  },
  {
   "cell_type": "markdown",
   "id": "778341f1",
   "metadata": {},
   "source": [
    "7. Plot the covariance and correlation matrices for these variables. Use the `seaborn.heatmap` function:"
   ]
  },
  {
   "cell_type": "code",
   "execution_count": null,
   "id": "53e43d02",
   "metadata": {},
   "outputs": [],
   "source": [
    "# Covariance and correlation matrices for Mat, F + mica, and ɸ\n"
   ]
  },
  {
   "cell_type": "markdown",
   "id": "de89746a",
   "metadata": {},
   "source": [
    "8. Make three side by side scatter plots of ɸ versus F + mica, ɸ versus Total matrix, and ɸ versus Cem. Color the points by facies associations:"
   ]
  },
  {
   "cell_type": "code",
   "execution_count": null,
   "id": "28082744",
   "metadata": {},
   "outputs": [],
   "source": [
    "# Make three side by side plots of of ɸ versus F + mica, ɸ versus Total matrix, and ɸ versus Cem\n"
   ]
  },
  {
   "cell_type": "markdown",
   "id": "8c559df1",
   "metadata": {},
   "source": [
    "9. Perform linear regression fits to the graphs above and plot them over the graphs:"
   ]
  },
  {
   "cell_type": "code",
   "execution_count": null,
   "id": "fcf39bee",
   "metadata": {},
   "outputs": [],
   "source": [
    "# Linear regression fits to the graphs above\n"
   ]
  },
  {
   "cell_type": "markdown",
   "id": "92f3ba12",
   "metadata": {},
   "source": [
    "Conclude about your analysis. What is the influence of feldspar + mica, total matrix, and cement on porosity?"
   ]
  }
 ],
 "metadata": {
  "kernelspec": {
   "display_name": "Python 3 (ipykernel)",
   "language": "python",
   "name": "python3"
  },
  "language_info": {
   "codemirror_mode": {
    "name": "ipython",
    "version": 3
   },
   "file_extension": ".py",
   "mimetype": "text/x-python",
   "name": "python",
   "nbconvert_exporter": "python",
   "pygments_lexer": "ipython3",
   "version": "3.9.7"
  }
 },
 "nbformat": 4,
 "nbformat_minor": 5
}
